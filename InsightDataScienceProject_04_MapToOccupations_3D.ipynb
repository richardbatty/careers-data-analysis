{
 "cells": [
  {
   "cell_type": "markdown",
   "metadata": {},
   "source": [
    "# Insight Data Science Consulting Project: 80,000 hours - Chapter 4\n",
    "\n",
    "Note: this is a part of a consulting project with [80,000 hours](https://80000hours.org/).\n",
    "\n",
    "## Stage 1: Ask a question\n",
    "\n",
    "My objective is to rank skills (and possibly knowledge, tools & tech) based on how valuable they are. The skills are listed by US Department of Labor [here](https://www.onetonline.org/find/descriptor/browse/Skills/2.B.1/).\n",
    "\n",
    "There is no performance measure for this rank yet since it is subjective. Yet in the future, one can create a poll to rate pairwise. \n",
    "\n",
    "## Stage 2: Set the environment up and get data\n",
    "\n",
    "First, set up a directory for data and link it to this workplace. Download data into your choice of directory."
   ]
  },
  {
   "cell_type": "code",
   "execution_count": 1,
   "metadata": {
    "collapsed": false
   },
   "outputs": [],
   "source": [
    "#Set up the environment\n",
    "import pandas as pd                        #Pandas\n",
    "import numpy as np                         #Numpy\n",
    "import pycurl                              #For saving file from url\n",
    "import os                                  #For checking if a file exists\n",
    "from pandas.parser import CParserError     #For checking if a file contains a set of values\n",
    "import matplotlib.pyplot as plt            #For plotting\n",
    "import matplotlib\n",
    "%matplotlib inline\n",
    "\n",
    "#Some machine learning tools\n",
    "from sklearn.linear_model import LassoCV, LassoLarsCV, LinearRegression\n",
    "from sklearn.ensemble import RandomForestRegressor, GradientBoostingRegressor\n",
    "from sklearn.neural_network import MLPRegressor\n",
    "from sklearn.model_selection import StratifiedKFold\n",
    "from sklearn.feature_selection import RFECV\n",
    "\n",
    "#For radar graph plot\n",
    "import numpy as np\n",
    "import matplotlib\n",
    "import matplotlib.path as path\n",
    "import matplotlib.pyplot as plt\n",
    "import matplotlib.patches as patches\n",
    "\n",
    "# Set up data directory\n",
    "DataDir = \"C:/Users/Admin/Desktop/Insight/data/\"\n",
    "OutputDir = \"C:/Users/Admin/Desktop/Insight/output/\"\n"
   ]
  },
  {
   "cell_type": "markdown",
   "metadata": {},
   "source": [
    "## Stage 3+4+5: Feature exploration, scores, and results"
   ]
  },
  {
   "cell_type": "markdown",
   "metadata": {},
   "source": [
    "See previous chapter."
   ]
  },
  {
   "cell_type": "markdown",
   "metadata": {},
   "source": [
    "## Stage 6: Compute score for occupations"
   ]
  },
  {
   "cell_type": "code",
   "execution_count": 2,
   "metadata": {
    "collapsed": true
   },
   "outputs": [],
   "source": [
    "interest = 'Skill'\n",
    "#interest = 'Knowledge'"
   ]
  },
  {
   "cell_type": "code",
   "execution_count": 3,
   "metadata": {
    "collapsed": true
   },
   "outputs": [],
   "source": [
    "#First read the list of occupation \n",
    "filename = \"All_Career_Clusters.csv\"\n",
    "d0 = pd.pandas.read_csv(DataDir+filename)"
   ]
  },
  {
   "cell_type": "code",
   "execution_count": 4,
   "metadata": {
    "collapsed": true
   },
   "outputs": [],
   "source": [
    "d0.rename(columns={'Code':'SOC code'}, inplace=True)"
   ]
  },
  {
   "cell_type": "code",
   "execution_count": 5,
   "metadata": {
    "collapsed": false
   },
   "outputs": [],
   "source": [
    "filename = \"d\"+ interest +\".csv\"\n",
    "d1 = pd.read_csv(DataDir + filename)\n",
    "d1 = d1.drop('Unnamed: 0', 1)\n",
    "d1 = d1.set_index('SOC code')"
   ]
  },
  {
   "cell_type": "code",
   "execution_count": 6,
   "metadata": {
    "collapsed": false
   },
   "outputs": [],
   "source": [
    "filename = \"score_\" + interest + \".csv\" \n",
    "d2 = pd.read_csv(DataDir+ filename)\n",
    "d2 = d2.drop('Unnamed: 0', 1)\n",
    "d2.rename(columns={'index':interest}, inplace=True)\n",
    "d2 = d2.set_index(interest)"
   ]
  },
  {
   "cell_type": "code",
   "execution_count": 7,
   "metadata": {
    "collapsed": false
   },
   "outputs": [],
   "source": [
    "dOccupationScore = pd.DataFrame(index=d1.index)\n",
    "dOccupationScore['Income'] = 0\n",
    "dOccupationScore['Satisfaction'] = 0\n",
    "dOccupationScore['Learnability'] = 0\n",
    "dOccupationScore['Security'] = 0\n",
    "dOccupationScore = dOccupationScore[['Income','Satisfaction','Learnability', 'Security']]"
   ]
  },
  {
   "cell_type": "code",
   "execution_count": 8,
   "metadata": {
    "collapsed": false
   },
   "outputs": [
    {
     "data": {
      "text/plain": [
       "((953, 35), (35, 8))"
      ]
     },
     "execution_count": 8,
     "metadata": {},
     "output_type": "execute_result"
    }
   ],
   "source": [
    "d1.shape, d2.shape"
   ]
  },
  {
   "cell_type": "code",
   "execution_count": 9,
   "metadata": {
    "collapsed": false
   },
   "outputs": [],
   "source": [
    "for i in ['Income','Satisfaction','Learnability', 'Security']:\n",
    "    for j in d1.index:\n",
    "        for k in d1.columns:\n",
    "            dOccupationScore.loc[j,i] = dOccupationScore.loc[j,i] + d1.loc[j,k]*d2.loc[k,i]"
   ]
  },
  {
   "cell_type": "code",
   "execution_count": 10,
   "metadata": {
    "collapsed": false
   },
   "outputs": [],
   "source": [
    "exec(\"dOccupationScore_\" + interest + \"= dOccupationScore\")"
   ]
  },
  {
   "cell_type": "code",
   "execution_count": 11,
   "metadata": {
    "collapsed": true
   },
   "outputs": [],
   "source": [
    "exec(\"dOccupationScore = dOccupationScore_\" + interest)"
   ]
  },
  {
   "cell_type": "code",
   "execution_count": 12,
   "metadata": {
    "collapsed": false
   },
   "outputs": [
    {
     "data": {
      "text/html": [
       "<div>\n",
       "<table border=\"1\" class=\"dataframe\">\n",
       "  <thead>\n",
       "    <tr style=\"text-align: right;\">\n",
       "      <th></th>\n",
       "      <th>Income</th>\n",
       "      <th>Satisfaction</th>\n",
       "      <th>Learnability</th>\n",
       "      <th>Security</th>\n",
       "    </tr>\n",
       "    <tr>\n",
       "      <th>SOC code</th>\n",
       "      <th></th>\n",
       "      <th></th>\n",
       "      <th></th>\n",
       "      <th></th>\n",
       "    </tr>\n",
       "  </thead>\n",
       "  <tbody>\n",
       "    <tr>\n",
       "      <th>11-1011.00</th>\n",
       "      <td>3997.545801</td>\n",
       "      <td>681.907307</td>\n",
       "      <td>-3257.938285</td>\n",
       "      <td>3160.033157</td>\n",
       "    </tr>\n",
       "    <tr>\n",
       "      <th>11-1011.03</th>\n",
       "      <td>3328.889581</td>\n",
       "      <td>573.755212</td>\n",
       "      <td>-2744.503501</td>\n",
       "      <td>2660.366948</td>\n",
       "    </tr>\n",
       "    <tr>\n",
       "      <th>11-1021.00</th>\n",
       "      <td>3274.591492</td>\n",
       "      <td>568.868551</td>\n",
       "      <td>-2665.072519</td>\n",
       "      <td>2628.753581</td>\n",
       "    </tr>\n",
       "    <tr>\n",
       "      <th>11-2011.00</th>\n",
       "      <td>3153.180203</td>\n",
       "      <td>542.763968</td>\n",
       "      <td>-2608.551079</td>\n",
       "      <td>2534.761642</td>\n",
       "    </tr>\n",
       "    <tr>\n",
       "      <th>11-2021.00</th>\n",
       "      <td>3355.438992</td>\n",
       "      <td>574.722918</td>\n",
       "      <td>-2766.801352</td>\n",
       "      <td>2681.088120</td>\n",
       "    </tr>\n",
       "  </tbody>\n",
       "</table>\n",
       "</div>"
      ],
      "text/plain": [
       "                 Income  Satisfaction  Learnability     Security\n",
       "SOC code                                                        \n",
       "11-1011.00  3997.545801    681.907307  -3257.938285  3160.033157\n",
       "11-1011.03  3328.889581    573.755212  -2744.503501  2660.366948\n",
       "11-1021.00  3274.591492    568.868551  -2665.072519  2628.753581\n",
       "11-2011.00  3153.180203    542.763968  -2608.551079  2534.761642\n",
       "11-2021.00  3355.438992    574.722918  -2766.801352  2681.088120"
      ]
     },
     "execution_count": 12,
     "metadata": {},
     "output_type": "execute_result"
    }
   ],
   "source": [
    " dOccupationScore[:5]"
   ]
  },
  {
   "cell_type": "code",
   "execution_count": 13,
   "metadata": {
    "collapsed": false
   },
   "outputs": [],
   "source": [
    "#dOccupationScore['score'] = (dOccupationScore['Satisfaction'] + dOccupationScore['Income'] \\\n",
    "#                              + dOccupationScore['Security'] + dOccupationScore['Learnability'])/4\n",
    "dOccupationScore['score'] = (dOccupationScore['Satisfaction'] + dOccupationScore['Income'] + dOccupationScore['Security'])/3\n",
    "dOccupationScore['color'] = (dOccupationScore['score'] - np.min(dOccupationScore['score']))/ \\\n",
    "                        (np.max(dOccupationScore['score']) - np.min(dOccupationScore['score']))"
   ]
  },
  {
   "cell_type": "code",
   "execution_count": 14,
   "metadata": {
    "collapsed": false
   },
   "outputs": [
    {
     "data": {
      "text/plain": [
       "(193.62658662057549, 3997.5458008744663)"
      ]
     },
     "execution_count": 14,
     "metadata": {},
     "output_type": "execute_result"
    }
   ],
   "source": [
    "vmin = min(np.min(dOccupationScore['Income']),np.min(dOccupationScore['Satisfaction']), np.min(dOccupationScore['Security']))\n",
    "\n",
    "vmax = max(np.max(dOccupationScore['Income']),np.max(dOccupationScore['Satisfaction']), np.max(dOccupationScore['Security']))\n",
    "\n",
    "vmin, vmax"
   ]
  },
  {
   "cell_type": "code",
   "execution_count": 15,
   "metadata": {
    "collapsed": true
   },
   "outputs": [],
   "source": [
    "dOccupationScore = dOccupationScore.reset_index().merge(d0, left_on='SOC code',  right_on='SOC code', how ='left')\n",
    "dOccupationScore = dOccupationScore.sort_values(by='score',ascending=False)"
   ]
  },
  {
   "cell_type": "code",
   "execution_count": 16,
   "metadata": {
    "collapsed": false
   },
   "outputs": [],
   "source": [
    "# #For Skills and Knowledges combo. only\n",
    "# dOccupationScore_combine = pd.DataFrame(dOccupationScore_Skill\\\n",
    "#                                        [['SOC code', 'Income_scale','Satisfaction_scale','Learnability_scale','Security_scale']])\n",
    "\n",
    "# dOccupationScore_combine = dOccupationScore_combine.merge(dOccupationScore_Knowledge\n",
    "#                                                           , left_on='SOC code',  right_on='SOC code', how ='left')\n",
    "# dOccupationScore_combine = dOccupationScore_combine.drop(['Income','Satisfaction','Learnability','Security'],axis = 1)\n",
    "\n",
    "# dOccupationScore_combine['Income'] = 0.5*(dOccupationScore_combine['Income_scale_x'] + dOccupationScore_combine['Income_scale_y'])\n",
    "# dOccupationScore_combine['Satisfaction'] = 0.5*(dOccupationScore_combine['Satisfaction_scale_x'] + dOccupationScore_combine['Satisfaction_scale_y'])\n",
    "# dOccupationScore_combine['Learnability'] = 0.5*(dOccupationScore_combine['Learnability_scale_x'] + dOccupationScore_combine['Learnability_scale_y'])\n",
    "# dOccupationScore_combine['Security'] = 0.5*(dOccupationScore_combine['Security_scale_x'] + dOccupationScore_combine['Security_scale_y'])\n",
    "\n",
    "# dOccupationScore_combine['score'] = (dOccupationScore_combine['Satisfaction'] + dOccupationScore_combine['Income'] \\\n",
    "#                                      + dOccupationScore_combine['Security'] + dOccupationScore_combine['Learnability'])/4\n",
    "# dOccupationScore_combine['color'] = (dOccupationScore_combine['score'] - np.min(dOccupationScore_combine['score']))/ \\\n",
    "#                         (np.max(dOccupationScore_combine['score']) - np.min(dOccupationScore_combine['score']))\n",
    "# dOccupationScore = dOccupationScore_combine\n"
   ]
  },
  {
   "cell_type": "code",
   "execution_count": 17,
   "metadata": {
    "collapsed": false
   },
   "outputs": [
    {
     "data": {
      "text/html": [
       "<div>\n",
       "<table border=\"1\" class=\"dataframe\">\n",
       "  <thead>\n",
       "    <tr style=\"text-align: right;\">\n",
       "      <th></th>\n",
       "      <th>Career Pathway</th>\n",
       "      <th>Occupation</th>\n",
       "      <th>Income</th>\n",
       "      <th>Satisfaction</th>\n",
       "      <th>Learnability</th>\n",
       "      <th>Security</th>\n",
       "      <th>score</th>\n",
       "    </tr>\n",
       "  </thead>\n",
       "  <tbody>\n",
       "    <tr>\n",
       "      <th>0</th>\n",
       "      <td>Business Financial Management and Accounting</td>\n",
       "      <td>Chief Executives</td>\n",
       "      <td>3997.545801</td>\n",
       "      <td>681.907307</td>\n",
       "      <td>-3257.938285</td>\n",
       "      <td>3160.033157</td>\n",
       "      <td>2613.162088</td>\n",
       "    </tr>\n",
       "    <tr>\n",
       "      <th>2</th>\n",
       "      <td>Governance</td>\n",
       "      <td>Chief Executives</td>\n",
       "      <td>3997.545801</td>\n",
       "      <td>681.907307</td>\n",
       "      <td>-3257.938285</td>\n",
       "      <td>3160.033157</td>\n",
       "      <td>2613.162088</td>\n",
       "    </tr>\n",
       "    <tr>\n",
       "      <th>3</th>\n",
       "      <td>Family and Community Services</td>\n",
       "      <td>Chief Executives</td>\n",
       "      <td>3997.545801</td>\n",
       "      <td>681.907307</td>\n",
       "      <td>-3257.938285</td>\n",
       "      <td>3160.033157</td>\n",
       "      <td>2613.162088</td>\n",
       "    </tr>\n",
       "    <tr>\n",
       "      <th>4</th>\n",
       "      <td>Logistics Planning and Management Services</td>\n",
       "      <td>Chief Executives</td>\n",
       "      <td>3997.545801</td>\n",
       "      <td>681.907307</td>\n",
       "      <td>-3257.938285</td>\n",
       "      <td>3160.033157</td>\n",
       "      <td>2613.162088</td>\n",
       "    </tr>\n",
       "    <tr>\n",
       "      <th>1</th>\n",
       "      <td>Management</td>\n",
       "      <td>Chief Executives</td>\n",
       "      <td>3997.545801</td>\n",
       "      <td>681.907307</td>\n",
       "      <td>-3257.938285</td>\n",
       "      <td>3160.033157</td>\n",
       "      <td>2613.162088</td>\n",
       "    </tr>\n",
       "    <tr>\n",
       "      <th>68</th>\n",
       "      <td>Administration and Administrative Support</td>\n",
       "      <td>Education Administrators, Elementary and Secon...</td>\n",
       "      <td>3716.029174</td>\n",
       "      <td>644.437600</td>\n",
       "      <td>-3070.154627</td>\n",
       "      <td>2981.575684</td>\n",
       "      <td>2447.347486</td>\n",
       "    </tr>\n",
       "    <tr>\n",
       "      <th>90</th>\n",
       "      <td>Therapeutic Services</td>\n",
       "      <td>Medical and Health Services Managers</td>\n",
       "      <td>3679.255981</td>\n",
       "      <td>632.875310</td>\n",
       "      <td>-3031.874700</td>\n",
       "      <td>2933.934677</td>\n",
       "      <td>2415.355322</td>\n",
       "    </tr>\n",
       "    <tr>\n",
       "      <th>87</th>\n",
       "      <td>Management</td>\n",
       "      <td>Medical and Health Services Managers</td>\n",
       "      <td>3679.255981</td>\n",
       "      <td>632.875310</td>\n",
       "      <td>-3031.874700</td>\n",
       "      <td>2933.934677</td>\n",
       "      <td>2415.355322</td>\n",
       "    </tr>\n",
       "    <tr>\n",
       "      <th>88</th>\n",
       "      <td>Diagnostic Services</td>\n",
       "      <td>Medical and Health Services Managers</td>\n",
       "      <td>3679.255981</td>\n",
       "      <td>632.875310</td>\n",
       "      <td>-3031.874700</td>\n",
       "      <td>2933.934677</td>\n",
       "      <td>2415.355322</td>\n",
       "    </tr>\n",
       "    <tr>\n",
       "      <th>89</th>\n",
       "      <td>Health Informatics</td>\n",
       "      <td>Medical and Health Services Managers</td>\n",
       "      <td>3679.255981</td>\n",
       "      <td>632.875310</td>\n",
       "      <td>-3031.874700</td>\n",
       "      <td>2933.934677</td>\n",
       "      <td>2415.355322</td>\n",
       "    </tr>\n",
       "    <tr>\n",
       "      <th>723</th>\n",
       "      <td>Administration and Administrative Support</td>\n",
       "      <td>Coaches and Scouts</td>\n",
       "      <td>3632.201767</td>\n",
       "      <td>641.119760</td>\n",
       "      <td>-3001.332127</td>\n",
       "      <td>2966.742825</td>\n",
       "      <td>2413.354784</td>\n",
       "    </tr>\n",
       "    <tr>\n",
       "      <th>724</th>\n",
       "      <td>Teaching/Training</td>\n",
       "      <td>Coaches and Scouts</td>\n",
       "      <td>3632.201767</td>\n",
       "      <td>641.119760</td>\n",
       "      <td>-3001.332127</td>\n",
       "      <td>2966.742825</td>\n",
       "      <td>2413.354784</td>\n",
       "    </tr>\n",
       "    <tr>\n",
       "      <th>105</th>\n",
       "      <td>Public Management and Administration</td>\n",
       "      <td>Social and Community Service Managers</td>\n",
       "      <td>3624.724246</td>\n",
       "      <td>625.697058</td>\n",
       "      <td>-2983.916864</td>\n",
       "      <td>2904.535112</td>\n",
       "      <td>2384.985472</td>\n",
       "    </tr>\n",
       "    <tr>\n",
       "      <th>107</th>\n",
       "      <td>Family and Community Services</td>\n",
       "      <td>Social and Community Service Managers</td>\n",
       "      <td>3624.724246</td>\n",
       "      <td>625.697058</td>\n",
       "      <td>-2983.916864</td>\n",
       "      <td>2904.535112</td>\n",
       "      <td>2384.985472</td>\n",
       "    </tr>\n",
       "    <tr>\n",
       "      <th>103</th>\n",
       "      <td>Management</td>\n",
       "      <td>Social and Community Service Managers</td>\n",
       "      <td>3624.724246</td>\n",
       "      <td>625.697058</td>\n",
       "      <td>-2983.916864</td>\n",
       "      <td>2904.535112</td>\n",
       "      <td>2384.985472</td>\n",
       "    </tr>\n",
       "    <tr>\n",
       "      <th>104</th>\n",
       "      <td>Governance</td>\n",
       "      <td>Social and Community Service Managers</td>\n",
       "      <td>3624.724246</td>\n",
       "      <td>625.697058</td>\n",
       "      <td>-2983.916864</td>\n",
       "      <td>2904.535112</td>\n",
       "      <td>2384.985472</td>\n",
       "    </tr>\n",
       "    <tr>\n",
       "      <th>106</th>\n",
       "      <td>Counseling and Mental Health Services</td>\n",
       "      <td>Social and Community Service Managers</td>\n",
       "      <td>3624.724246</td>\n",
       "      <td>625.697058</td>\n",
       "      <td>-2983.916864</td>\n",
       "      <td>2904.535112</td>\n",
       "      <td>2384.985472</td>\n",
       "    </tr>\n",
       "    <tr>\n",
       "      <th>420</th>\n",
       "      <td>Therapeutic Services</td>\n",
       "      <td>Industrial-Organizational Psychologists</td>\n",
       "      <td>3645.470426</td>\n",
       "      <td>618.108699</td>\n",
       "      <td>-3001.514779</td>\n",
       "      <td>2846.434552</td>\n",
       "      <td>2370.004559</td>\n",
       "    </tr>\n",
       "    <tr>\n",
       "      <th>421</th>\n",
       "      <td>Counseling and Mental Health Services</td>\n",
       "      <td>Industrial-Organizational Psychologists</td>\n",
       "      <td>3645.470426</td>\n",
       "      <td>618.108699</td>\n",
       "      <td>-3001.514779</td>\n",
       "      <td>2846.434552</td>\n",
       "      <td>2370.004559</td>\n",
       "    </tr>\n",
       "    <tr>\n",
       "      <th>816</th>\n",
       "      <td>Therapeutic Services</td>\n",
       "      <td>Preventive Medicine Physicians</td>\n",
       "      <td>3601.054281</td>\n",
       "      <td>622.542814</td>\n",
       "      <td>-2995.331769</td>\n",
       "      <td>2877.112281</td>\n",
       "      <td>2366.903125</td>\n",
       "    </tr>\n",
       "    <tr>\n",
       "      <th>806</th>\n",
       "      <td>Therapeutic Services</td>\n",
       "      <td>Psychiatrists</td>\n",
       "      <td>3512.558986</td>\n",
       "      <td>614.397335</td>\n",
       "      <td>-2968.874599</td>\n",
       "      <td>2868.142431</td>\n",
       "      <td>2331.699584</td>\n",
       "    </tr>\n",
       "    <tr>\n",
       "      <th>384</th>\n",
       "      <td>Health Informatics</td>\n",
       "      <td>Epidemiologists</td>\n",
       "      <td>3567.821821</td>\n",
       "      <td>611.750367</td>\n",
       "      <td>-2961.327115</td>\n",
       "      <td>2811.177955</td>\n",
       "      <td>2330.250048</td>\n",
       "    </tr>\n",
       "    <tr>\n",
       "      <th>385</th>\n",
       "      <td>Counseling and Mental Health Services</td>\n",
       "      <td>Epidemiologists</td>\n",
       "      <td>3567.821821</td>\n",
       "      <td>611.750367</td>\n",
       "      <td>-2961.327115</td>\n",
       "      <td>2811.177955</td>\n",
       "      <td>2330.250048</td>\n",
       "    </tr>\n",
       "    <tr>\n",
       "      <th>386</th>\n",
       "      <td>Science and Math</td>\n",
       "      <td>Epidemiologists</td>\n",
       "      <td>3567.821821</td>\n",
       "      <td>611.750367</td>\n",
       "      <td>-2961.327115</td>\n",
       "      <td>2811.177955</td>\n",
       "      <td>2330.250048</td>\n",
       "    </tr>\n",
       "    <tr>\n",
       "      <th>69</th>\n",
       "      <td>Administration and Administrative Support</td>\n",
       "      <td>Education Administrators, Postsecondary</td>\n",
       "      <td>3497.149064</td>\n",
       "      <td>609.654161</td>\n",
       "      <td>-2922.119857</td>\n",
       "      <td>2864.830549</td>\n",
       "      <td>2323.877924</td>\n",
       "    </tr>\n",
       "    <tr>\n",
       "      <th>19</th>\n",
       "      <td>Management and Entrepreneurship</td>\n",
       "      <td>Sales Managers</td>\n",
       "      <td>3493.989858</td>\n",
       "      <td>602.051399</td>\n",
       "      <td>-2892.394972</td>\n",
       "      <td>2826.407504</td>\n",
       "      <td>2307.482920</td>\n",
       "    </tr>\n",
       "    <tr>\n",
       "      <th>18</th>\n",
       "      <td>Consumer Services</td>\n",
       "      <td>Sales Managers</td>\n",
       "      <td>3493.989858</td>\n",
       "      <td>602.051399</td>\n",
       "      <td>-2892.394972</td>\n",
       "      <td>2826.407504</td>\n",
       "      <td>2307.482920</td>\n",
       "    </tr>\n",
       "    <tr>\n",
       "      <th>17</th>\n",
       "      <td>Marketing</td>\n",
       "      <td>Sales Managers</td>\n",
       "      <td>3493.989858</td>\n",
       "      <td>602.051399</td>\n",
       "      <td>-2892.394972</td>\n",
       "      <td>2826.407504</td>\n",
       "      <td>2307.482920</td>\n",
       "    </tr>\n",
       "    <tr>\n",
       "      <th>16</th>\n",
       "      <td>Management</td>\n",
       "      <td>Sales Managers</td>\n",
       "      <td>3493.989858</td>\n",
       "      <td>602.051399</td>\n",
       "      <td>-2892.394972</td>\n",
       "      <td>2826.407504</td>\n",
       "      <td>2307.482920</td>\n",
       "    </tr>\n",
       "    <tr>\n",
       "      <th>20</th>\n",
       "      <td>Marketing Communications and Promotion</td>\n",
       "      <td>Sales Managers</td>\n",
       "      <td>3493.989858</td>\n",
       "      <td>602.051399</td>\n",
       "      <td>-2892.394972</td>\n",
       "      <td>2826.407504</td>\n",
       "      <td>2307.482920</td>\n",
       "    </tr>\n",
       "    <tr>\n",
       "      <th>...</th>\n",
       "      <td>...</td>\n",
       "      <td>...</td>\n",
       "      <td>...</td>\n",
       "      <td>...</td>\n",
       "      <td>...</td>\n",
       "      <td>...</td>\n",
       "      <td>...</td>\n",
       "    </tr>\n",
       "    <tr>\n",
       "      <th>1381</th>\n",
       "      <td>Production</td>\n",
       "      <td>Coil Winders, Tapers, and Finishers</td>\n",
       "      <td>1565.178247</td>\n",
       "      <td>278.740883</td>\n",
       "      <td>-1249.722510</td>\n",
       "      <td>1239.547602</td>\n",
       "      <td>1027.822244</td>\n",
       "    </tr>\n",
       "    <tr>\n",
       "      <th>1449</th>\n",
       "      <td>Production</td>\n",
       "      <td>Shoe Machine Operators and Tenders</td>\n",
       "      <td>1616.414696</td>\n",
       "      <td>281.395798</td>\n",
       "      <td>-1223.096376</td>\n",
       "      <td>1182.107514</td>\n",
       "      <td>1026.639336</td>\n",
       "    </tr>\n",
       "    <tr>\n",
       "      <th>1252</th>\n",
       "      <td>Construction</td>\n",
       "      <td>Helpers--Painters, Paperhangers, Plasterers, a...</td>\n",
       "      <td>1540.078403</td>\n",
       "      <td>282.488121</td>\n",
       "      <td>-1235.058324</td>\n",
       "      <td>1250.577730</td>\n",
       "      <td>1024.381418</td>\n",
       "    </tr>\n",
       "    <tr>\n",
       "      <th>977</th>\n",
       "      <td>Restaurants and Food/Beverage Services</td>\n",
       "      <td>Dining Room and Cafeteria Attendants and Barte...</td>\n",
       "      <td>1520.738739</td>\n",
       "      <td>269.240176</td>\n",
       "      <td>-1254.984066</td>\n",
       "      <td>1281.762832</td>\n",
       "      <td>1023.913916</td>\n",
       "    </tr>\n",
       "    <tr>\n",
       "      <th>970</th>\n",
       "      <td>Restaurants and Food/Beverage Services</td>\n",
       "      <td>Food Preparation Workers</td>\n",
       "      <td>1515.034791</td>\n",
       "      <td>269.955599</td>\n",
       "      <td>-1256.369253</td>\n",
       "      <td>1273.942211</td>\n",
       "      <td>1019.644200</td>\n",
       "    </tr>\n",
       "    <tr>\n",
       "      <th>1391</th>\n",
       "      <td>Construction</td>\n",
       "      <td>Structural Metal Fabricators and Fitters</td>\n",
       "      <td>1553.734648</td>\n",
       "      <td>274.058019</td>\n",
       "      <td>-1249.189995</td>\n",
       "      <td>1230.585816</td>\n",
       "      <td>1019.459495</td>\n",
       "    </tr>\n",
       "    <tr>\n",
       "      <th>1392</th>\n",
       "      <td>Production</td>\n",
       "      <td>Structural Metal Fabricators and Fitters</td>\n",
       "      <td>1553.734648</td>\n",
       "      <td>274.058019</td>\n",
       "      <td>-1249.189995</td>\n",
       "      <td>1230.585816</td>\n",
       "      <td>1019.459495</td>\n",
       "    </tr>\n",
       "    <tr>\n",
       "      <th>1287</th>\n",
       "      <td>Natural Resources Systems</td>\n",
       "      <td>Rock Splitters, Quarry</td>\n",
       "      <td>1555.928499</td>\n",
       "      <td>277.541073</td>\n",
       "      <td>-1221.649915</td>\n",
       "      <td>1216.522620</td>\n",
       "      <td>1016.664064</td>\n",
       "    </tr>\n",
       "    <tr>\n",
       "      <th>1448</th>\n",
       "      <td>Production</td>\n",
       "      <td>Shoe and Leather Workers and Repairers</td>\n",
       "      <td>1529.214284</td>\n",
       "      <td>269.780578</td>\n",
       "      <td>-1232.460499</td>\n",
       "      <td>1244.073423</td>\n",
       "      <td>1014.356095</td>\n",
       "    </tr>\n",
       "    <tr>\n",
       "      <th>987</th>\n",
       "      <td>Maintenance/Operations</td>\n",
       "      <td>Landscaping and Groundskeeping Workers</td>\n",
       "      <td>1525.546859</td>\n",
       "      <td>272.957340</td>\n",
       "      <td>-1206.212386</td>\n",
       "      <td>1204.584689</td>\n",
       "      <td>1001.029629</td>\n",
       "    </tr>\n",
       "    <tr>\n",
       "      <th>986</th>\n",
       "      <td>Plant Systems</td>\n",
       "      <td>Landscaping and Groundskeeping Workers</td>\n",
       "      <td>1525.546859</td>\n",
       "      <td>272.957340</td>\n",
       "      <td>-1206.212386</td>\n",
       "      <td>1204.584689</td>\n",
       "      <td>1001.029629</td>\n",
       "    </tr>\n",
       "    <tr>\n",
       "      <th>1458</th>\n",
       "      <td>Production</td>\n",
       "      <td>Textile Knitting and Weaving Machine Setters, ...</td>\n",
       "      <td>1544.839843</td>\n",
       "      <td>275.008116</td>\n",
       "      <td>-1193.100834</td>\n",
       "      <td>1182.372814</td>\n",
       "      <td>1000.740258</td>\n",
       "    </tr>\n",
       "    <tr>\n",
       "      <th>1457</th>\n",
       "      <td>Maintenance, Installation and Repair</td>\n",
       "      <td>Textile Knitting and Weaving Machine Setters, ...</td>\n",
       "      <td>1544.839843</td>\n",
       "      <td>275.008116</td>\n",
       "      <td>-1193.100834</td>\n",
       "      <td>1182.372814</td>\n",
       "      <td>1000.740258</td>\n",
       "    </tr>\n",
       "    <tr>\n",
       "      <th>978</th>\n",
       "      <td>Restaurants and Food/Beverage Services</td>\n",
       "      <td>Dishwashers</td>\n",
       "      <td>1520.455926</td>\n",
       "      <td>270.878307</td>\n",
       "      <td>-1188.843930</td>\n",
       "      <td>1199.707397</td>\n",
       "      <td>997.013877</td>\n",
       "    </tr>\n",
       "    <tr>\n",
       "      <th>1535</th>\n",
       "      <td>Production</td>\n",
       "      <td>Helpers--Production Workers</td>\n",
       "      <td>1525.817395</td>\n",
       "      <td>269.138198</td>\n",
       "      <td>-1196.322890</td>\n",
       "      <td>1184.284138</td>\n",
       "      <td>993.079910</td>\n",
       "    </tr>\n",
       "    <tr>\n",
       "      <th>1615</th>\n",
       "      <td>Natural Resources Systems</td>\n",
       "      <td>Wellhead Pumpers</td>\n",
       "      <td>1554.419116</td>\n",
       "      <td>276.628279</td>\n",
       "      <td>-1175.711674</td>\n",
       "      <td>1146.835387</td>\n",
       "      <td>992.627594</td>\n",
       "    </tr>\n",
       "    <tr>\n",
       "      <th>1610</th>\n",
       "      <td>Production</td>\n",
       "      <td>Machine Feeders and Offbearers</td>\n",
       "      <td>1517.815172</td>\n",
       "      <td>268.942706</td>\n",
       "      <td>-1185.225412</td>\n",
       "      <td>1180.701927</td>\n",
       "      <td>989.153268</td>\n",
       "    </tr>\n",
       "    <tr>\n",
       "      <th>1519</th>\n",
       "      <td>Production</td>\n",
       "      <td>Painting, Coating, and Decorating Workers</td>\n",
       "      <td>1495.954108</td>\n",
       "      <td>267.893178</td>\n",
       "      <td>-1204.725498</td>\n",
       "      <td>1202.257801</td>\n",
       "      <td>988.701696</td>\n",
       "    </tr>\n",
       "    <tr>\n",
       "      <th>1518</th>\n",
       "      <td>Visual Arts</td>\n",
       "      <td>Painting, Coating, and Decorating Workers</td>\n",
       "      <td>1495.954108</td>\n",
       "      <td>267.893178</td>\n",
       "      <td>-1204.725498</td>\n",
       "      <td>1202.257801</td>\n",
       "      <td>988.701696</td>\n",
       "    </tr>\n",
       "    <tr>\n",
       "      <th>1067</th>\n",
       "      <td>Professional Sales and Marketing</td>\n",
       "      <td>Models</td>\n",
       "      <td>1453.462018</td>\n",
       "      <td>255.715494</td>\n",
       "      <td>-1234.338428</td>\n",
       "      <td>1226.168338</td>\n",
       "      <td>978.448617</td>\n",
       "    </tr>\n",
       "    <tr>\n",
       "      <th>982</th>\n",
       "      <td>Lodging</td>\n",
       "      <td>Janitors and Cleaners, Except Maids and Housek...</td>\n",
       "      <td>1422.763170</td>\n",
       "      <td>260.957065</td>\n",
       "      <td>-1169.367265</td>\n",
       "      <td>1181.822141</td>\n",
       "      <td>955.180792</td>\n",
       "    </tr>\n",
       "    <tr>\n",
       "      <th>1601</th>\n",
       "      <td>Natural Resources Systems</td>\n",
       "      <td>Loading Machine Operators, Underground Mining</td>\n",
       "      <td>1430.290894</td>\n",
       "      <td>260.801477</td>\n",
       "      <td>-1111.898139</td>\n",
       "      <td>1113.897750</td>\n",
       "      <td>934.996707</td>\n",
       "    </tr>\n",
       "    <tr>\n",
       "      <th>1431</th>\n",
       "      <td>Production</td>\n",
       "      <td>Solderers and Brazers</td>\n",
       "      <td>1429.952343</td>\n",
       "      <td>252.254901</td>\n",
       "      <td>-1114.835081</td>\n",
       "      <td>1107.177273</td>\n",
       "      <td>929.794839</td>\n",
       "    </tr>\n",
       "    <tr>\n",
       "      <th>1199</th>\n",
       "      <td>Power, Structural and Technical Systems</td>\n",
       "      <td>Agricultural Equipment Operators</td>\n",
       "      <td>1385.402952</td>\n",
       "      <td>251.558929</td>\n",
       "      <td>-1039.356324</td>\n",
       "      <td>1039.273833</td>\n",
       "      <td>892.078571</td>\n",
       "    </tr>\n",
       "    <tr>\n",
       "      <th>1403</th>\n",
       "      <td>Food Products and Processing Systems</td>\n",
       "      <td>Slaughterers and Meat Packers</td>\n",
       "      <td>1304.853291</td>\n",
       "      <td>231.139283</td>\n",
       "      <td>-1058.534240</td>\n",
       "      <td>1074.141995</td>\n",
       "      <td>870.044856</td>\n",
       "    </tr>\n",
       "    <tr>\n",
       "      <th>1404</th>\n",
       "      <td>Restaurants and Food/Beverage Services</td>\n",
       "      <td>Slaughterers and Meat Packers</td>\n",
       "      <td>1304.853291</td>\n",
       "      <td>231.139283</td>\n",
       "      <td>-1058.534240</td>\n",
       "      <td>1074.141995</td>\n",
       "      <td>870.044856</td>\n",
       "    </tr>\n",
       "    <tr>\n",
       "      <th>1618</th>\n",
       "      <td>Natural Resources Systems</td>\n",
       "      <td>Mine Shuttle Car Operators</td>\n",
       "      <td>1327.665186</td>\n",
       "      <td>238.927298</td>\n",
       "      <td>-1017.038715</td>\n",
       "      <td>1016.736096</td>\n",
       "      <td>861.109526</td>\n",
       "    </tr>\n",
       "    <tr>\n",
       "      <th>1606</th>\n",
       "      <td>Facility and Mobile Equipment Maintenance</td>\n",
       "      <td>Cleaners of Vehicles and Equipment</td>\n",
       "      <td>1161.055818</td>\n",
       "      <td>212.569571</td>\n",
       "      <td>-885.276906</td>\n",
       "      <td>903.038320</td>\n",
       "      <td>758.887903</td>\n",
       "    </tr>\n",
       "    <tr>\n",
       "      <th>1445</th>\n",
       "      <td>Personal Care Services</td>\n",
       "      <td>Pressers, Textile, Garment, and Related Materials</td>\n",
       "      <td>1152.823500</td>\n",
       "      <td>202.218156</td>\n",
       "      <td>-890.469941</td>\n",
       "      <td>886.105164</td>\n",
       "      <td>747.048940</td>\n",
       "    </tr>\n",
       "    <tr>\n",
       "      <th>1198</th>\n",
       "      <td>Food Products and Processing Systems</td>\n",
       "      <td>Graders and Sorters, Agricultural Products</td>\n",
       "      <td>1087.507495</td>\n",
       "      <td>193.626587</td>\n",
       "      <td>-932.959658</td>\n",
       "      <td>941.593839</td>\n",
       "      <td>740.909307</td>\n",
       "    </tr>\n",
       "  </tbody>\n",
       "</table>\n",
       "<p>1621 rows × 7 columns</p>\n",
       "</div>"
      ],
      "text/plain": [
       "                                    Career Pathway  \\\n",
       "0     Business Financial Management and Accounting   \n",
       "2                                       Governance   \n",
       "3                    Family and Community Services   \n",
       "4       Logistics Planning and Management Services   \n",
       "1                                       Management   \n",
       "68       Administration and Administrative Support   \n",
       "90                            Therapeutic Services   \n",
       "87                                      Management   \n",
       "88                             Diagnostic Services   \n",
       "89                              Health Informatics   \n",
       "723      Administration and Administrative Support   \n",
       "724                              Teaching/Training   \n",
       "105           Public Management and Administration   \n",
       "107                  Family and Community Services   \n",
       "103                                     Management   \n",
       "104                                     Governance   \n",
       "106          Counseling and Mental Health Services   \n",
       "420                           Therapeutic Services   \n",
       "421          Counseling and Mental Health Services   \n",
       "816                           Therapeutic Services   \n",
       "806                           Therapeutic Services   \n",
       "384                             Health Informatics   \n",
       "385          Counseling and Mental Health Services   \n",
       "386                               Science and Math   \n",
       "69       Administration and Administrative Support   \n",
       "19                 Management and Entrepreneurship   \n",
       "18                               Consumer Services   \n",
       "17                                       Marketing   \n",
       "16                                      Management   \n",
       "20          Marketing Communications and Promotion   \n",
       "...                                            ...   \n",
       "1381                                    Production   \n",
       "1449                                    Production   \n",
       "1252                                  Construction   \n",
       "977         Restaurants and Food/Beverage Services   \n",
       "970         Restaurants and Food/Beverage Services   \n",
       "1391                                  Construction   \n",
       "1392                                    Production   \n",
       "1287                     Natural Resources Systems   \n",
       "1448                                    Production   \n",
       "987                         Maintenance/Operations   \n",
       "986                                  Plant Systems   \n",
       "1458                                    Production   \n",
       "1457          Maintenance, Installation and Repair   \n",
       "978         Restaurants and Food/Beverage Services   \n",
       "1535                                    Production   \n",
       "1615                     Natural Resources Systems   \n",
       "1610                                    Production   \n",
       "1519                                    Production   \n",
       "1518                                   Visual Arts   \n",
       "1067              Professional Sales and Marketing   \n",
       "982                                        Lodging   \n",
       "1601                     Natural Resources Systems   \n",
       "1431                                    Production   \n",
       "1199       Power, Structural and Technical Systems   \n",
       "1403          Food Products and Processing Systems   \n",
       "1404        Restaurants and Food/Beverage Services   \n",
       "1618                     Natural Resources Systems   \n",
       "1606     Facility and Mobile Equipment Maintenance   \n",
       "1445                        Personal Care Services   \n",
       "1198          Food Products and Processing Systems   \n",
       "\n",
       "                                             Occupation       Income  \\\n",
       "0                                      Chief Executives  3997.545801   \n",
       "2                                      Chief Executives  3997.545801   \n",
       "3                                      Chief Executives  3997.545801   \n",
       "4                                      Chief Executives  3997.545801   \n",
       "1                                      Chief Executives  3997.545801   \n",
       "68    Education Administrators, Elementary and Secon...  3716.029174   \n",
       "90                 Medical and Health Services Managers  3679.255981   \n",
       "87                 Medical and Health Services Managers  3679.255981   \n",
       "88                 Medical and Health Services Managers  3679.255981   \n",
       "89                 Medical and Health Services Managers  3679.255981   \n",
       "723                                  Coaches and Scouts  3632.201767   \n",
       "724                                  Coaches and Scouts  3632.201767   \n",
       "105               Social and Community Service Managers  3624.724246   \n",
       "107               Social and Community Service Managers  3624.724246   \n",
       "103               Social and Community Service Managers  3624.724246   \n",
       "104               Social and Community Service Managers  3624.724246   \n",
       "106               Social and Community Service Managers  3624.724246   \n",
       "420             Industrial-Organizational Psychologists  3645.470426   \n",
       "421             Industrial-Organizational Psychologists  3645.470426   \n",
       "816                      Preventive Medicine Physicians  3601.054281   \n",
       "806                                       Psychiatrists  3512.558986   \n",
       "384                                     Epidemiologists  3567.821821   \n",
       "385                                     Epidemiologists  3567.821821   \n",
       "386                                     Epidemiologists  3567.821821   \n",
       "69              Education Administrators, Postsecondary  3497.149064   \n",
       "19                                       Sales Managers  3493.989858   \n",
       "18                                       Sales Managers  3493.989858   \n",
       "17                                       Sales Managers  3493.989858   \n",
       "16                                       Sales Managers  3493.989858   \n",
       "20                                       Sales Managers  3493.989858   \n",
       "...                                                 ...          ...   \n",
       "1381                Coil Winders, Tapers, and Finishers  1565.178247   \n",
       "1449                 Shoe Machine Operators and Tenders  1616.414696   \n",
       "1252  Helpers--Painters, Paperhangers, Plasterers, a...  1540.078403   \n",
       "977   Dining Room and Cafeteria Attendants and Barte...  1520.738739   \n",
       "970                            Food Preparation Workers  1515.034791   \n",
       "1391           Structural Metal Fabricators and Fitters  1553.734648   \n",
       "1392           Structural Metal Fabricators and Fitters  1553.734648   \n",
       "1287                             Rock Splitters, Quarry  1555.928499   \n",
       "1448             Shoe and Leather Workers and Repairers  1529.214284   \n",
       "987              Landscaping and Groundskeeping Workers  1525.546859   \n",
       "986              Landscaping and Groundskeeping Workers  1525.546859   \n",
       "1458  Textile Knitting and Weaving Machine Setters, ...  1544.839843   \n",
       "1457  Textile Knitting and Weaving Machine Setters, ...  1544.839843   \n",
       "978                                         Dishwashers  1520.455926   \n",
       "1535                        Helpers--Production Workers  1525.817395   \n",
       "1615                                   Wellhead Pumpers  1554.419116   \n",
       "1610                     Machine Feeders and Offbearers  1517.815172   \n",
       "1519          Painting, Coating, and Decorating Workers  1495.954108   \n",
       "1518          Painting, Coating, and Decorating Workers  1495.954108   \n",
       "1067                                             Models  1453.462018   \n",
       "982   Janitors and Cleaners, Except Maids and Housek...  1422.763170   \n",
       "1601      Loading Machine Operators, Underground Mining  1430.290894   \n",
       "1431                              Solderers and Brazers  1429.952343   \n",
       "1199                   Agricultural Equipment Operators  1385.402952   \n",
       "1403                      Slaughterers and Meat Packers  1304.853291   \n",
       "1404                      Slaughterers and Meat Packers  1304.853291   \n",
       "1618                         Mine Shuttle Car Operators  1327.665186   \n",
       "1606                 Cleaners of Vehicles and Equipment  1161.055818   \n",
       "1445  Pressers, Textile, Garment, and Related Materials  1152.823500   \n",
       "1198         Graders and Sorters, Agricultural Products  1087.507495   \n",
       "\n",
       "      Satisfaction  Learnability     Security        score  \n",
       "0       681.907307  -3257.938285  3160.033157  2613.162088  \n",
       "2       681.907307  -3257.938285  3160.033157  2613.162088  \n",
       "3       681.907307  -3257.938285  3160.033157  2613.162088  \n",
       "4       681.907307  -3257.938285  3160.033157  2613.162088  \n",
       "1       681.907307  -3257.938285  3160.033157  2613.162088  \n",
       "68      644.437600  -3070.154627  2981.575684  2447.347486  \n",
       "90      632.875310  -3031.874700  2933.934677  2415.355322  \n",
       "87      632.875310  -3031.874700  2933.934677  2415.355322  \n",
       "88      632.875310  -3031.874700  2933.934677  2415.355322  \n",
       "89      632.875310  -3031.874700  2933.934677  2415.355322  \n",
       "723     641.119760  -3001.332127  2966.742825  2413.354784  \n",
       "724     641.119760  -3001.332127  2966.742825  2413.354784  \n",
       "105     625.697058  -2983.916864  2904.535112  2384.985472  \n",
       "107     625.697058  -2983.916864  2904.535112  2384.985472  \n",
       "103     625.697058  -2983.916864  2904.535112  2384.985472  \n",
       "104     625.697058  -2983.916864  2904.535112  2384.985472  \n",
       "106     625.697058  -2983.916864  2904.535112  2384.985472  \n",
       "420     618.108699  -3001.514779  2846.434552  2370.004559  \n",
       "421     618.108699  -3001.514779  2846.434552  2370.004559  \n",
       "816     622.542814  -2995.331769  2877.112281  2366.903125  \n",
       "806     614.397335  -2968.874599  2868.142431  2331.699584  \n",
       "384     611.750367  -2961.327115  2811.177955  2330.250048  \n",
       "385     611.750367  -2961.327115  2811.177955  2330.250048  \n",
       "386     611.750367  -2961.327115  2811.177955  2330.250048  \n",
       "69      609.654161  -2922.119857  2864.830549  2323.877924  \n",
       "19      602.051399  -2892.394972  2826.407504  2307.482920  \n",
       "18      602.051399  -2892.394972  2826.407504  2307.482920  \n",
       "17      602.051399  -2892.394972  2826.407504  2307.482920  \n",
       "16      602.051399  -2892.394972  2826.407504  2307.482920  \n",
       "20      602.051399  -2892.394972  2826.407504  2307.482920  \n",
       "...            ...           ...          ...          ...  \n",
       "1381    278.740883  -1249.722510  1239.547602  1027.822244  \n",
       "1449    281.395798  -1223.096376  1182.107514  1026.639336  \n",
       "1252    282.488121  -1235.058324  1250.577730  1024.381418  \n",
       "977     269.240176  -1254.984066  1281.762832  1023.913916  \n",
       "970     269.955599  -1256.369253  1273.942211  1019.644200  \n",
       "1391    274.058019  -1249.189995  1230.585816  1019.459495  \n",
       "1392    274.058019  -1249.189995  1230.585816  1019.459495  \n",
       "1287    277.541073  -1221.649915  1216.522620  1016.664064  \n",
       "1448    269.780578  -1232.460499  1244.073423  1014.356095  \n",
       "987     272.957340  -1206.212386  1204.584689  1001.029629  \n",
       "986     272.957340  -1206.212386  1204.584689  1001.029629  \n",
       "1458    275.008116  -1193.100834  1182.372814  1000.740258  \n",
       "1457    275.008116  -1193.100834  1182.372814  1000.740258  \n",
       "978     270.878307  -1188.843930  1199.707397   997.013877  \n",
       "1535    269.138198  -1196.322890  1184.284138   993.079910  \n",
       "1615    276.628279  -1175.711674  1146.835387   992.627594  \n",
       "1610    268.942706  -1185.225412  1180.701927   989.153268  \n",
       "1519    267.893178  -1204.725498  1202.257801   988.701696  \n",
       "1518    267.893178  -1204.725498  1202.257801   988.701696  \n",
       "1067    255.715494  -1234.338428  1226.168338   978.448617  \n",
       "982     260.957065  -1169.367265  1181.822141   955.180792  \n",
       "1601    260.801477  -1111.898139  1113.897750   934.996707  \n",
       "1431    252.254901  -1114.835081  1107.177273   929.794839  \n",
       "1199    251.558929  -1039.356324  1039.273833   892.078571  \n",
       "1403    231.139283  -1058.534240  1074.141995   870.044856  \n",
       "1404    231.139283  -1058.534240  1074.141995   870.044856  \n",
       "1618    238.927298  -1017.038715  1016.736096   861.109526  \n",
       "1606    212.569571   -885.276906   903.038320   758.887903  \n",
       "1445    202.218156   -890.469941   886.105164   747.048940  \n",
       "1198    193.626587   -932.959658   941.593839   740.909307  \n",
       "\n",
       "[1621 rows x 7 columns]"
      ]
     },
     "execution_count": 17,
     "metadata": {},
     "output_type": "execute_result"
    }
   ],
   "source": [
    "dOccupationScore[['Career Pathway','Occupation','Income','Satisfaction','Learnability','Security','score']]"
   ]
  },
  {
   "cell_type": "code",
   "execution_count": 459,
   "metadata": {
    "collapsed": true
   },
   "outputs": [],
   "source": [
    "#set color map\n",
    "cmap = matplotlib.cm.get_cmap('RdYlGn')"
   ]
  },
  {
   "cell_type": "code",
   "execution_count": 460,
   "metadata": {
    "collapsed": true
   },
   "outputs": [],
   "source": [
    "dSummary = pd.concat([dOccupationScore[:20], dOccupationScore[-20:]])\n",
    "Dir = OutputDir + interest + '_occupation/'\n",
    "#dSummary = dOccupationScore[-20:]\n",
    "#Dir = OutputDir + 'worst_occupation/'"
   ]
  },
  {
   "cell_type": "code",
   "execution_count": 461,
   "metadata": {
    "collapsed": true
   },
   "outputs": [],
   "source": [
    "def radarplot(df, lower, upper, space):\n",
    "    df = df.sort_values(by='score')\n",
    "    for count in range(0,len(df)):\n",
    "\n",
    "        #Adapted from Copyright (C) 2011  Nicolas P. Rougier\n",
    "\n",
    "        # Data to be represented\n",
    "        # ----------\n",
    "        properties = ['Income','Satisfaction', 'Security','Learnability']\n",
    "        values = df.loc[df.index[count],:][['Income','Satisfaction', 'Security','Learnability']]\n",
    "        # ----------\n",
    "\n",
    "        # Choose some nice colors\n",
    "        matplotlib.rc('axes', facecolor = 'white')\n",
    "\n",
    "        # Make figure background the same colors as axes \n",
    "        fig = plt.figure(figsize=(8,6), facecolor='white')\n",
    "\n",
    "\n",
    "        # Use a polar axes\n",
    "        axes = plt.subplot(111, polar=True)\n",
    "\n",
    "        # Set ticks to the number of properties (in radians)\n",
    "        #t = np.arange(0,2*np.pi,2*np.pi/len(properties))\n",
    "        t = np.arange(np.pi/4,2*np.pi,2*np.pi/len(properties))\n",
    "        plt.xticks(t, [])\n",
    "\n",
    "        # Set yticks from 0 to 10\n",
    "        #plt.yticks(np.linspace(0,10,11))\n",
    "        #plt.yticks(np.linspace(0,4,9))\n",
    "        plt.yticks(np.linspace(lower,upper,(upper-lower)/space+1))\n",
    "\n",
    "        # Draw polygon representing values\n",
    "        points = [(x,y) for x,y in zip(t,values)]\n",
    "        points.append(points[0])\n",
    "        points = np.array(points)\n",
    "        codes = [path.Path.MOVETO,] + \\\n",
    "                [path.Path.LINETO,]*(len(values) -1) + \\\n",
    "                [ path.Path.CLOSEPOLY ]\n",
    "        _path = path.Path(points, codes)\n",
    "        _patch = patches.PathPatch(_path, fill=True, color=cmap(df.loc[df.index[count],'color']), linewidth=0, alpha=.7)\n",
    "        axes.add_patch(_patch)\n",
    "        _patch = patches.PathPatch(_path, fill=False, linewidth = 2)\n",
    "        axes.add_patch(_patch)\n",
    "\n",
    "        # Draw circles at value points\n",
    "        plt.scatter(points[:,0],points[:,1], linewidth=2,\n",
    "                    s=50, color='white', edgecolor='black', zorder=10)\n",
    "\n",
    "        # Set axes limits\n",
    "        #plt.ylim(0,10)\n",
    "        #plt.ylim(0,4)\n",
    "        plt.ylim(lower,upper)\n",
    "\n",
    "        #add tile\n",
    "        #plt.title(df.index[count])\n",
    "        #add tile\n",
    "        plt.title(df.loc[df.index[count],'Career Pathway']+'/ \\n ' + df.loc[df.index[count],'Occupation'])\n",
    "\n",
    "        # Draw ytick labels to make sure they fit properly\n",
    "        for i in range(len(properties)):\n",
    "            angle_rad = i/float(len(properties))*2*np.pi + np.pi/4\n",
    "            angle_deg = i/float(len(properties))*360 + 45\n",
    "            ha = \"right\"\n",
    "            if angle_rad < np.pi/2 or angle_rad > 3*np.pi/2: ha = \"left\"\n",
    "            #plt.text(angle_rad, 10.75, properties[i], size=14,\n",
    "            #plt.text(angle_rad, 4.75, properties[i], size=14,\n",
    "            plt.text(angle_rad, upper + 0.25, properties[i], size=14,\n",
    "                     horizontalalignment=ha, verticalalignment=\"center\")\n",
    "\n",
    "            # A variant on label orientation\n",
    "            #    plt.text(angle_rad, 11, properties[i], size=14,\n",
    "            #             rotation=angle_deg-90,\n",
    "            #             horizontalalignment='center', verticalalignment=\"center\")\n",
    "\n",
    "        # Done\n",
    "        plt.savefig(Dir + str(count+1).zfill(2) +'-radar-chart.png', facecolor='white');\n",
    "        #plt.show()\n",
    "        plt.clf();"
   ]
  },
  {
   "cell_type": "code",
   "execution_count": 464,
   "metadata": {
    "collapsed": false
   },
   "outputs": [
    {
     "data": {
      "text/plain": [
       "<matplotlib.figure.Figure at 0x103ffba8>"
      ]
     },
     "metadata": {},
     "output_type": "display_data"
    },
    {
     "data": {
      "text/plain": [
       "<matplotlib.figure.Figure at 0x14fcb860>"
      ]
     },
     "metadata": {},
     "output_type": "display_data"
    },
    {
     "data": {
      "text/plain": [
       "<matplotlib.figure.Figure at 0x119dc128>"
      ]
     },
     "metadata": {},
     "output_type": "display_data"
    },
    {
     "data": {
      "text/plain": [
       "<matplotlib.figure.Figure at 0xc79d978>"
      ]
     },
     "metadata": {},
     "output_type": "display_data"
    },
    {
     "data": {
      "text/plain": [
       "<matplotlib.figure.Figure at 0xc432c50>"
      ]
     },
     "metadata": {},
     "output_type": "display_data"
    },
    {
     "data": {
      "text/plain": [
       "<matplotlib.figure.Figure at 0xc432908>"
      ]
     },
     "metadata": {},
     "output_type": "display_data"
    },
    {
     "data": {
      "text/plain": [
       "<matplotlib.figure.Figure at 0x113359b0>"
      ]
     },
     "metadata": {},
     "output_type": "display_data"
    },
    {
     "data": {
      "text/plain": [
       "<matplotlib.figure.Figure at 0x11335c88>"
      ]
     },
     "metadata": {},
     "output_type": "display_data"
    },
    {
     "data": {
      "text/plain": [
       "<matplotlib.figure.Figure at 0xedb0198>"
      ]
     },
     "metadata": {},
     "output_type": "display_data"
    },
    {
     "data": {
      "text/plain": [
       "<matplotlib.figure.Figure at 0xdfdb438>"
      ]
     },
     "metadata": {},
     "output_type": "display_data"
    },
    {
     "data": {
      "text/plain": [
       "<matplotlib.figure.Figure at 0x1161f9e8>"
      ]
     },
     "metadata": {},
     "output_type": "display_data"
    },
    {
     "data": {
      "text/plain": [
       "<matplotlib.figure.Figure at 0x11e2e320>"
      ]
     },
     "metadata": {},
     "output_type": "display_data"
    },
    {
     "data": {
      "text/plain": [
       "<matplotlib.figure.Figure at 0xe13b908>"
      ]
     },
     "metadata": {},
     "output_type": "display_data"
    },
    {
     "data": {
      "text/plain": [
       "<matplotlib.figure.Figure at 0xf248860>"
      ]
     },
     "metadata": {},
     "output_type": "display_data"
    },
    {
     "data": {
      "text/plain": [
       "<matplotlib.figure.Figure at 0xe4049b0>"
      ]
     },
     "metadata": {},
     "output_type": "display_data"
    },
    {
     "data": {
      "text/plain": [
       "<matplotlib.figure.Figure at 0xc785278>"
      ]
     },
     "metadata": {},
     "output_type": "display_data"
    },
    {
     "data": {
      "text/plain": [
       "<matplotlib.figure.Figure at 0xe70de48>"
      ]
     },
     "metadata": {},
     "output_type": "display_data"
    },
    {
     "data": {
      "text/plain": [
       "<matplotlib.figure.Figure at 0x11ae4320>"
      ]
     },
     "metadata": {},
     "output_type": "display_data"
    },
    {
     "data": {
      "text/plain": [
       "<matplotlib.figure.Figure at 0xe13b198>"
      ]
     },
     "metadata": {},
     "output_type": "display_data"
    },
    {
     "data": {
      "text/plain": [
       "<matplotlib.figure.Figure at 0xefce8d0>"
      ]
     },
     "metadata": {},
     "output_type": "display_data"
    },
    {
     "data": {
      "text/plain": [
       "<matplotlib.figure.Figure at 0xe38d4e0>"
      ]
     },
     "metadata": {},
     "output_type": "display_data"
    },
    {
     "data": {
      "text/plain": [
       "<matplotlib.figure.Figure at 0x117e7c50>"
      ]
     },
     "metadata": {},
     "output_type": "display_data"
    },
    {
     "data": {
      "text/plain": [
       "<matplotlib.figure.Figure at 0xe96f9e8>"
      ]
     },
     "metadata": {},
     "output_type": "display_data"
    },
    {
     "data": {
      "text/plain": [
       "<matplotlib.figure.Figure at 0xe412278>"
      ]
     },
     "metadata": {},
     "output_type": "display_data"
    },
    {
     "data": {
      "text/plain": [
       "<matplotlib.figure.Figure at 0x116280b8>"
      ]
     },
     "metadata": {},
     "output_type": "display_data"
    },
    {
     "data": {
      "text/plain": [
       "<matplotlib.figure.Figure at 0x11e2d278>"
      ]
     },
     "metadata": {},
     "output_type": "display_data"
    },
    {
     "data": {
      "text/plain": [
       "<matplotlib.figure.Figure at 0xeb5c160>"
      ]
     },
     "metadata": {},
     "output_type": "display_data"
    },
    {
     "data": {
      "text/plain": [
       "<matplotlib.figure.Figure at 0x11fb4b70>"
      ]
     },
     "metadata": {},
     "output_type": "display_data"
    },
    {
     "data": {
      "text/plain": [
       "<matplotlib.figure.Figure at 0x11654d30>"
      ]
     },
     "metadata": {},
     "output_type": "display_data"
    },
    {
     "data": {
      "text/plain": [
       "<matplotlib.figure.Figure at 0xe671c50>"
      ]
     },
     "metadata": {},
     "output_type": "display_data"
    },
    {
     "data": {
      "text/plain": [
       "<matplotlib.figure.Figure at 0xee45668>"
      ]
     },
     "metadata": {},
     "output_type": "display_data"
    },
    {
     "data": {
      "text/plain": [
       "<matplotlib.figure.Figure at 0x14f79390>"
      ]
     },
     "metadata": {},
     "output_type": "display_data"
    },
    {
     "data": {
      "text/plain": [
       "<matplotlib.figure.Figure at 0xe6e1358>"
      ]
     },
     "metadata": {},
     "output_type": "display_data"
    },
    {
     "data": {
      "text/plain": [
       "<matplotlib.figure.Figure at 0x1064ae48>"
      ]
     },
     "metadata": {},
     "output_type": "display_data"
    },
    {
     "data": {
      "text/plain": [
       "<matplotlib.figure.Figure at 0xe110a90>"
      ]
     },
     "metadata": {},
     "output_type": "display_data"
    },
    {
     "data": {
      "text/plain": [
       "<matplotlib.figure.Figure at 0x14faf320>"
      ]
     },
     "metadata": {},
     "output_type": "display_data"
    },
    {
     "data": {
      "text/plain": [
       "<matplotlib.figure.Figure at 0xe2f4e10>"
      ]
     },
     "metadata": {},
     "output_type": "display_data"
    },
    {
     "data": {
      "text/plain": [
       "<matplotlib.figure.Figure at 0xf5cceb8>"
      ]
     },
     "metadata": {},
     "output_type": "display_data"
    },
    {
     "data": {
      "text/plain": [
       "<matplotlib.figure.Figure at 0xc79d438>"
      ]
     },
     "metadata": {},
     "output_type": "display_data"
    },
    {
     "data": {
      "text/plain": [
       "<matplotlib.figure.Figure at 0x11fbc6a0>"
      ]
     },
     "metadata": {},
     "output_type": "display_data"
    }
   ],
   "source": [
    "radarplot(dSummary, 0, 400, 100) #for skill\n",
    "radarplot(dSummary, -1200, 1200, 600); # for knowledge"
   ]
  },
  {
   "cell_type": "code",
   "execution_count": 463,
   "metadata": {
    "collapsed": false
   },
   "outputs": [],
   "source": [
    "d = dOccupationScore\n",
    "d = d.reset_index()\n",
    "d.to_csv(DataDir + 'occupationscore_'+interest+'.csv')"
   ]
  },
  {
   "cell_type": "code",
   "execution_count": null,
   "metadata": {
    "collapsed": true
   },
   "outputs": [],
   "source": []
  }
 ],
 "metadata": {
  "anaconda-cloud": {},
  "kernelspec": {
   "display_name": "Python [default]",
   "language": "python",
   "name": "python2"
  },
  "language_info": {
   "codemirror_mode": {
    "name": "ipython",
    "version": 2
   },
   "file_extension": ".py",
   "mimetype": "text/x-python",
   "name": "python",
   "nbconvert_exporter": "python",
   "pygments_lexer": "ipython2",
   "version": "2.7.12"
  }
 },
 "nbformat": 4,
 "nbformat_minor": 0
}
