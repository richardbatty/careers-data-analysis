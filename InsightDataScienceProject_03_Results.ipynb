{
 "cells": [
  {
   "cell_type": "markdown",
   "metadata": {},
   "source": [
    "# Insight Data Science Consulting Project: 80,000 hours - Chapter 3\n",
    "\n",
    "Note: this is a part of a consulting project with [80,000 hours](https://80000hours.org/).\n",
    "\n",
    "## Stage 1: Ask a question\n",
    "\n",
    "My objective is to rank skills (and possibly knowledge, tools & tech) based on how valuable they are. The skills are listed by US Department of Labor [here](https://www.onetonline.org/find/descriptor/browse/Skills/2.B.1/).\n",
    "\n",
    "There is no performance measure for this rank yet since it is subjective. Yet in the future, one can create a poll to rate pairwise. \n",
    "\n",
    "## Stage 2: Set the environment up and get data\n",
    "\n",
    "First, set up a directory for data and link it to this workplace. Download data into your choice of directory."
   ]
  },
  {
   "cell_type": "code",
   "execution_count": 1,
   "metadata": {
    "collapsed": false
   },
   "outputs": [],
   "source": [
    "#Set up the environment\n",
    "import pandas as pd                        #Pandas\n",
    "import numpy as np                         #Numpy\n",
    "import pycurl                              #For saving file from url\n",
    "import os                                  #For checking if a file exists\n",
    "from pandas.parser import CParserError     #For checking if a file contains a set of values\n",
    "import matplotlib.pyplot as plt            #For plotting\n",
    "import matplotlib\n",
    "%matplotlib inline\n",
    "\n",
    "#Some machine learning tools\n",
    "from sklearn.linear_model import LassoCV, LassoLarsCV, LinearRegression\n",
    "from sklearn.ensemble import RandomForestRegressor, GradientBoostingRegressor\n",
    "from sklearn.neural_network import MLPRegressor\n",
    "from sklearn.model_selection import StratifiedKFold\n",
    "from sklearn.feature_selection import RFECV\n",
    "\n",
    "#For radar graph plot\n",
    "import numpy as np\n",
    "import matplotlib\n",
    "import matplotlib.path as path\n",
    "import matplotlib.pyplot as plt\n",
    "import matplotlib.patches as patches\n",
    "\n",
    "# Set up data directory\n",
    "DataDir = \"C:/Users/Admin/Desktop/Insight/80000hrs/\""
   ]
  },
  {
   "cell_type": "markdown",
   "metadata": {},
   "source": [
    "## Stage 3+4: Feature exploration and scores"
   ]
  },
  {
   "cell_type": "markdown",
   "metadata": {},
   "source": [
    "See previous chapter."
   ]
  },
  {
   "cell_type": "markdown",
   "metadata": {},
   "source": [
    "## Stage 5: Combine results"
   ]
  },
  {
   "cell_type": "code",
   "execution_count": 2,
   "metadata": {
    "collapsed": true
   },
   "outputs": [],
   "source": [
    "interest = 'Skill'\n",
    "#interest = 'Knowledge'"
   ]
  },
  {
   "cell_type": "code",
   "execution_count": 3,
   "metadata": {
    "collapsed": false
   },
   "outputs": [],
   "source": [
    "filename = \"02/ScoreAllMeasures_\" + interest + \".csv\"\n",
    "dSummary = pd.read_csv(DataDir+ filename)\n",
    "dSummary = dSummary.drop('Unnamed: 0', 1)\n",
    "dSummary = dSummary.set_index('index')"
   ]
  },
  {
   "cell_type": "code",
   "execution_count": 4,
   "metadata": {
    "collapsed": false
   },
   "outputs": [],
   "source": [
    "d4dimensions = pd.DataFrame(index = dSummary.index)"
   ]
  },
  {
   "cell_type": "code",
   "execution_count": 5,
   "metadata": {
    "collapsed": true
   },
   "outputs": [],
   "source": [
    "d4dimensions['Income'] = dSummary['Wage_BLS']\n",
    "d4dimensions['Satisfaction'] = 0.5*(dSummary['JobSatisfaction_GSS'] + dSummary['JobSatisfaction_PayScale'])\n",
    "d4dimensions['Security'] = 0.5*(dSummary['Transferability'] - dSummary['RiskOfAutomation'])\n",
    "d4dimensions['Learnability'] = -dSummary['JobZone']\n",
    "d4dimensions['score'] = (d4dimensions['Satisfaction'] + d4dimensions['Income'] + \\\n",
    "                         d4dimensions['Security'] + d4dimensions['Learnability'])/4\n",
    "d4dimensions['color'] = (d4dimensions['score'] - np.min(d4dimensions['score']))/ \\\n",
    "                         (np.max(d4dimensions['score']) - np.min(d4dimensions['score']))"
   ]
  },
  {
   "cell_type": "code",
   "execution_count": 6,
   "metadata": {
    "collapsed": false
   },
   "outputs": [
    {
     "data": {
      "text/plain": [
       "{'Basic',\n",
       " 'Complex Problem Solving',\n",
       " 'Resource Management',\n",
       " 'Social',\n",
       " 'System',\n",
       " 'Technical'}"
      ]
     },
     "execution_count": 6,
     "metadata": {},
     "output_type": "execute_result"
    }
   ],
   "source": [
    "#Label for skill groups based on O*NET database\n",
    "if interest == 'Skill':\n",
    "    SkillGroup = pd.DataFrame(index = d4dimensions.index, columns = ['group'])\n",
    "    SkillGroup.loc['Active Learning'] = 'Basic'\n",
    "    SkillGroup.loc['Active Listening'] = 'Basic'\n",
    "    SkillGroup.loc['Critical Thinking'] = 'Basic'\n",
    "    SkillGroup.loc['Learning Strategies'] = 'Basic'\n",
    "    SkillGroup.loc['Mathematics'] = 'Basic'\n",
    "    SkillGroup.loc['Monitoring'] = 'Basic'\n",
    "    SkillGroup.loc['Reading Comprehension'] = 'Basic'\n",
    "    SkillGroup.loc['Science'] = 'Basic'\n",
    "    SkillGroup.loc['Speaking'] = 'Basic'\n",
    "    SkillGroup.loc['Writing'] = 'Basic'\n",
    "    SkillGroup.loc['Coordination'] = 'Social'\n",
    "    SkillGroup.loc['Instructing'] = 'Social'\n",
    "    SkillGroup.loc['Negotiation'] = 'Social'\n",
    "    SkillGroup.loc['Persuasion'] = 'Social'\n",
    "    SkillGroup.loc['Service Orientation'] = 'Social'\n",
    "    SkillGroup.loc['Social Perceptiveness'] = 'Social'\n",
    "    SkillGroup.loc['Complex Problem Solving'] = 'Complex Problem Solving'\n",
    "    SkillGroup.loc['Equipment Maintenance'] = 'Technical'\n",
    "    SkillGroup.loc['Equipment Selection'] = 'Technical'\n",
    "    SkillGroup.loc['Installation'] = 'Technical'\n",
    "    SkillGroup.loc['Operation and Control'] = 'Technical'\n",
    "    SkillGroup.loc['Operation Monitoring'] = 'Technical'\n",
    "    SkillGroup.loc['Operations Analysis'] = 'Technical'\n",
    "    SkillGroup.loc['Programming'] = 'Technical'\n",
    "    SkillGroup.loc['Quality Control Analysis'] = 'Technical'\n",
    "    SkillGroup.loc['Repairing'] = 'Technical'\n",
    "    SkillGroup.loc['Technology Design'] = 'Technical'\n",
    "    SkillGroup.loc['Troubleshooting'] = 'Technical'\n",
    "    SkillGroup.loc['Management of Financial Resources'] = 'Resource Management'\n",
    "    SkillGroup.loc['Management of Material Resources'] = 'Resource Management'\n",
    "    SkillGroup.loc['Management of Personnel Resources'] = 'Resource Management'\n",
    "    SkillGroup.loc['Time Management'] = 'Resource Management'\n",
    "    SkillGroup.loc['Judgment and Decision Making'] = 'System'\n",
    "    SkillGroup.loc['Systems Analysis'] = 'System'\n",
    "    SkillGroup.loc['Systems Evaluation'] = 'System'\n",
    "\n",
    "    SkillGroup['Color'] = \"0\"\n",
    "    for i in SkillGroup.index:\n",
    "        if SkillGroup.group[i] == 'System':\n",
    "            SkillGroup.loc[i,'Color'] = \"#800080\"#\"purple\",\n",
    "        if SkillGroup.group[i] == 'Resource Management':\n",
    "            SkillGroup.loc[i,'Color'] = \"#0000FF\"#\"blue\",\n",
    "        if SkillGroup.group[i] == 'Technical':\n",
    "            SkillGroup.loc[i,'Color'] = \"#008000\"#\"green\",\n",
    "        if SkillGroup.group[i] == 'Complex Problem Solving':\n",
    "            SkillGroup.loc[i,'Color'] = \"#FFFF00\"#\"yellow\",\n",
    "        if SkillGroup.group[i] == 'Social':\n",
    "            SkillGroup.loc[i,'Color'] = \"#FFA500\"#\"orange\",\n",
    "        if SkillGroup.group[i] == 'Basic':\n",
    "            SkillGroup.loc[i,'Color'] = \"#FF0000\"#\"red\",\n",
    "\n",
    "set(SkillGroup['group'])"
   ]
  },
  {
   "cell_type": "code",
   "execution_count": 7,
   "metadata": {
    "collapsed": false
   },
   "outputs": [],
   "source": [
    "d4dimensions['group'] = SkillGroup['group']\n",
    "d4dimensions['group_color'] = SkillGroup['Color']"
   ]
  },
  {
   "cell_type": "code",
   "execution_count": 8,
   "metadata": {
    "collapsed": false,
    "scrolled": true
   },
   "outputs": [
    {
     "data": {
      "text/html": [
       "<div>\n",
       "<table border=\"1\" class=\"dataframe\">\n",
       "  <thead>\n",
       "    <tr style=\"text-align: right;\">\n",
       "      <th></th>\n",
       "      <th>Income</th>\n",
       "      <th>Satisfaction</th>\n",
       "      <th>Security</th>\n",
       "      <th>Learnability</th>\n",
       "      <th>score</th>\n",
       "      <th>color</th>\n",
       "      <th>group</th>\n",
       "      <th>group_color</th>\n",
       "    </tr>\n",
       "    <tr>\n",
       "      <th>index</th>\n",
       "      <th></th>\n",
       "      <th></th>\n",
       "      <th></th>\n",
       "      <th></th>\n",
       "      <th></th>\n",
       "      <th></th>\n",
       "      <th></th>\n",
       "      <th></th>\n",
       "    </tr>\n",
       "  </thead>\n",
       "  <tbody>\n",
       "    <tr>\n",
       "      <th>Active Learning</th>\n",
       "      <td>2.269941</td>\n",
       "      <td>0.467503</td>\n",
       "      <td>2.407126</td>\n",
       "      <td>-2.512854</td>\n",
       "      <td>0.657929</td>\n",
       "      <td>0.728206</td>\n",
       "      <td>Basic</td>\n",
       "      <td>#FF0000</td>\n",
       "    </tr>\n",
       "    <tr>\n",
       "      <th>Active Listening</th>\n",
       "      <td>2.015097</td>\n",
       "      <td>0.441533</td>\n",
       "      <td>2.731149</td>\n",
       "      <td>-2.512854</td>\n",
       "      <td>0.668731</td>\n",
       "      <td>0.737602</td>\n",
       "      <td>Basic</td>\n",
       "      <td>#FF0000</td>\n",
       "    </tr>\n",
       "    <tr>\n",
       "      <th>Complex Problem Solving</th>\n",
       "      <td>2.828347</td>\n",
       "      <td>0.453153</td>\n",
       "      <td>2.421739</td>\n",
       "      <td>-2.512853</td>\n",
       "      <td>0.797596</td>\n",
       "      <td>0.849696</td>\n",
       "      <td>Complex Problem Solving</td>\n",
       "      <td>#FFFF00</td>\n",
       "    </tr>\n",
       "    <tr>\n",
       "      <th>Coordination</th>\n",
       "      <td>1.829613</td>\n",
       "      <td>0.413423</td>\n",
       "      <td>2.757924</td>\n",
       "      <td>-1.653196</td>\n",
       "      <td>0.836941</td>\n",
       "      <td>0.883921</td>\n",
       "      <td>Social</td>\n",
       "      <td>#FFA500</td>\n",
       "    </tr>\n",
       "    <tr>\n",
       "      <th>Critical Thinking</th>\n",
       "      <td>2.918055</td>\n",
       "      <td>0.543706</td>\n",
       "      <td>2.929257</td>\n",
       "      <td>-2.855514</td>\n",
       "      <td>0.883876</td>\n",
       "      <td>0.924747</td>\n",
       "      <td>Basic</td>\n",
       "      <td>#FF0000</td>\n",
       "    </tr>\n",
       "    <tr>\n",
       "      <th>Equipment Maintenance</th>\n",
       "      <td>-0.450806</td>\n",
       "      <td>-0.061856</td>\n",
       "      <td>-1.056764</td>\n",
       "      <td>1.121808</td>\n",
       "      <td>-0.111904</td>\n",
       "      <td>0.058561</td>\n",
       "      <td>Technical</td>\n",
       "      <td>#008000</td>\n",
       "    </tr>\n",
       "    <tr>\n",
       "      <th>Equipment Selection</th>\n",
       "      <td>-0.496715</td>\n",
       "      <td>-0.070034</td>\n",
       "      <td>-0.975096</td>\n",
       "      <td>1.121806</td>\n",
       "      <td>-0.105010</td>\n",
       "      <td>0.064559</td>\n",
       "      <td>Technical</td>\n",
       "      <td>#008000</td>\n",
       "    </tr>\n",
       "    <tr>\n",
       "      <th>Installation</th>\n",
       "      <td>-0.000000</td>\n",
       "      <td>-0.074252</td>\n",
       "      <td>-0.445774</td>\n",
       "      <td>0.000000</td>\n",
       "      <td>-0.130006</td>\n",
       "      <td>0.042815</td>\n",
       "      <td>Technical</td>\n",
       "      <td>#008000</td>\n",
       "    </tr>\n",
       "    <tr>\n",
       "      <th>Instructing</th>\n",
       "      <td>1.515683</td>\n",
       "      <td>0.362890</td>\n",
       "      <td>1.932687</td>\n",
       "      <td>-1.777963</td>\n",
       "      <td>0.508324</td>\n",
       "      <td>0.598071</td>\n",
       "      <td>Social</td>\n",
       "      <td>#FFA500</td>\n",
       "    </tr>\n",
       "    <tr>\n",
       "      <th>Judgment and Decision Making</th>\n",
       "      <td>3.179626</td>\n",
       "      <td>0.522707</td>\n",
       "      <td>2.950750</td>\n",
       "      <td>-2.771532</td>\n",
       "      <td>0.970388</td>\n",
       "      <td>1.000000</td>\n",
       "      <td>System</td>\n",
       "      <td>#800080</td>\n",
       "    </tr>\n",
       "    <tr>\n",
       "      <th>Learning Strategies</th>\n",
       "      <td>1.667029</td>\n",
       "      <td>0.430122</td>\n",
       "      <td>2.078047</td>\n",
       "      <td>-1.884646</td>\n",
       "      <td>0.572638</td>\n",
       "      <td>0.654015</td>\n",
       "      <td>Basic</td>\n",
       "      <td>#FF0000</td>\n",
       "    </tr>\n",
       "    <tr>\n",
       "      <th>Management of Financial Resources</th>\n",
       "      <td>1.893385</td>\n",
       "      <td>0.215628</td>\n",
       "      <td>1.324903</td>\n",
       "      <td>-1.121825</td>\n",
       "      <td>0.578023</td>\n",
       "      <td>0.658699</td>\n",
       "      <td>Resource Management</td>\n",
       "      <td>#0000FF</td>\n",
       "    </tr>\n",
       "    <tr>\n",
       "      <th>Management of Material Resources</th>\n",
       "      <td>1.469732</td>\n",
       "      <td>0.228695</td>\n",
       "      <td>1.527752</td>\n",
       "      <td>-1.308733</td>\n",
       "      <td>0.479362</td>\n",
       "      <td>0.572878</td>\n",
       "      <td>Resource Management</td>\n",
       "      <td>#0000FF</td>\n",
       "    </tr>\n",
       "    <tr>\n",
       "      <th>Management of Personnel Resources</th>\n",
       "      <td>1.944271</td>\n",
       "      <td>0.328481</td>\n",
       "      <td>1.830200</td>\n",
       "      <td>-1.653195</td>\n",
       "      <td>0.612439</td>\n",
       "      <td>0.688636</td>\n",
       "      <td>Resource Management</td>\n",
       "      <td>#0000FF</td>\n",
       "    </tr>\n",
       "    <tr>\n",
       "      <th>Mathematics</th>\n",
       "      <td>1.812582</td>\n",
       "      <td>0.063199</td>\n",
       "      <td>0.973926</td>\n",
       "      <td>-1.256427</td>\n",
       "      <td>0.398320</td>\n",
       "      <td>0.502383</td>\n",
       "      <td>Basic</td>\n",
       "      <td>#FF0000</td>\n",
       "    </tr>\n",
       "    <tr>\n",
       "      <th>Monitoring</th>\n",
       "      <td>2.525264</td>\n",
       "      <td>0.473019</td>\n",
       "      <td>2.953351</td>\n",
       "      <td>-2.416203</td>\n",
       "      <td>0.883858</td>\n",
       "      <td>0.924731</td>\n",
       "      <td>Basic</td>\n",
       "      <td>#FF0000</td>\n",
       "    </tr>\n",
       "    <tr>\n",
       "      <th>Negotiation</th>\n",
       "      <td>1.436291</td>\n",
       "      <td>0.275050</td>\n",
       "      <td>1.921371</td>\n",
       "      <td>-1.682713</td>\n",
       "      <td>0.487500</td>\n",
       "      <td>0.579957</td>\n",
       "      <td>Social</td>\n",
       "      <td>#FFA500</td>\n",
       "    </tr>\n",
       "    <tr>\n",
       "      <th>Operation Monitoring</th>\n",
       "      <td>-0.448369</td>\n",
       "      <td>-0.051214</td>\n",
       "      <td>-0.726549</td>\n",
       "      <td>1.121804</td>\n",
       "      <td>-0.026082</td>\n",
       "      <td>0.133215</td>\n",
       "      <td>Technical</td>\n",
       "      <td>#008000</td>\n",
       "    </tr>\n",
       "    <tr>\n",
       "      <th>Operation and Control</th>\n",
       "      <td>-0.574746</td>\n",
       "      <td>-0.086338</td>\n",
       "      <td>-1.007664</td>\n",
       "      <td>0.951838</td>\n",
       "      <td>-0.179228</td>\n",
       "      <td>0.000000</td>\n",
       "      <td>Technical</td>\n",
       "      <td>#008000</td>\n",
       "    </tr>\n",
       "    <tr>\n",
       "      <th>Operations Analysis</th>\n",
       "      <td>1.844040</td>\n",
       "      <td>0.263594</td>\n",
       "      <td>1.266968</td>\n",
       "      <td>-1.365682</td>\n",
       "      <td>0.502230</td>\n",
       "      <td>0.592770</td>\n",
       "      <td>Technical</td>\n",
       "      <td>#008000</td>\n",
       "    </tr>\n",
       "    <tr>\n",
       "      <th>Persuasion</th>\n",
       "      <td>1.763400</td>\n",
       "      <td>0.300915</td>\n",
       "      <td>2.105572</td>\n",
       "      <td>-1.794901</td>\n",
       "      <td>0.593746</td>\n",
       "      <td>0.672376</td>\n",
       "      <td>Social</td>\n",
       "      <td>#FFA500</td>\n",
       "    </tr>\n",
       "    <tr>\n",
       "      <th>Programming</th>\n",
       "      <td>2.009529</td>\n",
       "      <td>0.089122</td>\n",
       "      <td>0.999078</td>\n",
       "      <td>-1.963156</td>\n",
       "      <td>0.283643</td>\n",
       "      <td>0.402631</td>\n",
       "      <td>Technical</td>\n",
       "      <td>#008000</td>\n",
       "    </tr>\n",
       "    <tr>\n",
       "      <th>Quality Control Analysis</th>\n",
       "      <td>-0.252451</td>\n",
       "      <td>0.000000</td>\n",
       "      <td>-0.666528</td>\n",
       "      <td>0.713875</td>\n",
       "      <td>-0.051276</td>\n",
       "      <td>0.111299</td>\n",
       "      <td>Technical</td>\n",
       "      <td>#008000</td>\n",
       "    </tr>\n",
       "    <tr>\n",
       "      <th>Reading Comprehension</th>\n",
       "      <td>2.083942</td>\n",
       "      <td>0.392483</td>\n",
       "      <td>2.107264</td>\n",
       "      <td>-2.243619</td>\n",
       "      <td>0.585018</td>\n",
       "      <td>0.664783</td>\n",
       "      <td>Basic</td>\n",
       "      <td>#FF0000</td>\n",
       "    </tr>\n",
       "    <tr>\n",
       "      <th>Repairing</th>\n",
       "      <td>-0.359865</td>\n",
       "      <td>-0.063632</td>\n",
       "      <td>-0.997729</td>\n",
       "      <td>1.047021</td>\n",
       "      <td>-0.093551</td>\n",
       "      <td>0.074526</td>\n",
       "      <td>Technical</td>\n",
       "      <td>#008000</td>\n",
       "    </tr>\n",
       "    <tr>\n",
       "      <th>Science</th>\n",
       "      <td>1.356247</td>\n",
       "      <td>0.219060</td>\n",
       "      <td>0.792210</td>\n",
       "      <td>-1.256427</td>\n",
       "      <td>0.277773</td>\n",
       "      <td>0.397524</td>\n",
       "      <td>Basic</td>\n",
       "      <td>#FF0000</td>\n",
       "    </tr>\n",
       "    <tr>\n",
       "      <th>Service Orientation</th>\n",
       "      <td>0.706412</td>\n",
       "      <td>0.261069</td>\n",
       "      <td>1.884488</td>\n",
       "      <td>-1.427758</td>\n",
       "      <td>0.356053</td>\n",
       "      <td>0.465617</td>\n",
       "      <td>Social</td>\n",
       "      <td>#FFA500</td>\n",
       "    </tr>\n",
       "    <tr>\n",
       "      <th>Social Perceptiveness</th>\n",
       "      <td>1.367387</td>\n",
       "      <td>0.384165</td>\n",
       "      <td>2.488830</td>\n",
       "      <td>-2.026488</td>\n",
       "      <td>0.553474</td>\n",
       "      <td>0.637345</td>\n",
       "      <td>Social</td>\n",
       "      <td>#FFA500</td>\n",
       "    </tr>\n",
       "    <tr>\n",
       "      <th>Speaking</th>\n",
       "      <td>1.776617</td>\n",
       "      <td>0.421587</td>\n",
       "      <td>2.591894</td>\n",
       "      <td>-2.243621</td>\n",
       "      <td>0.636619</td>\n",
       "      <td>0.709669</td>\n",
       "      <td>Basic</td>\n",
       "      <td>#FF0000</td>\n",
       "    </tr>\n",
       "    <tr>\n",
       "      <th>Systems Analysis</th>\n",
       "      <td>2.176774</td>\n",
       "      <td>0.356126</td>\n",
       "      <td>1.746315</td>\n",
       "      <td>-1.963161</td>\n",
       "      <td>0.579013</td>\n",
       "      <td>0.659560</td>\n",
       "      <td>System</td>\n",
       "      <td>#800080</td>\n",
       "    </tr>\n",
       "    <tr>\n",
       "      <th>Systems Evaluation</th>\n",
       "      <td>2.253314</td>\n",
       "      <td>0.329798</td>\n",
       "      <td>1.958781</td>\n",
       "      <td>-1.847688</td>\n",
       "      <td>0.673551</td>\n",
       "      <td>0.741795</td>\n",
       "      <td>System</td>\n",
       "      <td>#800080</td>\n",
       "    </tr>\n",
       "    <tr>\n",
       "      <th>Technology Design</th>\n",
       "      <td>2.018052</td>\n",
       "      <td>0.123758</td>\n",
       "      <td>1.514639</td>\n",
       "      <td>-1.532243</td>\n",
       "      <td>0.531051</td>\n",
       "      <td>0.617841</td>\n",
       "      <td>Technical</td>\n",
       "      <td>#008000</td>\n",
       "    </tr>\n",
       "    <tr>\n",
       "      <th>Time Management</th>\n",
       "      <td>2.501483</td>\n",
       "      <td>0.487322</td>\n",
       "      <td>2.835536</td>\n",
       "      <td>-2.512848</td>\n",
       "      <td>0.827873</td>\n",
       "      <td>0.876033</td>\n",
       "      <td>Resource Management</td>\n",
       "      <td>#0000FF</td>\n",
       "    </tr>\n",
       "    <tr>\n",
       "      <th>Troubleshooting</th>\n",
       "      <td>-0.411946</td>\n",
       "      <td>-0.044568</td>\n",
       "      <td>-0.884231</td>\n",
       "      <td>0.951834</td>\n",
       "      <td>-0.097228</td>\n",
       "      <td>0.071328</td>\n",
       "      <td>Technical</td>\n",
       "      <td>#008000</td>\n",
       "    </tr>\n",
       "    <tr>\n",
       "      <th>Writing</th>\n",
       "      <td>1.739273</td>\n",
       "      <td>0.344183</td>\n",
       "      <td>1.848869</td>\n",
       "      <td>-2.026496</td>\n",
       "      <td>0.476458</td>\n",
       "      <td>0.570352</td>\n",
       "      <td>Basic</td>\n",
       "      <td>#FF0000</td>\n",
       "    </tr>\n",
       "  </tbody>\n",
       "</table>\n",
       "</div>"
      ],
      "text/plain": [
       "                                     Income  Satisfaction  Security  \\\n",
       "index                                                                 \n",
       "Active Learning                    2.269941      0.467503  2.407126   \n",
       "Active Listening                   2.015097      0.441533  2.731149   \n",
       "Complex Problem Solving            2.828347      0.453153  2.421739   \n",
       "Coordination                       1.829613      0.413423  2.757924   \n",
       "Critical Thinking                  2.918055      0.543706  2.929257   \n",
       "Equipment Maintenance             -0.450806     -0.061856 -1.056764   \n",
       "Equipment Selection               -0.496715     -0.070034 -0.975096   \n",
       "Installation                      -0.000000     -0.074252 -0.445774   \n",
       "Instructing                        1.515683      0.362890  1.932687   \n",
       "Judgment and Decision Making       3.179626      0.522707  2.950750   \n",
       "Learning Strategies                1.667029      0.430122  2.078047   \n",
       "Management of Financial Resources  1.893385      0.215628  1.324903   \n",
       "Management of Material Resources   1.469732      0.228695  1.527752   \n",
       "Management of Personnel Resources  1.944271      0.328481  1.830200   \n",
       "Mathematics                        1.812582      0.063199  0.973926   \n",
       "Monitoring                         2.525264      0.473019  2.953351   \n",
       "Negotiation                        1.436291      0.275050  1.921371   \n",
       "Operation Monitoring              -0.448369     -0.051214 -0.726549   \n",
       "Operation and Control             -0.574746     -0.086338 -1.007664   \n",
       "Operations Analysis                1.844040      0.263594  1.266968   \n",
       "Persuasion                         1.763400      0.300915  2.105572   \n",
       "Programming                        2.009529      0.089122  0.999078   \n",
       "Quality Control Analysis          -0.252451      0.000000 -0.666528   \n",
       "Reading Comprehension              2.083942      0.392483  2.107264   \n",
       "Repairing                         -0.359865     -0.063632 -0.997729   \n",
       "Science                            1.356247      0.219060  0.792210   \n",
       "Service Orientation                0.706412      0.261069  1.884488   \n",
       "Social Perceptiveness              1.367387      0.384165  2.488830   \n",
       "Speaking                           1.776617      0.421587  2.591894   \n",
       "Systems Analysis                   2.176774      0.356126  1.746315   \n",
       "Systems Evaluation                 2.253314      0.329798  1.958781   \n",
       "Technology Design                  2.018052      0.123758  1.514639   \n",
       "Time Management                    2.501483      0.487322  2.835536   \n",
       "Troubleshooting                   -0.411946     -0.044568 -0.884231   \n",
       "Writing                            1.739273      0.344183  1.848869   \n",
       "\n",
       "                                   Learnability     score     color  \\\n",
       "index                                                                 \n",
       "Active Learning                       -2.512854  0.657929  0.728206   \n",
       "Active Listening                      -2.512854  0.668731  0.737602   \n",
       "Complex Problem Solving               -2.512853  0.797596  0.849696   \n",
       "Coordination                          -1.653196  0.836941  0.883921   \n",
       "Critical Thinking                     -2.855514  0.883876  0.924747   \n",
       "Equipment Maintenance                  1.121808 -0.111904  0.058561   \n",
       "Equipment Selection                    1.121806 -0.105010  0.064559   \n",
       "Installation                           0.000000 -0.130006  0.042815   \n",
       "Instructing                           -1.777963  0.508324  0.598071   \n",
       "Judgment and Decision Making          -2.771532  0.970388  1.000000   \n",
       "Learning Strategies                   -1.884646  0.572638  0.654015   \n",
       "Management of Financial Resources     -1.121825  0.578023  0.658699   \n",
       "Management of Material Resources      -1.308733  0.479362  0.572878   \n",
       "Management of Personnel Resources     -1.653195  0.612439  0.688636   \n",
       "Mathematics                           -1.256427  0.398320  0.502383   \n",
       "Monitoring                            -2.416203  0.883858  0.924731   \n",
       "Negotiation                           -1.682713  0.487500  0.579957   \n",
       "Operation Monitoring                   1.121804 -0.026082  0.133215   \n",
       "Operation and Control                  0.951838 -0.179228  0.000000   \n",
       "Operations Analysis                   -1.365682  0.502230  0.592770   \n",
       "Persuasion                            -1.794901  0.593746  0.672376   \n",
       "Programming                           -1.963156  0.283643  0.402631   \n",
       "Quality Control Analysis               0.713875 -0.051276  0.111299   \n",
       "Reading Comprehension                 -2.243619  0.585018  0.664783   \n",
       "Repairing                              1.047021 -0.093551  0.074526   \n",
       "Science                               -1.256427  0.277773  0.397524   \n",
       "Service Orientation                   -1.427758  0.356053  0.465617   \n",
       "Social Perceptiveness                 -2.026488  0.553474  0.637345   \n",
       "Speaking                              -2.243621  0.636619  0.709669   \n",
       "Systems Analysis                      -1.963161  0.579013  0.659560   \n",
       "Systems Evaluation                    -1.847688  0.673551  0.741795   \n",
       "Technology Design                     -1.532243  0.531051  0.617841   \n",
       "Time Management                       -2.512848  0.827873  0.876033   \n",
       "Troubleshooting                        0.951834 -0.097228  0.071328   \n",
       "Writing                               -2.026496  0.476458  0.570352   \n",
       "\n",
       "                                                     group group_color  \n",
       "index                                                                   \n",
       "Active Learning                                      Basic     #FF0000  \n",
       "Active Listening                                     Basic     #FF0000  \n",
       "Complex Problem Solving            Complex Problem Solving     #FFFF00  \n",
       "Coordination                                        Social     #FFA500  \n",
       "Critical Thinking                                    Basic     #FF0000  \n",
       "Equipment Maintenance                            Technical     #008000  \n",
       "Equipment Selection                              Technical     #008000  \n",
       "Installation                                     Technical     #008000  \n",
       "Instructing                                         Social     #FFA500  \n",
       "Judgment and Decision Making                        System     #800080  \n",
       "Learning Strategies                                  Basic     #FF0000  \n",
       "Management of Financial Resources      Resource Management     #0000FF  \n",
       "Management of Material Resources       Resource Management     #0000FF  \n",
       "Management of Personnel Resources      Resource Management     #0000FF  \n",
       "Mathematics                                          Basic     #FF0000  \n",
       "Monitoring                                           Basic     #FF0000  \n",
       "Negotiation                                         Social     #FFA500  \n",
       "Operation Monitoring                             Technical     #008000  \n",
       "Operation and Control                            Technical     #008000  \n",
       "Operations Analysis                              Technical     #008000  \n",
       "Persuasion                                          Social     #FFA500  \n",
       "Programming                                      Technical     #008000  \n",
       "Quality Control Analysis                         Technical     #008000  \n",
       "Reading Comprehension                                Basic     #FF0000  \n",
       "Repairing                                        Technical     #008000  \n",
       "Science                                              Basic     #FF0000  \n",
       "Service Orientation                                 Social     #FFA500  \n",
       "Social Perceptiveness                               Social     #FFA500  \n",
       "Speaking                                             Basic     #FF0000  \n",
       "Systems Analysis                                    System     #800080  \n",
       "Systems Evaluation                                  System     #800080  \n",
       "Technology Design                                Technical     #008000  \n",
       "Time Management                        Resource Management     #0000FF  \n",
       "Troubleshooting                                  Technical     #008000  \n",
       "Writing                                              Basic     #FF0000  "
      ]
     },
     "execution_count": 8,
     "metadata": {},
     "output_type": "execute_result"
    }
   ],
   "source": [
    "pd.set_option('max_rows', 100)\n",
    "d4dimensions"
   ]
  },
  {
   "cell_type": "code",
   "execution_count": 9,
   "metadata": {
    "collapsed": true
   },
   "outputs": [],
   "source": [
    "from matplotlib.font_manager import FontProperties\n",
    "\n",
    "fontP = FontProperties()\n",
    "fontP.set_size('small')\n",
    "\n",
    "#Set up font properties"
   ]
  },
  {
   "cell_type": "code",
   "execution_count": 10,
   "metadata": {
    "collapsed": false
   },
   "outputs": [
    {
     "data": {
      "text/plain": [
       "Income            3.17963\n",
       "Satisfaction     0.543706\n",
       "Security          2.95335\n",
       "Learnability      1.12181\n",
       "score            0.970388\n",
       "color                   1\n",
       "group           Technical\n",
       "group_color       #FFFF00\n",
       "dtype: object"
      ]
     },
     "execution_count": 10,
     "metadata": {},
     "output_type": "execute_result"
    }
   ],
   "source": [
    "d4dimensions.max(axis=0)"
   ]
  },
  {
   "cell_type": "code",
   "execution_count": 11,
   "metadata": {
    "collapsed": false
   },
   "outputs": [
    {
     "data": {
      "text/plain": [
       "Income          -0.574746\n",
       "Satisfaction   -0.0863384\n",
       "Security         -1.05676\n",
       "Learnability     -2.85551\n",
       "score           -0.179228\n",
       "color                   0\n",
       "group               Basic\n",
       "group_color       #0000FF\n",
       "dtype: object"
      ]
     },
     "execution_count": 11,
     "metadata": {},
     "output_type": "execute_result"
    }
   ],
   "source": [
    "d4dimensions.min(axis=0)"
   ]
  },
  {
   "cell_type": "markdown",
   "metadata": {},
   "source": [
    "Click to see more information about definitions of [Skills](https://www.onetonline.org/find/descriptor/browse/Skills/) and [Knowledge](https://www.onetonline.org/find/descriptor/browse/Knowledge/). Note that learnability gives an awkward interpretation."
   ]
  },
  {
   "cell_type": "code",
   "execution_count": 12,
   "metadata": {
    "collapsed": false
   },
   "outputs": [],
   "source": [
    "#set color map\n",
    "cmap = matplotlib.cm.get_cmap('RdYlGn')\n",
    "#set directory\n",
    "Dir = DataDir + '03/'+ interest +'/'"
   ]
  },
  {
   "cell_type": "code",
   "execution_count": 14,
   "metadata": {
    "collapsed": false
   },
   "outputs": [],
   "source": [
    "def radarplot(df, lower, upper):\n",
    "    df = df.sort_values(by='score')\n",
    "    for count in range(0,len(df)):\n",
    "\n",
    "        #Adapted from Copyright (C) 2011  Nicolas P. Rougier\n",
    "\n",
    "        # Data to be represented\n",
    "        # ----------\n",
    "        properties = df.columns[0:4]\n",
    "        values = df.loc[df.index[count],:][0:4]\n",
    "        # ----------\n",
    "\n",
    "        # Choose some nice colors\n",
    "        matplotlib.rc('axes', facecolor = 'white')\n",
    "\n",
    "        # Make figure background the same colors as axes \n",
    "        fig = plt.figure(figsize=(8,6), facecolor='white')\n",
    "\n",
    "\n",
    "        # Use a polar axes\n",
    "        axes = plt.subplot(111, polar=True)\n",
    "\n",
    "        # Set ticks to the number of properties (in radians)\n",
    "        #t = np.arange(0,2*np.pi,2*np.pi/len(properties))\n",
    "        t = np.arange(np.pi/4,2*np.pi,2*np.pi/len(properties))\n",
    "        plt.xticks(t, [])\n",
    "\n",
    "        # Set yticks from 0 to 10\n",
    "        #plt.yticks(np.linspace(0,10,11))\n",
    "        #plt.yticks(np.linspace(0,4,9))\n",
    "        plt.yticks(np.linspace(lower,upper,(upper-lower)+1))\n",
    "\n",
    "        # Draw polygon representing values\n",
    "        points = [(x,y) for x,y in zip(t,values)]\n",
    "        points.append(points[0])\n",
    "        points = np.array(points)\n",
    "        codes = [path.Path.MOVETO,] + \\\n",
    "                [path.Path.LINETO,]*(len(values) -1) + \\\n",
    "                [ path.Path.CLOSEPOLY ]\n",
    "        _path = path.Path(points, codes)\n",
    "        _patch = patches.PathPatch(_path, fill=True, color=cmap(df.loc[df.index[count],'color']), linewidth=0, alpha=.7)\n",
    "        axes.add_patch(_patch)\n",
    "        _patch = patches.PathPatch(_path, fill=False, linewidth = 2)\n",
    "        axes.add_patch(_patch)\n",
    "\n",
    "        # Draw circles at value points\n",
    "        plt.scatter(points[:,0],points[:,1], linewidth=2,\n",
    "                    s=50, color='white', edgecolor='black', zorder=10)\n",
    "\n",
    "        # Set axes limits\n",
    "        #plt.ylim(0,10)\n",
    "        #plt.ylim(0,4)\n",
    "        plt.ylim(lower,upper)\n",
    "\n",
    "        #add tile\n",
    "        plt.title(df.index[count] + \", score = \"+ str(round(df.loc[df.index[count],'score'],2)) ,size=20)\n",
    "\n",
    "        # Draw ytick labels to make sure they fit properly\n",
    "        for i in range(len(properties)):\n",
    "            angle_rad = i/float(len(properties))*2*np.pi + np.pi/4\n",
    "            angle_deg = i/float(len(properties))*360 + 45\n",
    "            ha = \"right\"\n",
    "            if angle_rad < np.pi/2 or angle_rad > 3*np.pi/2: ha = \"left\"\n",
    "            #plt.text(angle_rad, 10.75, properties[i], size=14,\n",
    "            #plt.text(angle_rad, 4.75, properties[i], size=14,\n",
    "            plt.text(angle_rad, upper + 0.25, properties[i], size=14,\n",
    "                     horizontalalignment=ha, verticalalignment=\"center\")\n",
    "\n",
    "            # A variant on label orientation\n",
    "            #    plt.text(angle_rad, 11, properties[i], size=14,\n",
    "            #             rotation=angle_deg-90,\n",
    "            #             horizontalalignment='center', verticalalignment=\"center\")\n",
    "\n",
    "        # Done\n",
    "        plt.savefig(Dir + str(count+1).zfill(2) +'-radar-chart.png', facecolor='white');\n",
    "        #plt.show()\n",
    "        plt.clf();"
   ]
  },
  {
   "cell_type": "code",
   "execution_count": 15,
   "metadata": {
    "collapsed": false
   },
   "outputs": [
    {
     "name": "stderr",
     "output_type": "stream",
     "text": [
      "C:\\Users\\Admin\\Anaconda2\\lib\\site-packages\\matplotlib\\pyplot.py:524: RuntimeWarning: More than 20 figures have been opened. Figures created through the pyplot interface (`matplotlib.pyplot.figure`) are retained until explicitly closed and may consume too much memory. (To control this warning, see the rcParam `figure.max_open_warning`).\n",
      "  max_open_warning, RuntimeWarning)\n"
     ]
    },
    {
     "data": {
      "text/plain": [
       "<matplotlib.figure.Figure at 0xc524cc0>"
      ]
     },
     "metadata": {},
     "output_type": "display_data"
    },
    {
     "data": {
      "text/plain": [
       "<matplotlib.figure.Figure at 0xc524c50>"
      ]
     },
     "metadata": {},
     "output_type": "display_data"
    },
    {
     "data": {
      "text/plain": [
       "<matplotlib.figure.Figure at 0xc524b00>"
      ]
     },
     "metadata": {},
     "output_type": "display_data"
    },
    {
     "data": {
      "text/plain": [
       "<matplotlib.figure.Figure at 0xc964940>"
      ]
     },
     "metadata": {},
     "output_type": "display_data"
    },
    {
     "data": {
      "text/plain": [
       "<matplotlib.figure.Figure at 0xdb889b0>"
      ]
     },
     "metadata": {},
     "output_type": "display_data"
    },
    {
     "data": {
      "text/plain": [
       "<matplotlib.figure.Figure at 0xdb88ac8>"
      ]
     },
     "metadata": {},
     "output_type": "display_data"
    },
    {
     "data": {
      "text/plain": [
       "<matplotlib.figure.Figure at 0xddeaac8>"
      ]
     },
     "metadata": {},
     "output_type": "display_data"
    },
    {
     "data": {
      "text/plain": [
       "<matplotlib.figure.Figure at 0xde19ef0>"
      ]
     },
     "metadata": {},
     "output_type": "display_data"
    },
    {
     "data": {
      "text/plain": [
       "<matplotlib.figure.Figure at 0xdde0080>"
      ]
     },
     "metadata": {},
     "output_type": "display_data"
    },
    {
     "data": {
      "text/plain": [
       "<matplotlib.figure.Figure at 0xdfdf208>"
      ]
     },
     "metadata": {},
     "output_type": "display_data"
    },
    {
     "data": {
      "text/plain": [
       "<matplotlib.figure.Figure at 0xc6afb38>"
      ]
     },
     "metadata": {},
     "output_type": "display_data"
    },
    {
     "data": {
      "text/plain": [
       "<matplotlib.figure.Figure at 0xc6af2b0>"
      ]
     },
     "metadata": {},
     "output_type": "display_data"
    },
    {
     "data": {
      "text/plain": [
       "<matplotlib.figure.Figure at 0xc9504e0>"
      ]
     },
     "metadata": {},
     "output_type": "display_data"
    },
    {
     "data": {
      "text/plain": [
       "<matplotlib.figure.Figure at 0xdb88390>"
      ]
     },
     "metadata": {},
     "output_type": "display_data"
    },
    {
     "data": {
      "text/plain": [
       "<matplotlib.figure.Figure at 0xcc26438>"
      ]
     },
     "metadata": {},
     "output_type": "display_data"
    },
    {
     "data": {
      "text/plain": [
       "<matplotlib.figure.Figure at 0xe382390>"
      ]
     },
     "metadata": {},
     "output_type": "display_data"
    },
    {
     "data": {
      "text/plain": [
       "<matplotlib.figure.Figure at 0xeb47160>"
      ]
     },
     "metadata": {},
     "output_type": "display_data"
    },
    {
     "data": {
      "text/plain": [
       "<matplotlib.figure.Figure at 0xdb09a90>"
      ]
     },
     "metadata": {},
     "output_type": "display_data"
    },
    {
     "data": {
      "text/plain": [
       "<matplotlib.figure.Figure at 0xca5edd8>"
      ]
     },
     "metadata": {},
     "output_type": "display_data"
    },
    {
     "data": {
      "text/plain": [
       "<matplotlib.figure.Figure at 0xf1425f8>"
      ]
     },
     "metadata": {},
     "output_type": "display_data"
    },
    {
     "data": {
      "text/plain": [
       "<matplotlib.figure.Figure at 0xf7a4cf8>"
      ]
     },
     "metadata": {},
     "output_type": "display_data"
    },
    {
     "data": {
      "text/plain": [
       "<matplotlib.figure.Figure at 0xf5c9400>"
      ]
     },
     "metadata": {},
     "output_type": "display_data"
    },
    {
     "data": {
      "text/plain": [
       "<matplotlib.figure.Figure at 0x10435668>"
      ]
     },
     "metadata": {},
     "output_type": "display_data"
    },
    {
     "data": {
      "text/plain": [
       "<matplotlib.figure.Figure at 0xf11d898>"
      ]
     },
     "metadata": {},
     "output_type": "display_data"
    },
    {
     "data": {
      "text/plain": [
       "<matplotlib.figure.Figure at 0x1083ecc0>"
      ]
     },
     "metadata": {},
     "output_type": "display_data"
    },
    {
     "data": {
      "text/plain": [
       "<matplotlib.figure.Figure at 0x108bbe10>"
      ]
     },
     "metadata": {},
     "output_type": "display_data"
    },
    {
     "data": {
      "text/plain": [
       "<matplotlib.figure.Figure at 0x10912f60>"
      ]
     },
     "metadata": {},
     "output_type": "display_data"
    },
    {
     "data": {
      "text/plain": [
       "<matplotlib.figure.Figure at 0x108d90f0>"
      ]
     },
     "metadata": {},
     "output_type": "display_data"
    },
    {
     "data": {
      "text/plain": [
       "<matplotlib.figure.Figure at 0x108bb278>"
      ]
     },
     "metadata": {},
     "output_type": "display_data"
    },
    {
     "data": {
      "text/plain": [
       "<matplotlib.figure.Figure at 0x10e7e208>"
      ]
     },
     "metadata": {},
     "output_type": "display_data"
    },
    {
     "data": {
      "text/plain": [
       "<matplotlib.figure.Figure at 0x108bbe80>"
      ]
     },
     "metadata": {},
     "output_type": "display_data"
    },
    {
     "data": {
      "text/plain": [
       "<matplotlib.figure.Figure at 0xec038d0>"
      ]
     },
     "metadata": {},
     "output_type": "display_data"
    },
    {
     "data": {
      "text/plain": [
       "<matplotlib.figure.Figure at 0x11068cf8>"
      ]
     },
     "metadata": {},
     "output_type": "display_data"
    },
    {
     "data": {
      "text/plain": [
       "<matplotlib.figure.Figure at 0xe390898>"
      ]
     },
     "metadata": {},
     "output_type": "display_data"
    },
    {
     "data": {
      "text/plain": [
       "<matplotlib.figure.Figure at 0xf565470>"
      ]
     },
     "metadata": {},
     "output_type": "display_data"
    }
   ],
   "source": [
    "radarplot(d4dimensions, -4, 4); # for Skill\n",
    "#radarplot(d4dimensions, -2, 2);"
   ]
  },
  {
   "cell_type": "code",
   "execution_count": 16,
   "metadata": {
    "collapsed": true
   },
   "outputs": [],
   "source": [
    "d = d4dimensions\n",
    "d = d.reset_index()\n",
    "#d = d.sort_values(by=interest)\n",
    "d.to_csv(DataDir + '03/score_' + interest + '.csv')"
   ]
  }
 ],
 "metadata": {
  "anaconda-cloud": {},
  "kernelspec": {
   "display_name": "Python [default]",
   "language": "python",
   "name": "python2"
  },
  "language_info": {
   "codemirror_mode": {
    "name": "ipython",
    "version": 2
   },
   "file_extension": ".py",
   "mimetype": "text/x-python",
   "name": "python",
   "nbconvert_exporter": "python",
   "pygments_lexer": "ipython2",
   "version": "2.7.12"
  }
 },
 "nbformat": 4,
 "nbformat_minor": 0
}
