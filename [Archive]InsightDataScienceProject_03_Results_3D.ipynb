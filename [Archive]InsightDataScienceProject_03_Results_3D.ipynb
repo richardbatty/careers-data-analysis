{
 "cells": [
  {
   "cell_type": "markdown",
   "metadata": {},
   "source": [
    "# Insight Data Science Consulting Project: 80,000 hours - Chapter 3\n",
    "\n",
    "Note: this is a part of a consulting project with [80,000 hours](https://80000hours.org/).\n",
    "\n",
    "## Stage 1: Ask a question\n",
    "\n",
    "My objective is to rank skills (and possibly knowledge, tools & tech) based on how valuable they are. The skills are listed by US Department of Labor [here](https://www.onetonline.org/find/descriptor/browse/Skills/2.B.1/).\n",
    "\n",
    "There is no performance measure for this rank yet since it is subjective. Yet in the future, one can create a poll to rate pairwise. \n",
    "\n",
    "## Stage 2: Set the environment up and get data\n",
    "\n",
    "First, set up a directory for data and link it to this workplace. Download data into your choice of directory."
   ]
  },
  {
   "cell_type": "code",
   "execution_count": 1,
   "metadata": {
    "collapsed": false
   },
   "outputs": [],
   "source": [
    "#Set up the environment\n",
    "import pandas as pd                        #Pandas\n",
    "import numpy as np                         #Numpy\n",
    "import pycurl                              #For saving file from url\n",
    "import os                                  #For checking if a file exists\n",
    "from pandas.parser import CParserError     #For checking if a file contains a set of values\n",
    "import matplotlib.pyplot as plt            #For plotting\n",
    "import matplotlib\n",
    "%matplotlib inline\n",
    "\n",
    "#Some machine learning tools\n",
    "from sklearn.linear_model import LassoCV, LassoLarsCV, LinearRegression\n",
    "from sklearn.ensemble import RandomForestRegressor, GradientBoostingRegressor\n",
    "from sklearn.neural_network import MLPRegressor\n",
    "from sklearn.model_selection import StratifiedKFold\n",
    "from sklearn.feature_selection import RFECV\n",
    "\n",
    "#For radar graph plot\n",
    "import numpy as np\n",
    "import matplotlib\n",
    "import matplotlib.path as path\n",
    "import matplotlib.pyplot as plt\n",
    "import matplotlib.patches as patches\n",
    "\n",
    "# Set up data directory\n",
    "DataDir = \"C:/Users/Admin/Desktop/Insight/data/\"\n",
    "OutputDir = \"C:/Users/Admin/Desktop/Insight/output/\"\n"
   ]
  },
  {
   "cell_type": "markdown",
   "metadata": {},
   "source": [
    "## Stage 3+4: Feature exploration and scores"
   ]
  },
  {
   "cell_type": "markdown",
   "metadata": {},
   "source": [
    "See previous chapter."
   ]
  },
  {
   "cell_type": "markdown",
   "metadata": {},
   "source": [
    "## Stage 5: Combine results"
   ]
  },
  {
   "cell_type": "code",
   "execution_count": 2,
   "metadata": {
    "collapsed": true
   },
   "outputs": [],
   "source": [
    "interest = 'Skill'\n",
    "#interest = 'Knowledge'"
   ]
  },
  {
   "cell_type": "code",
   "execution_count": 3,
   "metadata": {
    "collapsed": false
   },
   "outputs": [],
   "source": [
    "filename = \"ScoreAllMeasures_\" + interest + \".csv\"\n",
    "dSummary = pd.read_csv(DataDir+ filename)\n",
    "dSummary = dSummary.drop('Unnamed: 0', 1)\n",
    "dSummary = dSummary.set_index('index')"
   ]
  },
  {
   "cell_type": "code",
   "execution_count": 4,
   "metadata": {
    "collapsed": false
   },
   "outputs": [],
   "source": [
    "d4dimensions = pd.DataFrame(index = dSummary.index)"
   ]
  },
  {
   "cell_type": "code",
   "execution_count": 5,
   "metadata": {
    "collapsed": true
   },
   "outputs": [],
   "source": [
    "d4dimensions['Income'] = dSummary['Wage_BLS']\n",
    "d4dimensions['Satisfaction'] = 0.5*(dSummary['JobSatisfaction_GSS'] + dSummary['JobSatisfaction_PayScale'])\n",
    "d4dimensions['Security'] = 0.5*(dSummary['Transferability'] - dSummary['RiskOfAutomation'])\n",
    "d4dimensions['Learnability'] = -dSummary['JobZone']\n",
    "#d4dimensions['score'] = (d4dimensions['Satisfaction'] + d4dimensions['Income'] + \\\n",
    "#                         d4dimensions['Security'] + d4dimensions['Learnability'])/4\n",
    "d4dimensions['score'] = (d4dimensions['Satisfaction'] + d4dimensions['Income'] + d4dimensions['Security'])/3\n",
    "d4dimensions['color'] = (d4dimensions['score'] - np.min(d4dimensions['score']))/ \\\n",
    "                         (np.max(d4dimensions['score']) - np.min(d4dimensions['score']))"
   ]
  },
  {
   "cell_type": "code",
   "execution_count": 6,
   "metadata": {
    "collapsed": false
   },
   "outputs": [
    {
     "data": {
      "text/plain": [
       "{'Basic',\n",
       " 'Complex Problem Solving',\n",
       " 'Resource Management',\n",
       " 'Social',\n",
       " 'System',\n",
       " 'Technical'}"
      ]
     },
     "execution_count": 6,
     "metadata": {},
     "output_type": "execute_result"
    }
   ],
   "source": [
    "#Label for skill groups based on O*NET database\n",
    "if interest == 'Skill':\n",
    "    SkillGroup = pd.DataFrame(index = d4dimensions.index, columns = ['group'])\n",
    "    SkillGroup.loc['Active Learning'] = 'Basic'\n",
    "    SkillGroup.loc['Active Listening'] = 'Basic'\n",
    "    SkillGroup.loc['Critical Thinking'] = 'Basic'\n",
    "    SkillGroup.loc['Learning Strategies'] = 'Basic'\n",
    "    SkillGroup.loc['Mathematics'] = 'Basic'\n",
    "    SkillGroup.loc['Monitoring'] = 'Basic'\n",
    "    SkillGroup.loc['Reading Comprehension'] = 'Basic'\n",
    "    SkillGroup.loc['Science'] = 'Basic'\n",
    "    SkillGroup.loc['Speaking'] = 'Basic'\n",
    "    SkillGroup.loc['Writing'] = 'Basic'\n",
    "    SkillGroup.loc['Coordination'] = 'Social'\n",
    "    SkillGroup.loc['Instructing'] = 'Social'\n",
    "    SkillGroup.loc['Negotiation'] = 'Social'\n",
    "    SkillGroup.loc['Persuasion'] = 'Social'\n",
    "    SkillGroup.loc['Service Orientation'] = 'Social'\n",
    "    SkillGroup.loc['Social Perceptiveness'] = 'Social'\n",
    "    SkillGroup.loc['Complex Problem Solving'] = 'Complex Problem Solving'\n",
    "    SkillGroup.loc['Equipment Maintenance'] = 'Technical'\n",
    "    SkillGroup.loc['Equipment Selection'] = 'Technical'\n",
    "    SkillGroup.loc['Installation'] = 'Technical'\n",
    "    SkillGroup.loc['Operation and Control'] = 'Technical'\n",
    "    SkillGroup.loc['Operation Monitoring'] = 'Technical'\n",
    "    SkillGroup.loc['Operations Analysis'] = 'Technical'\n",
    "    SkillGroup.loc['Programming'] = 'Technical'\n",
    "    SkillGroup.loc['Quality Control Analysis'] = 'Technical'\n",
    "    SkillGroup.loc['Repairing'] = 'Technical'\n",
    "    SkillGroup.loc['Technology Design'] = 'Technical'\n",
    "    SkillGroup.loc['Troubleshooting'] = 'Technical'\n",
    "    SkillGroup.loc['Management of Financial Resources'] = 'Resource Management'\n",
    "    SkillGroup.loc['Management of Material Resources'] = 'Resource Management'\n",
    "    SkillGroup.loc['Management of Personnel Resources'] = 'Resource Management'\n",
    "    SkillGroup.loc['Time Management'] = 'Resource Management'\n",
    "    SkillGroup.loc['Judgment and Decision Making'] = 'System'\n",
    "    SkillGroup.loc['Systems Analysis'] = 'System'\n",
    "    SkillGroup.loc['Systems Evaluation'] = 'System'\n",
    "\n",
    "    SkillGroup['Color'] = \"0\"\n",
    "    for i in SkillGroup.index:\n",
    "        if SkillGroup.group[i] == 'System':\n",
    "            SkillGroup.loc[i,'Color'] = \"#800080\"#\"purple\",\n",
    "        if SkillGroup.group[i] == 'Resource Management':\n",
    "            SkillGroup.loc[i,'Color'] = \"#0000FF\"#\"blue\",\n",
    "        if SkillGroup.group[i] == 'Technical':\n",
    "            SkillGroup.loc[i,'Color'] = \"#008000\"#\"green\",\n",
    "        if SkillGroup.group[i] == 'Complex Problem Solving':\n",
    "            SkillGroup.loc[i,'Color'] = \"#FFFF00\"#\"yellow\",\n",
    "        if SkillGroup.group[i] == 'Social':\n",
    "            SkillGroup.loc[i,'Color'] = \"#FFA500\"#\"orange\",\n",
    "        if SkillGroup.group[i] == 'Basic':\n",
    "            SkillGroup.loc[i,'Color'] = \"#FF0000\"#\"red\",\n",
    "\n",
    "set(SkillGroup['group'])"
   ]
  },
  {
   "cell_type": "code",
   "execution_count": 7,
   "metadata": {
    "collapsed": false
   },
   "outputs": [],
   "source": [
    "d4dimensions['group'] = SkillGroup['group']\n",
    "d4dimensions['group_color'] = SkillGroup['Color']"
   ]
  },
  {
   "cell_type": "code",
   "execution_count": 8,
   "metadata": {
    "collapsed": false,
    "scrolled": true
   },
   "outputs": [
    {
     "data": {
      "text/html": [
       "<div>\n",
       "<table border=\"1\" class=\"dataframe\">\n",
       "  <thead>\n",
       "    <tr style=\"text-align: right;\">\n",
       "      <th></th>\n",
       "      <th>Income</th>\n",
       "      <th>Satisfaction</th>\n",
       "      <th>Security</th>\n",
       "      <th>Learnability</th>\n",
       "      <th>score</th>\n",
       "      <th>color</th>\n",
       "      <th>group</th>\n",
       "      <th>group_color</th>\n",
       "    </tr>\n",
       "    <tr>\n",
       "      <th>index</th>\n",
       "      <th></th>\n",
       "      <th></th>\n",
       "      <th></th>\n",
       "      <th></th>\n",
       "      <th></th>\n",
       "      <th></th>\n",
       "      <th></th>\n",
       "      <th></th>\n",
       "    </tr>\n",
       "  </thead>\n",
       "  <tbody>\n",
       "    <tr>\n",
       "      <th>Active Learning</th>\n",
       "      <td>2.634182</td>\n",
       "      <td>0.504576</td>\n",
       "      <td>2.069776</td>\n",
       "      <td>-2.341797</td>\n",
       "      <td>1.736178</td>\n",
       "      <td>0.862065</td>\n",
       "      <td>Basic</td>\n",
       "      <td>#FF0000</td>\n",
       "    </tr>\n",
       "    <tr>\n",
       "      <th>Active Listening</th>\n",
       "      <td>2.341124</td>\n",
       "      <td>0.428880</td>\n",
       "      <td>2.202526</td>\n",
       "      <td>-2.322009</td>\n",
       "      <td>1.657510</td>\n",
       "      <td>0.831325</td>\n",
       "      <td>Basic</td>\n",
       "      <td>#FF0000</td>\n",
       "    </tr>\n",
       "    <tr>\n",
       "      <th>Complex Problem Solving</th>\n",
       "      <td>3.147225</td>\n",
       "      <td>0.470851</td>\n",
       "      <td>2.023038</td>\n",
       "      <td>-2.354152</td>\n",
       "      <td>1.880371</td>\n",
       "      <td>0.918410</td>\n",
       "      <td>Complex Problem Solving</td>\n",
       "      <td>#FFFF00</td>\n",
       "    </tr>\n",
       "    <tr>\n",
       "      <th>Coordination</th>\n",
       "      <td>2.074343</td>\n",
       "      <td>0.447771</td>\n",
       "      <td>2.383270</td>\n",
       "      <td>-1.629980</td>\n",
       "      <td>1.635128</td>\n",
       "      <td>0.822579</td>\n",
       "      <td>Social</td>\n",
       "      <td>#FFA500</td>\n",
       "    </tr>\n",
       "    <tr>\n",
       "      <th>Critical Thinking</th>\n",
       "      <td>3.247886</td>\n",
       "      <td>0.528635</td>\n",
       "      <td>2.325277</td>\n",
       "      <td>-2.594317</td>\n",
       "      <td>2.033933</td>\n",
       "      <td>0.978415</td>\n",
       "      <td>Basic</td>\n",
       "      <td>#FF0000</td>\n",
       "    </tr>\n",
       "    <tr>\n",
       "      <th>Equipment Maintenance</th>\n",
       "      <td>-0.503275</td>\n",
       "      <td>-0.063316</td>\n",
       "      <td>-0.843287</td>\n",
       "      <td>0.680028</td>\n",
       "      <td>-0.469960</td>\n",
       "      <td>0.000000</td>\n",
       "      <td>Technical</td>\n",
       "      <td>#008000</td>\n",
       "    </tr>\n",
       "    <tr>\n",
       "      <th>Equipment Selection</th>\n",
       "      <td>-0.473784</td>\n",
       "      <td>-0.064737</td>\n",
       "      <td>-0.767879</td>\n",
       "      <td>0.654828</td>\n",
       "      <td>-0.435467</td>\n",
       "      <td>0.013478</td>\n",
       "      <td>Technical</td>\n",
       "      <td>#008000</td>\n",
       "    </tr>\n",
       "    <tr>\n",
       "      <th>Installation</th>\n",
       "      <td>-0.348337</td>\n",
       "      <td>0.000000</td>\n",
       "      <td>-0.848958</td>\n",
       "      <td>0.456187</td>\n",
       "      <td>-0.399098</td>\n",
       "      <td>0.027690</td>\n",
       "      <td>Technical</td>\n",
       "      <td>#008000</td>\n",
       "    </tr>\n",
       "    <tr>\n",
       "      <th>Instructing</th>\n",
       "      <td>1.562355</td>\n",
       "      <td>0.378890</td>\n",
       "      <td>1.707986</td>\n",
       "      <td>-1.577251</td>\n",
       "      <td>1.216410</td>\n",
       "      <td>0.658962</td>\n",
       "      <td>Social</td>\n",
       "      <td>#FFA500</td>\n",
       "    </tr>\n",
       "    <tr>\n",
       "      <th>Judgment and Decision Making</th>\n",
       "      <td>3.373525</td>\n",
       "      <td>0.547922</td>\n",
       "      <td>2.346067</td>\n",
       "      <td>-2.560573</td>\n",
       "      <td>2.089172</td>\n",
       "      <td>1.000000</td>\n",
       "      <td>System</td>\n",
       "      <td>#800080</td>\n",
       "    </tr>\n",
       "    <tr>\n",
       "      <th>Learning Strategies</th>\n",
       "      <td>1.803256</td>\n",
       "      <td>0.438048</td>\n",
       "      <td>1.791882</td>\n",
       "      <td>-1.812470</td>\n",
       "      <td>1.344395</td>\n",
       "      <td>0.708973</td>\n",
       "      <td>Basic</td>\n",
       "      <td>#FF0000</td>\n",
       "    </tr>\n",
       "    <tr>\n",
       "      <th>Management of Financial Resources</th>\n",
       "      <td>1.792300</td>\n",
       "      <td>0.243484</td>\n",
       "      <td>0.843095</td>\n",
       "      <td>-1.026668</td>\n",
       "      <td>0.959626</td>\n",
       "      <td>0.558622</td>\n",
       "      <td>Resource Management</td>\n",
       "      <td>#0000FF</td>\n",
       "    </tr>\n",
       "    <tr>\n",
       "      <th>Management of Material Resources</th>\n",
       "      <td>1.593262</td>\n",
       "      <td>0.271727</td>\n",
       "      <td>1.038333</td>\n",
       "      <td>-0.946504</td>\n",
       "      <td>0.967774</td>\n",
       "      <td>0.561805</td>\n",
       "      <td>Resource Management</td>\n",
       "      <td>#0000FF</td>\n",
       "    </tr>\n",
       "    <tr>\n",
       "      <th>Management of Personnel Resources</th>\n",
       "      <td>2.086845</td>\n",
       "      <td>0.362612</td>\n",
       "      <td>1.589367</td>\n",
       "      <td>-1.420635</td>\n",
       "      <td>1.346275</td>\n",
       "      <td>0.709707</td>\n",
       "      <td>Resource Management</td>\n",
       "      <td>#0000FF</td>\n",
       "    </tr>\n",
       "    <tr>\n",
       "      <th>Mathematics</th>\n",
       "      <td>1.725672</td>\n",
       "      <td>0.097368</td>\n",
       "      <td>0.671900</td>\n",
       "      <td>-1.143512</td>\n",
       "      <td>0.831646</td>\n",
       "      <td>0.508612</td>\n",
       "      <td>Basic</td>\n",
       "      <td>#FF0000</td>\n",
       "    </tr>\n",
       "    <tr>\n",
       "      <th>Monitoring</th>\n",
       "      <td>2.650519</td>\n",
       "      <td>0.479654</td>\n",
       "      <td>2.287914</td>\n",
       "      <td>-1.902294</td>\n",
       "      <td>1.806029</td>\n",
       "      <td>0.889360</td>\n",
       "      <td>Basic</td>\n",
       "      <td>#FF0000</td>\n",
       "    </tr>\n",
       "    <tr>\n",
       "      <th>Negotiation</th>\n",
       "      <td>1.704476</td>\n",
       "      <td>0.288437</td>\n",
       "      <td>1.549052</td>\n",
       "      <td>-1.471638</td>\n",
       "      <td>1.180655</td>\n",
       "      <td>0.644990</td>\n",
       "      <td>Social</td>\n",
       "      <td>#FFA500</td>\n",
       "    </tr>\n",
       "    <tr>\n",
       "      <th>Operation Monitoring</th>\n",
       "      <td>-0.338025</td>\n",
       "      <td>-0.057019</td>\n",
       "      <td>-0.509121</td>\n",
       "      <td>0.724067</td>\n",
       "      <td>-0.301388</td>\n",
       "      <td>0.065871</td>\n",
       "      <td>Technical</td>\n",
       "      <td>#008000</td>\n",
       "    </tr>\n",
       "    <tr>\n",
       "      <th>Operation and Control</th>\n",
       "      <td>-0.569528</td>\n",
       "      <td>-0.081749</td>\n",
       "      <td>-0.665054</td>\n",
       "      <td>0.796250</td>\n",
       "      <td>-0.438777</td>\n",
       "      <td>0.012185</td>\n",
       "      <td>Technical</td>\n",
       "      <td>#008000</td>\n",
       "    </tr>\n",
       "    <tr>\n",
       "      <th>Operations Analysis</th>\n",
       "      <td>1.824975</td>\n",
       "      <td>0.261473</td>\n",
       "      <td>0.975697</td>\n",
       "      <td>-1.286879</td>\n",
       "      <td>1.020715</td>\n",
       "      <td>0.582492</td>\n",
       "      <td>Technical</td>\n",
       "      <td>#008000</td>\n",
       "    </tr>\n",
       "    <tr>\n",
       "      <th>Persuasion</th>\n",
       "      <td>1.839217</td>\n",
       "      <td>0.240179</td>\n",
       "      <td>1.736010</td>\n",
       "      <td>-1.691501</td>\n",
       "      <td>1.271802</td>\n",
       "      <td>0.680607</td>\n",
       "      <td>Social</td>\n",
       "      <td>#FFA500</td>\n",
       "    </tr>\n",
       "    <tr>\n",
       "      <th>Programming</th>\n",
       "      <td>1.835860</td>\n",
       "      <td>0.128721</td>\n",
       "      <td>0.637307</td>\n",
       "      <td>-1.287573</td>\n",
       "      <td>0.867296</td>\n",
       "      <td>0.522543</td>\n",
       "      <td>Technical</td>\n",
       "      <td>#008000</td>\n",
       "    </tr>\n",
       "    <tr>\n",
       "      <th>Quality Control Analysis</th>\n",
       "      <td>-0.000000</td>\n",
       "      <td>0.000000</td>\n",
       "      <td>-0.374090</td>\n",
       "      <td>0.512779</td>\n",
       "      <td>-0.124697</td>\n",
       "      <td>0.134914</td>\n",
       "      <td>Technical</td>\n",
       "      <td>#008000</td>\n",
       "    </tr>\n",
       "    <tr>\n",
       "      <th>Reading Comprehension</th>\n",
       "      <td>2.284322</td>\n",
       "      <td>0.402398</td>\n",
       "      <td>1.661611</td>\n",
       "      <td>-2.158820</td>\n",
       "      <td>1.449444</td>\n",
       "      <td>0.750022</td>\n",
       "      <td>Basic</td>\n",
       "      <td>#FF0000</td>\n",
       "    </tr>\n",
       "    <tr>\n",
       "      <th>Repairing</th>\n",
       "      <td>-0.465672</td>\n",
       "      <td>-0.056690</td>\n",
       "      <td>-0.836693</td>\n",
       "      <td>0.643004</td>\n",
       "      <td>-0.453018</td>\n",
       "      <td>0.006620</td>\n",
       "      <td>Technical</td>\n",
       "      <td>#008000</td>\n",
       "    </tr>\n",
       "    <tr>\n",
       "      <th>Science</th>\n",
       "      <td>1.342842</td>\n",
       "      <td>0.212188</td>\n",
       "      <td>0.498642</td>\n",
       "      <td>-1.008347</td>\n",
       "      <td>0.684557</td>\n",
       "      <td>0.451136</td>\n",
       "      <td>Basic</td>\n",
       "      <td>#FF0000</td>\n",
       "    </tr>\n",
       "    <tr>\n",
       "      <th>Service Orientation</th>\n",
       "      <td>0.731164</td>\n",
       "      <td>0.166830</td>\n",
       "      <td>1.435044</td>\n",
       "      <td>-1.065236</td>\n",
       "      <td>0.777679</td>\n",
       "      <td>0.487524</td>\n",
       "      <td>Social</td>\n",
       "      <td>#FFA500</td>\n",
       "    </tr>\n",
       "    <tr>\n",
       "      <th>Social Perceptiveness</th>\n",
       "      <td>1.534338</td>\n",
       "      <td>0.351174</td>\n",
       "      <td>2.067679</td>\n",
       "      <td>-1.611079</td>\n",
       "      <td>1.317730</td>\n",
       "      <td>0.698553</td>\n",
       "      <td>Social</td>\n",
       "      <td>#FFA500</td>\n",
       "    </tr>\n",
       "    <tr>\n",
       "      <th>Speaking</th>\n",
       "      <td>2.046957</td>\n",
       "      <td>0.395178</td>\n",
       "      <td>2.098110</td>\n",
       "      <td>-2.081626</td>\n",
       "      <td>1.513415</td>\n",
       "      <td>0.775019</td>\n",
       "      <td>Basic</td>\n",
       "      <td>#FF0000</td>\n",
       "    </tr>\n",
       "    <tr>\n",
       "      <th>Systems Analysis</th>\n",
       "      <td>2.352932</td>\n",
       "      <td>0.354858</td>\n",
       "      <td>1.499109</td>\n",
       "      <td>-1.819586</td>\n",
       "      <td>1.402300</td>\n",
       "      <td>0.731600</td>\n",
       "      <td>System</td>\n",
       "      <td>#800080</td>\n",
       "    </tr>\n",
       "    <tr>\n",
       "      <th>Systems Evaluation</th>\n",
       "      <td>2.446762</td>\n",
       "      <td>0.356642</td>\n",
       "      <td>1.588392</td>\n",
       "      <td>-1.860845</td>\n",
       "      <td>1.463932</td>\n",
       "      <td>0.755683</td>\n",
       "      <td>System</td>\n",
       "      <td>#800080</td>\n",
       "    </tr>\n",
       "    <tr>\n",
       "      <th>Technology Design</th>\n",
       "      <td>1.958756</td>\n",
       "      <td>0.263648</td>\n",
       "      <td>1.174327</td>\n",
       "      <td>-1.195540</td>\n",
       "      <td>1.132244</td>\n",
       "      <td>0.626073</td>\n",
       "      <td>Technical</td>\n",
       "      <td>#008000</td>\n",
       "    </tr>\n",
       "    <tr>\n",
       "      <th>Time Management</th>\n",
       "      <td>2.889421</td>\n",
       "      <td>0.513991</td>\n",
       "      <td>2.293531</td>\n",
       "      <td>-2.212556</td>\n",
       "      <td>1.898981</td>\n",
       "      <td>0.925682</td>\n",
       "      <td>Resource Management</td>\n",
       "      <td>#0000FF</td>\n",
       "    </tr>\n",
       "    <tr>\n",
       "      <th>Troubleshooting</th>\n",
       "      <td>-0.368970</td>\n",
       "      <td>-0.049376</td>\n",
       "      <td>-0.653941</td>\n",
       "      <td>0.670602</td>\n",
       "      <td>-0.357429</td>\n",
       "      <td>0.043972</td>\n",
       "      <td>Technical</td>\n",
       "      <td>#008000</td>\n",
       "    </tr>\n",
       "    <tr>\n",
       "      <th>Writing</th>\n",
       "      <td>1.969658</td>\n",
       "      <td>0.359222</td>\n",
       "      <td>1.474110</td>\n",
       "      <td>-1.931696</td>\n",
       "      <td>1.267663</td>\n",
       "      <td>0.678989</td>\n",
       "      <td>Basic</td>\n",
       "      <td>#FF0000</td>\n",
       "    </tr>\n",
       "  </tbody>\n",
       "</table>\n",
       "</div>"
      ],
      "text/plain": [
       "                                     Income  Satisfaction  Security  \\\n",
       "index                                                                 \n",
       "Active Learning                    2.634182      0.504576  2.069776   \n",
       "Active Listening                   2.341124      0.428880  2.202526   \n",
       "Complex Problem Solving            3.147225      0.470851  2.023038   \n",
       "Coordination                       2.074343      0.447771  2.383270   \n",
       "Critical Thinking                  3.247886      0.528635  2.325277   \n",
       "Equipment Maintenance             -0.503275     -0.063316 -0.843287   \n",
       "Equipment Selection               -0.473784     -0.064737 -0.767879   \n",
       "Installation                      -0.348337      0.000000 -0.848958   \n",
       "Instructing                        1.562355      0.378890  1.707986   \n",
       "Judgment and Decision Making       3.373525      0.547922  2.346067   \n",
       "Learning Strategies                1.803256      0.438048  1.791882   \n",
       "Management of Financial Resources  1.792300      0.243484  0.843095   \n",
       "Management of Material Resources   1.593262      0.271727  1.038333   \n",
       "Management of Personnel Resources  2.086845      0.362612  1.589367   \n",
       "Mathematics                        1.725672      0.097368  0.671900   \n",
       "Monitoring                         2.650519      0.479654  2.287914   \n",
       "Negotiation                        1.704476      0.288437  1.549052   \n",
       "Operation Monitoring              -0.338025     -0.057019 -0.509121   \n",
       "Operation and Control             -0.569528     -0.081749 -0.665054   \n",
       "Operations Analysis                1.824975      0.261473  0.975697   \n",
       "Persuasion                         1.839217      0.240179  1.736010   \n",
       "Programming                        1.835860      0.128721  0.637307   \n",
       "Quality Control Analysis          -0.000000      0.000000 -0.374090   \n",
       "Reading Comprehension              2.284322      0.402398  1.661611   \n",
       "Repairing                         -0.465672     -0.056690 -0.836693   \n",
       "Science                            1.342842      0.212188  0.498642   \n",
       "Service Orientation                0.731164      0.166830  1.435044   \n",
       "Social Perceptiveness              1.534338      0.351174  2.067679   \n",
       "Speaking                           2.046957      0.395178  2.098110   \n",
       "Systems Analysis                   2.352932      0.354858  1.499109   \n",
       "Systems Evaluation                 2.446762      0.356642  1.588392   \n",
       "Technology Design                  1.958756      0.263648  1.174327   \n",
       "Time Management                    2.889421      0.513991  2.293531   \n",
       "Troubleshooting                   -0.368970     -0.049376 -0.653941   \n",
       "Writing                            1.969658      0.359222  1.474110   \n",
       "\n",
       "                                   Learnability     score     color  \\\n",
       "index                                                                 \n",
       "Active Learning                       -2.341797  1.736178  0.862065   \n",
       "Active Listening                      -2.322009  1.657510  0.831325   \n",
       "Complex Problem Solving               -2.354152  1.880371  0.918410   \n",
       "Coordination                          -1.629980  1.635128  0.822579   \n",
       "Critical Thinking                     -2.594317  2.033933  0.978415   \n",
       "Equipment Maintenance                  0.680028 -0.469960  0.000000   \n",
       "Equipment Selection                    0.654828 -0.435467  0.013478   \n",
       "Installation                           0.456187 -0.399098  0.027690   \n",
       "Instructing                           -1.577251  1.216410  0.658962   \n",
       "Judgment and Decision Making          -2.560573  2.089172  1.000000   \n",
       "Learning Strategies                   -1.812470  1.344395  0.708973   \n",
       "Management of Financial Resources     -1.026668  0.959626  0.558622   \n",
       "Management of Material Resources      -0.946504  0.967774  0.561805   \n",
       "Management of Personnel Resources     -1.420635  1.346275  0.709707   \n",
       "Mathematics                           -1.143512  0.831646  0.508612   \n",
       "Monitoring                            -1.902294  1.806029  0.889360   \n",
       "Negotiation                           -1.471638  1.180655  0.644990   \n",
       "Operation Monitoring                   0.724067 -0.301388  0.065871   \n",
       "Operation and Control                  0.796250 -0.438777  0.012185   \n",
       "Operations Analysis                   -1.286879  1.020715  0.582492   \n",
       "Persuasion                            -1.691501  1.271802  0.680607   \n",
       "Programming                           -1.287573  0.867296  0.522543   \n",
       "Quality Control Analysis               0.512779 -0.124697  0.134914   \n",
       "Reading Comprehension                 -2.158820  1.449444  0.750022   \n",
       "Repairing                              0.643004 -0.453018  0.006620   \n",
       "Science                               -1.008347  0.684557  0.451136   \n",
       "Service Orientation                   -1.065236  0.777679  0.487524   \n",
       "Social Perceptiveness                 -1.611079  1.317730  0.698553   \n",
       "Speaking                              -2.081626  1.513415  0.775019   \n",
       "Systems Analysis                      -1.819586  1.402300  0.731600   \n",
       "Systems Evaluation                    -1.860845  1.463932  0.755683   \n",
       "Technology Design                     -1.195540  1.132244  0.626073   \n",
       "Time Management                       -2.212556  1.898981  0.925682   \n",
       "Troubleshooting                        0.670602 -0.357429  0.043972   \n",
       "Writing                               -1.931696  1.267663  0.678989   \n",
       "\n",
       "                                                     group group_color  \n",
       "index                                                                   \n",
       "Active Learning                                      Basic     #FF0000  \n",
       "Active Listening                                     Basic     #FF0000  \n",
       "Complex Problem Solving            Complex Problem Solving     #FFFF00  \n",
       "Coordination                                        Social     #FFA500  \n",
       "Critical Thinking                                    Basic     #FF0000  \n",
       "Equipment Maintenance                            Technical     #008000  \n",
       "Equipment Selection                              Technical     #008000  \n",
       "Installation                                     Technical     #008000  \n",
       "Instructing                                         Social     #FFA500  \n",
       "Judgment and Decision Making                        System     #800080  \n",
       "Learning Strategies                                  Basic     #FF0000  \n",
       "Management of Financial Resources      Resource Management     #0000FF  \n",
       "Management of Material Resources       Resource Management     #0000FF  \n",
       "Management of Personnel Resources      Resource Management     #0000FF  \n",
       "Mathematics                                          Basic     #FF0000  \n",
       "Monitoring                                           Basic     #FF0000  \n",
       "Negotiation                                         Social     #FFA500  \n",
       "Operation Monitoring                             Technical     #008000  \n",
       "Operation and Control                            Technical     #008000  \n",
       "Operations Analysis                              Technical     #008000  \n",
       "Persuasion                                          Social     #FFA500  \n",
       "Programming                                      Technical     #008000  \n",
       "Quality Control Analysis                         Technical     #008000  \n",
       "Reading Comprehension                                Basic     #FF0000  \n",
       "Repairing                                        Technical     #008000  \n",
       "Science                                              Basic     #FF0000  \n",
       "Service Orientation                                 Social     #FFA500  \n",
       "Social Perceptiveness                               Social     #FFA500  \n",
       "Speaking                                             Basic     #FF0000  \n",
       "Systems Analysis                                    System     #800080  \n",
       "Systems Evaluation                                  System     #800080  \n",
       "Technology Design                                Technical     #008000  \n",
       "Time Management                        Resource Management     #0000FF  \n",
       "Troubleshooting                                  Technical     #008000  \n",
       "Writing                                              Basic     #FF0000  "
      ]
     },
     "execution_count": 8,
     "metadata": {},
     "output_type": "execute_result"
    }
   ],
   "source": [
    "pd.set_option('max_rows', 100)\n",
    "d4dimensions"
   ]
  },
  {
   "cell_type": "code",
   "execution_count": 9,
   "metadata": {
    "collapsed": true
   },
   "outputs": [],
   "source": [
    "from matplotlib.font_manager import FontProperties\n",
    "\n",
    "fontP = FontProperties()\n",
    "fontP.set_size('small')\n",
    "\n",
    "#Set up font properties"
   ]
  },
  {
   "cell_type": "code",
   "execution_count": 10,
   "metadata": {
    "collapsed": false
   },
   "outputs": [
    {
     "data": {
      "text/plain": [
       "Income            3.37353\n",
       "Satisfaction     0.547922\n",
       "Security          2.38327\n",
       "Learnability      0.79625\n",
       "score             2.08917\n",
       "color                   1\n",
       "group           Technical\n",
       "group_color       #FFFF00\n",
       "dtype: object"
      ]
     },
     "execution_count": 10,
     "metadata": {},
     "output_type": "execute_result"
    }
   ],
   "source": [
    "d4dimensions.max(axis=0)"
   ]
  },
  {
   "cell_type": "code",
   "execution_count": 11,
   "metadata": {
    "collapsed": false
   },
   "outputs": [
    {
     "data": {
      "text/plain": [
       "Income         -0.569528\n",
       "Satisfaction   -0.081749\n",
       "Security       -0.848958\n",
       "Learnability    -2.59432\n",
       "score           -0.46996\n",
       "color                  0\n",
       "group              Basic\n",
       "group_color      #0000FF\n",
       "dtype: object"
      ]
     },
     "execution_count": 11,
     "metadata": {},
     "output_type": "execute_result"
    }
   ],
   "source": [
    "d4dimensions.min(axis=0)"
   ]
  },
  {
   "cell_type": "markdown",
   "metadata": {},
   "source": [
    "Click to see more information about definitions of [Skills](https://www.onetonline.org/find/descriptor/browse/Skills/) and [Knowledge](https://www.onetonline.org/find/descriptor/browse/Knowledge/). Note that learnability gives an awkward interpretation."
   ]
  },
  {
   "cell_type": "code",
   "execution_count": 12,
   "metadata": {
    "collapsed": true
   },
   "outputs": [],
   "source": [
    "#set color map\n",
    "cmap = matplotlib.cm.get_cmap('RdYlGn')\n",
    "#set directory\n",
    "Dir = OutputDir + interest + '_3D/'"
   ]
  },
  {
   "cell_type": "code",
   "execution_count": 13,
   "metadata": {
    "collapsed": false
   },
   "outputs": [],
   "source": [
    "def radarplot(df, lower, upper):\n",
    "    df = df.sort_values(by='score')\n",
    "    for count in range(0,len(df)):\n",
    "\n",
    "        #Adapted from Copyright (C) 2011  Nicolas P. Rougier\n",
    "\n",
    "        # Data to be represented\n",
    "        # ----------\n",
    "        properties = df.columns[0:3]\n",
    "        values = df.loc[df.index[count],:][0:3]\n",
    "        # ----------\n",
    "\n",
    "        # Choose some nice colors\n",
    "        matplotlib.rc('axes', facecolor = 'white')\n",
    "\n",
    "        # Make figure background the same colors as axes \n",
    "        fig = plt.figure(figsize=(8,6), facecolor='white')\n",
    "\n",
    "\n",
    "        # Use a polar axes\n",
    "        axes = plt.subplot(111, polar=True)\n",
    "\n",
    "        # Set ticks to the number of properties (in radians)\n",
    "        #t = np.arange(0,2*np.pi,2*np.pi/len(properties))\n",
    "        t = np.arange(np.pi/3,2*np.pi,2*np.pi/len(properties))\n",
    "        plt.xticks(t, [])\n",
    "\n",
    "        # Set yticks from 0 to 10\n",
    "        #plt.yticks(np.linspace(0,10,11))\n",
    "        #plt.yticks(np.linspace(0,4,9))\n",
    "        plt.yticks(np.linspace(lower,upper,(upper-lower)+1))\n",
    "\n",
    "        # Draw polygon representing values\n",
    "        points = [(x,y) for x,y in zip(t,values)]\n",
    "        points.append(points[0])\n",
    "        points = np.array(points)\n",
    "        codes = [path.Path.MOVETO,] + \\\n",
    "                [path.Path.LINETO,]*(len(values) -1) + \\\n",
    "                [ path.Path.CLOSEPOLY ]\n",
    "        _path = path.Path(points, codes)\n",
    "        _patch = patches.PathPatch(_path, fill=True, color=cmap(df.loc[df.index[count],'color']), linewidth=0, alpha=.7)\n",
    "        axes.add_patch(_patch)\n",
    "        _patch = patches.PathPatch(_path, fill=False, linewidth = 2)\n",
    "        axes.add_patch(_patch)\n",
    "\n",
    "        # Draw circles at value points\n",
    "        plt.scatter(points[:,0],points[:,1], linewidth=2,\n",
    "                    s=50, color='white', edgecolor='black', zorder=10)\n",
    "\n",
    "        # Set axes limits\n",
    "        #plt.ylim(0,10)\n",
    "        #plt.ylim(0,4)\n",
    "        plt.ylim(lower,upper)\n",
    "\n",
    "        #add tile\n",
    "        plt.title(df.index[count] + \", score = \"+ str(round(df.loc[df.index[count],'score'],2)) ,size=20)\n",
    "\n",
    "        # Draw ytick labels to make sure they fit properly\n",
    "        for i in range(len(properties)):\n",
    "            angle_rad = i/float(len(properties))*2*np.pi + np.pi/3\n",
    "            angle_deg = i/float(len(properties))*360 + 60\n",
    "            ha = \"right\"\n",
    "            if angle_rad < np.pi/2 or angle_rad > 3*np.pi/2: ha = \"left\"\n",
    "            #plt.text(angle_rad, 10.75, properties[i], size=14,\n",
    "            #plt.text(angle_rad, 4.75, properties[i], size=14,\n",
    "            plt.text(angle_rad, upper + 0.25, properties[i], size=14,\n",
    "                     horizontalalignment=ha, verticalalignment=\"center\")\n",
    "\n",
    "            # A variant on label orientation\n",
    "            #    plt.text(angle_rad, 11, properties[i], size=14,\n",
    "            #             rotation=angle_deg-90,\n",
    "            #             horizontalalignment='center', verticalalignment=\"center\")\n",
    "\n",
    "        # Done\n",
    "        plt.savefig(Dir + str(count+1).zfill(2) +'-radar-chart.png', facecolor='white');\n",
    "        #plt.show()\n",
    "        plt.clf();"
   ]
  },
  {
   "cell_type": "code",
   "execution_count": 14,
   "metadata": {
    "collapsed": false
   },
   "outputs": [
    {
     "name": "stderr",
     "output_type": "stream",
     "text": [
      "C:\\Users\\Admin\\Anaconda2\\lib\\site-packages\\matplotlib\\pyplot.py:524: RuntimeWarning: More than 20 figures have been opened. Figures created through the pyplot interface (`matplotlib.pyplot.figure`) are retained until explicitly closed and may consume too much memory. (To control this warning, see the rcParam `figure.max_open_warning`).\n",
      "  max_open_warning, RuntimeWarning)\n"
     ]
    },
    {
     "data": {
      "text/plain": [
       "<matplotlib.figure.Figure at 0xc05a630>"
      ]
     },
     "metadata": {},
     "output_type": "display_data"
    },
    {
     "data": {
      "text/plain": [
       "<matplotlib.figure.Figure at 0xc05a588>"
      ]
     },
     "metadata": {},
     "output_type": "display_data"
    },
    {
     "data": {
      "text/plain": [
       "<matplotlib.figure.Figure at 0xc05a668>"
      ]
     },
     "metadata": {},
     "output_type": "display_data"
    },
    {
     "data": {
      "text/plain": [
       "<matplotlib.figure.Figure at 0xc258d68>"
      ]
     },
     "metadata": {},
     "output_type": "display_data"
    },
    {
     "data": {
      "text/plain": [
       "<matplotlib.figure.Figure at 0xc98b8d0>"
      ]
     },
     "metadata": {},
     "output_type": "display_data"
    },
    {
     "data": {
      "text/plain": [
       "<matplotlib.figure.Figure at 0xc98b710>"
      ]
     },
     "metadata": {},
     "output_type": "display_data"
    },
    {
     "data": {
      "text/plain": [
       "<matplotlib.figure.Figure at 0xcc644a8>"
      ]
     },
     "metadata": {},
     "output_type": "display_data"
    },
    {
     "data": {
      "text/plain": [
       "<matplotlib.figure.Figure at 0xc4cd2e8>"
      ]
     },
     "metadata": {},
     "output_type": "display_data"
    },
    {
     "data": {
      "text/plain": [
       "<matplotlib.figure.Figure at 0xcc79e10>"
      ]
     },
     "metadata": {},
     "output_type": "display_data"
    },
    {
     "data": {
      "text/plain": [
       "<matplotlib.figure.Figure at 0xdc4e048>"
      ]
     },
     "metadata": {},
     "output_type": "display_data"
    },
    {
     "data": {
      "text/plain": [
       "<matplotlib.figure.Figure at 0xcc64cf8>"
      ]
     },
     "metadata": {},
     "output_type": "display_data"
    },
    {
     "data": {
      "text/plain": [
       "<matplotlib.figure.Figure at 0xdc44ef0>"
      ]
     },
     "metadata": {},
     "output_type": "display_data"
    },
    {
     "data": {
      "text/plain": [
       "<matplotlib.figure.Figure at 0xcc649e8>"
      ]
     },
     "metadata": {},
     "output_type": "display_data"
    },
    {
     "data": {
      "text/plain": [
       "<matplotlib.figure.Figure at 0xc267e80>"
      ]
     },
     "metadata": {},
     "output_type": "display_data"
    },
    {
     "data": {
      "text/plain": [
       "<matplotlib.figure.Figure at 0xca4c7f0>"
      ]
     },
     "metadata": {},
     "output_type": "display_data"
    },
    {
     "data": {
      "text/plain": [
       "<matplotlib.figure.Figure at 0xc4a87f0>"
      ]
     },
     "metadata": {},
     "output_type": "display_data"
    },
    {
     "data": {
      "text/plain": [
       "<matplotlib.figure.Figure at 0xca288d0>"
      ]
     },
     "metadata": {},
     "output_type": "display_data"
    },
    {
     "data": {
      "text/plain": [
       "<matplotlib.figure.Figure at 0xdc14198>"
      ]
     },
     "metadata": {},
     "output_type": "display_data"
    },
    {
     "data": {
      "text/plain": [
       "<matplotlib.figure.Figure at 0xc98bb38>"
      ]
     },
     "metadata": {},
     "output_type": "display_data"
    },
    {
     "data": {
      "text/plain": [
       "<matplotlib.figure.Figure at 0xe28fa90>"
      ]
     },
     "metadata": {},
     "output_type": "display_data"
    },
    {
     "data": {
      "text/plain": [
       "<matplotlib.figure.Figure at 0xf58cef0>"
      ]
     },
     "metadata": {},
     "output_type": "display_data"
    },
    {
     "data": {
      "text/plain": [
       "<matplotlib.figure.Figure at 0xcc7bf60>"
      ]
     },
     "metadata": {},
     "output_type": "display_data"
    },
    {
     "data": {
      "text/plain": [
       "<matplotlib.figure.Figure at 0xf7745c0>"
      ]
     },
     "metadata": {},
     "output_type": "display_data"
    },
    {
     "data": {
      "text/plain": [
       "<matplotlib.figure.Figure at 0xcc91b70>"
      ]
     },
     "metadata": {},
     "output_type": "display_data"
    },
    {
     "data": {
      "text/plain": [
       "<matplotlib.figure.Figure at 0xfa29e48>"
      ]
     },
     "metadata": {},
     "output_type": "display_data"
    },
    {
     "data": {
      "text/plain": [
       "<matplotlib.figure.Figure at 0x10421f60>"
      ]
     },
     "metadata": {},
     "output_type": "display_data"
    },
    {
     "data": {
      "text/plain": [
       "<matplotlib.figure.Figure at 0x10509e80>"
      ]
     },
     "metadata": {},
     "output_type": "display_data"
    },
    {
     "data": {
      "text/plain": [
       "<matplotlib.figure.Figure at 0xf5daef0>"
      ]
     },
     "metadata": {},
     "output_type": "display_data"
    },
    {
     "data": {
      "text/plain": [
       "<matplotlib.figure.Figure at 0x10a18fd0>"
      ]
     },
     "metadata": {},
     "output_type": "display_data"
    },
    {
     "data": {
      "text/plain": [
       "<matplotlib.figure.Figure at 0x10a18f28>"
      ]
     },
     "metadata": {},
     "output_type": "display_data"
    },
    {
     "data": {
      "text/plain": [
       "<matplotlib.figure.Figure at 0x1042d710>"
      ]
     },
     "metadata": {},
     "output_type": "display_data"
    },
    {
     "data": {
      "text/plain": [
       "<matplotlib.figure.Figure at 0x10516eb8>"
      ]
     },
     "metadata": {},
     "output_type": "display_data"
    },
    {
     "data": {
      "text/plain": [
       "<matplotlib.figure.Figure at 0x1042d3c8>"
      ]
     },
     "metadata": {},
     "output_type": "display_data"
    },
    {
     "data": {
      "text/plain": [
       "<matplotlib.figure.Figure at 0xf0cd470>"
      ]
     },
     "metadata": {},
     "output_type": "display_data"
    },
    {
     "data": {
      "text/plain": [
       "<matplotlib.figure.Figure at 0x10516898>"
      ]
     },
     "metadata": {},
     "output_type": "display_data"
    }
   ],
   "source": [
    "radarplot(d4dimensions, -4, 4); # for Skill\n",
    "#radarplot(d4dimensions, -2, 2);"
   ]
  },
  {
   "cell_type": "code",
   "execution_count": 161,
   "metadata": {
    "collapsed": true
   },
   "outputs": [],
   "source": [
    "d = d4dimensions\n",
    "d = d.reset_index()\n",
    "#d = d.sort_values(by=interest)\n",
    "d.to_csv(DataDir + 'score_' + interest + '.csv')"
   ]
  }
 ],
 "metadata": {
  "anaconda-cloud": {},
  "kernelspec": {
   "display_name": "Python [default]",
   "language": "python",
   "name": "python2"
  },
  "language_info": {
   "codemirror_mode": {
    "name": "ipython",
    "version": 2
   },
   "file_extension": ".py",
   "mimetype": "text/x-python",
   "name": "python",
   "nbconvert_exporter": "python",
   "pygments_lexer": "ipython2",
   "version": "2.7.12"
  }
 },
 "nbformat": 4,
 "nbformat_minor": 0
}
