{
 "cells": [
  {
   "cell_type": "markdown",
   "metadata": {},
   "source": [
    "# Insight Data Science Consulting Project: 80,000 hours - Chapter 4\n",
    "\n",
    "Note: this is a part of a consulting project with [80,000 hours](https://80000hours.org/).\n",
    "\n",
    "## Stage 1: Ask a question\n",
    "\n",
    "My objective is to rank skills (and possibly knowledge, tools & tech) based on how valuable they are. The skills are listed by US Department of Labor [here](https://www.onetonline.org/find/descriptor/browse/Skills/2.B.1/).\n",
    "\n",
    "There is no performance measure for this rank yet since it is subjective. Yet in the future, one can create a poll to rate pairwise. \n",
    "\n",
    "## Stage 2: Set the environment up and get data\n",
    "\n",
    "First, set up a directory for data and link it to this workplace. Download data into your choice of directory."
   ]
  },
  {
   "cell_type": "code",
   "execution_count": 1,
   "metadata": {
    "collapsed": false
   },
   "outputs": [],
   "source": [
    "#Set up the environment\n",
    "import pandas as pd                        #Pandas\n",
    "import numpy as np                         #Numpy\n",
    "import pycurl                              #For saving file from url\n",
    "import os                                  #For checking if a file exists\n",
    "from pandas.parser import CParserError     #For checking if a file contains a set of values\n",
    "import matplotlib.pyplot as plt            #For plotting\n",
    "import matplotlib\n",
    "%matplotlib inline\n",
    "\n",
    "#Some machine learning tools\n",
    "from sklearn.linear_model import LassoCV, LassoLarsCV, LinearRegression\n",
    "from sklearn.ensemble import RandomForestRegressor, GradientBoostingRegressor\n",
    "from sklearn.neural_network import MLPRegressor\n",
    "from sklearn.model_selection import StratifiedKFold\n",
    "from sklearn.feature_selection import RFECV\n",
    "\n",
    "#For radar graph plot\n",
    "import numpy as np\n",
    "import matplotlib\n",
    "import matplotlib.path as path\n",
    "import matplotlib.pyplot as plt\n",
    "import matplotlib.patches as patches\n",
    "\n",
    "# Set up data directory\n",
    "DataDir = \"C:/Users/Admin/Desktop/Insight/80000hrs/\"\n"
   ]
  },
  {
   "cell_type": "markdown",
   "metadata": {},
   "source": [
    "## Stage 3+4+5: Feature exploration, scores, and results"
   ]
  },
  {
   "cell_type": "markdown",
   "metadata": {},
   "source": [
    "See previous chapter."
   ]
  },
  {
   "cell_type": "markdown",
   "metadata": {},
   "source": [
    "## Stage 6: Compute score for occupations"
   ]
  },
  {
   "cell_type": "code",
   "execution_count": 2,
   "metadata": {
    "collapsed": true
   },
   "outputs": [],
   "source": [
    "interest = 'Skill'\n",
    "#interest = 'Knowledge'"
   ]
  },
  {
   "cell_type": "code",
   "execution_count": 3,
   "metadata": {
    "collapsed": true
   },
   "outputs": [],
   "source": [
    "#First read the list of occupation \n",
    "filename = \"00/All_Career_Clusters.csv\"\n",
    "d0 = pd.pandas.read_csv(DataDir+filename)"
   ]
  },
  {
   "cell_type": "code",
   "execution_count": 4,
   "metadata": {
    "collapsed": true
   },
   "outputs": [],
   "source": [
    "d0.rename(columns={'Code':'SOC code'}, inplace=True)"
   ]
  },
  {
   "cell_type": "code",
   "execution_count": 5,
   "metadata": {
    "collapsed": false
   },
   "outputs": [],
   "source": [
    "filename = \"01/d\"+ interest +\".csv\"\n",
    "d1 = pd.read_csv(DataDir + filename)\n",
    "d1 = d1.drop('Unnamed: 0', 1)\n",
    "d1 = d1.set_index('SOC code')"
   ]
  },
  {
   "cell_type": "code",
   "execution_count": 6,
   "metadata": {
    "collapsed": false
   },
   "outputs": [],
   "source": [
    "filename = \"03/score_\" + interest + \".csv\" \n",
    "d2 = pd.read_csv(DataDir+ filename)\n",
    "d2 = d2.drop('Unnamed: 0', 1)\n",
    "d2.rename(columns={'index':interest}, inplace=True)\n",
    "d2 = d2.set_index(interest)"
   ]
  },
  {
   "cell_type": "code",
   "execution_count": 7,
   "metadata": {
    "collapsed": false
   },
   "outputs": [],
   "source": [
    "dOccupationScore = pd.DataFrame(index=d1.index)\n",
    "dOccupationScore['Income'] = 0\n",
    "dOccupationScore['Satisfaction'] = 0\n",
    "dOccupationScore['Learnability'] = 0\n",
    "dOccupationScore['Security'] = 0\n",
    "dOccupationScore = dOccupationScore[['Income','Satisfaction','Learnability', 'Security']]"
   ]
  },
  {
   "cell_type": "code",
   "execution_count": 8,
   "metadata": {
    "collapsed": false
   },
   "outputs": [
    {
     "data": {
      "text/plain": [
       "((953, 35), (35, 8))"
      ]
     },
     "execution_count": 8,
     "metadata": {},
     "output_type": "execute_result"
    }
   ],
   "source": [
    "d1.shape, d2.shape"
   ]
  },
  {
   "cell_type": "code",
   "execution_count": 9,
   "metadata": {
    "collapsed": false
   },
   "outputs": [],
   "source": [
    "for i in ['Income','Satisfaction','Learnability', 'Security']:\n",
    "    for j in d1.index:\n",
    "        for k in d1.columns:\n",
    "            dOccupationScore.loc[j,i] = dOccupationScore.loc[j,i] + d1.loc[j,k]*d2.loc[k,i]"
   ]
  },
  {
   "cell_type": "code",
   "execution_count": 10,
   "metadata": {
    "collapsed": false
   },
   "outputs": [],
   "source": [
    "exec(\"dOccupationScore_\" + interest + \"= dOccupationScore\")"
   ]
  },
  {
   "cell_type": "code",
   "execution_count": 11,
   "metadata": {
    "collapsed": true
   },
   "outputs": [],
   "source": [
    "exec(\"dOccupationScore = dOccupationScore_\" + interest)"
   ]
  },
  {
   "cell_type": "code",
   "execution_count": 12,
   "metadata": {
    "collapsed": false
   },
   "outputs": [
    {
     "data": {
      "text/html": [
       "<div>\n",
       "<table border=\"1\" class=\"dataframe\">\n",
       "  <thead>\n",
       "    <tr style=\"text-align: right;\">\n",
       "      <th></th>\n",
       "      <th>Income</th>\n",
       "      <th>Satisfaction</th>\n",
       "      <th>Learnability</th>\n",
       "      <th>Security</th>\n",
       "    </tr>\n",
       "    <tr>\n",
       "      <th>SOC code</th>\n",
       "      <th></th>\n",
       "      <th></th>\n",
       "      <th></th>\n",
       "      <th></th>\n",
       "    </tr>\n",
       "  </thead>\n",
       "  <tbody>\n",
       "    <tr>\n",
       "      <th>11-1011.00</th>\n",
       "      <td>3667.956301</td>\n",
       "      <td>667.859927</td>\n",
       "      <td>-3602.493153</td>\n",
       "      <td>3909.715881</td>\n",
       "    </tr>\n",
       "    <tr>\n",
       "      <th>11-1011.03</th>\n",
       "      <td>3043.480313</td>\n",
       "      <td>565.367855</td>\n",
       "      <td>-3020.104331</td>\n",
       "      <td>3272.620516</td>\n",
       "    </tr>\n",
       "    <tr>\n",
       "      <th>11-1021.00</th>\n",
       "      <td>2987.396459</td>\n",
       "      <td>559.044264</td>\n",
       "      <td>-2942.772408</td>\n",
       "      <td>3238.490995</td>\n",
       "    </tr>\n",
       "    <tr>\n",
       "      <th>11-2011.00</th>\n",
       "      <td>2883.360150</td>\n",
       "      <td>534.457386</td>\n",
       "      <td>-2879.723570</td>\n",
       "      <td>3130.339988</td>\n",
       "    </tr>\n",
       "    <tr>\n",
       "      <th>11-2021.00</th>\n",
       "      <td>3078.054736</td>\n",
       "      <td>565.236662</td>\n",
       "      <td>-3063.840979</td>\n",
       "      <td>3312.413232</td>\n",
       "    </tr>\n",
       "  </tbody>\n",
       "</table>\n",
       "</div>"
      ],
      "text/plain": [
       "                 Income  Satisfaction  Learnability     Security\n",
       "SOC code                                                        \n",
       "11-1011.00  3667.956301    667.859927  -3602.493153  3909.715881\n",
       "11-1011.03  3043.480313    565.367855  -3020.104331  3272.620516\n",
       "11-1021.00  2987.396459    559.044264  -2942.772408  3238.490995\n",
       "11-2011.00  2883.360150    534.457386  -2879.723570  3130.339988\n",
       "11-2021.00  3078.054736    565.236662  -3063.840979  3312.413232"
      ]
     },
     "execution_count": 12,
     "metadata": {},
     "output_type": "execute_result"
    }
   ],
   "source": [
    " dOccupationScore[:5]"
   ]
  },
  {
   "cell_type": "code",
   "execution_count": 13,
   "metadata": {
    "collapsed": false
   },
   "outputs": [],
   "source": [
    "dOccupationScore['score'] = (dOccupationScore['Satisfaction'] + dOccupationScore['Income'] \\\n",
    "                              + dOccupationScore['Security'] + dOccupationScore['Learnability'])/4\n",
    "dOccupationScore['color'] = (dOccupationScore['score'] - np.min(dOccupationScore['score']))/ \\\n",
    "                        (np.max(dOccupationScore['score']) - np.min(dOccupationScore['score']))"
   ]
  },
  {
   "cell_type": "code",
   "execution_count": 14,
   "metadata": {
    "collapsed": false
   },
   "outputs": [
    {
     "data": {
      "text/plain": [
       "(-3602.4931532187243, 3909.7158808714426)"
      ]
     },
     "execution_count": 14,
     "metadata": {},
     "output_type": "execute_result"
    }
   ],
   "source": [
    "vmin = min(np.min(dOccupationScore['Income']),np.min(dOccupationScore['Satisfaction']), \\\n",
    "        np.min(dOccupationScore['Security']), np.min(dOccupationScore['Learnability']))\n",
    "\n",
    "vmax = max(np.max(dOccupationScore['Income']),np.max(dOccupationScore['Satisfaction']), \\\n",
    "        np.max(dOccupationScore['Security']), np.max(dOccupationScore['Learnability']))\n",
    "vmin, vmax"
   ]
  },
  {
   "cell_type": "code",
   "execution_count": 15,
   "metadata": {
    "collapsed": true
   },
   "outputs": [],
   "source": [
    "dOccupationScore = dOccupationScore.reset_index().merge(d0, left_on='SOC code',  right_on='SOC code', how ='left')\n",
    "dOccupationScore = dOccupationScore.sort_values(by='score',ascending=False)"
   ]
  },
  {
   "cell_type": "code",
   "execution_count": 16,
   "metadata": {
    "collapsed": false
   },
   "outputs": [
    {
     "data": {
      "text/html": [
       "<div>\n",
       "<table border=\"1\" class=\"dataframe\">\n",
       "  <thead>\n",
       "    <tr style=\"text-align: right;\">\n",
       "      <th></th>\n",
       "      <th>Career Pathway</th>\n",
       "      <th>Occupation</th>\n",
       "      <th>Income</th>\n",
       "      <th>Satisfaction</th>\n",
       "      <th>Learnability</th>\n",
       "      <th>Security</th>\n",
       "      <th>score</th>\n",
       "    </tr>\n",
       "  </thead>\n",
       "  <tbody>\n",
       "    <tr>\n",
       "      <th>0</th>\n",
       "      <td>Business Financial Management and Accounting</td>\n",
       "      <td>Chief Executives</td>\n",
       "      <td>3667.956301</td>\n",
       "      <td>667.859927</td>\n",
       "      <td>-3602.493153</td>\n",
       "      <td>3909.715881</td>\n",
       "      <td>1160.759739</td>\n",
       "    </tr>\n",
       "    <tr>\n",
       "      <th>3</th>\n",
       "      <td>Family and Community Services</td>\n",
       "      <td>Chief Executives</td>\n",
       "      <td>3667.956301</td>\n",
       "      <td>667.859927</td>\n",
       "      <td>-3602.493153</td>\n",
       "      <td>3909.715881</td>\n",
       "      <td>1160.759739</td>\n",
       "    </tr>\n",
       "    <tr>\n",
       "      <th>4</th>\n",
       "      <td>Logistics Planning and Management Services</td>\n",
       "      <td>Chief Executives</td>\n",
       "      <td>3667.956301</td>\n",
       "      <td>667.859927</td>\n",
       "      <td>-3602.493153</td>\n",
       "      <td>3909.715881</td>\n",
       "      <td>1160.759739</td>\n",
       "    </tr>\n",
       "    <tr>\n",
       "      <th>1</th>\n",
       "      <td>Management</td>\n",
       "      <td>Chief Executives</td>\n",
       "      <td>3667.956301</td>\n",
       "      <td>667.859927</td>\n",
       "      <td>-3602.493153</td>\n",
       "      <td>3909.715881</td>\n",
       "      <td>1160.759739</td>\n",
       "    </tr>\n",
       "    <tr>\n",
       "      <th>2</th>\n",
       "      <td>Governance</td>\n",
       "      <td>Chief Executives</td>\n",
       "      <td>3667.956301</td>\n",
       "      <td>667.859927</td>\n",
       "      <td>-3602.493153</td>\n",
       "      <td>3909.715881</td>\n",
       "      <td>1160.759739</td>\n",
       "    </tr>\n",
       "    <tr>\n",
       "      <th>68</th>\n",
       "      <td>Administration and Administrative Support</td>\n",
       "      <td>Education Administrators, Elementary and Secon...</td>\n",
       "      <td>3397.379746</td>\n",
       "      <td>633.641521</td>\n",
       "      <td>-3386.187523</td>\n",
       "      <td>3672.699166</td>\n",
       "      <td>1079.383228</td>\n",
       "    </tr>\n",
       "    <tr>\n",
       "      <th>90</th>\n",
       "      <td>Therapeutic Services</td>\n",
       "      <td>Medical and Health Services Managers</td>\n",
       "      <td>3378.202146</td>\n",
       "      <td>621.910153</td>\n",
       "      <td>-3359.095007</td>\n",
       "      <td>3630.101896</td>\n",
       "      <td>1067.779797</td>\n",
       "    </tr>\n",
       "    <tr>\n",
       "      <th>87</th>\n",
       "      <td>Management</td>\n",
       "      <td>Medical and Health Services Managers</td>\n",
       "      <td>3378.202146</td>\n",
       "      <td>621.910153</td>\n",
       "      <td>-3359.095007</td>\n",
       "      <td>3630.101896</td>\n",
       "      <td>1067.779797</td>\n",
       "    </tr>\n",
       "    <tr>\n",
       "      <th>88</th>\n",
       "      <td>Diagnostic Services</td>\n",
       "      <td>Medical and Health Services Managers</td>\n",
       "      <td>3378.202146</td>\n",
       "      <td>621.910153</td>\n",
       "      <td>-3359.095007</td>\n",
       "      <td>3630.101896</td>\n",
       "      <td>1067.779797</td>\n",
       "    </tr>\n",
       "    <tr>\n",
       "      <th>89</th>\n",
       "      <td>Health Informatics</td>\n",
       "      <td>Medical and Health Services Managers</td>\n",
       "      <td>3378.202146</td>\n",
       "      <td>621.910153</td>\n",
       "      <td>-3359.095007</td>\n",
       "      <td>3630.101896</td>\n",
       "      <td>1067.779797</td>\n",
       "    </tr>\n",
       "    <tr>\n",
       "      <th>724</th>\n",
       "      <td>Teaching/Training</td>\n",
       "      <td>Coaches and Scouts</td>\n",
       "      <td>3306.898735</td>\n",
       "      <td>632.186748</td>\n",
       "      <td>-3297.912536</td>\n",
       "      <td>3629.811884</td>\n",
       "      <td>1067.746208</td>\n",
       "    </tr>\n",
       "    <tr>\n",
       "      <th>723</th>\n",
       "      <td>Administration and Administrative Support</td>\n",
       "      <td>Coaches and Scouts</td>\n",
       "      <td>3306.898735</td>\n",
       "      <td>632.186748</td>\n",
       "      <td>-3297.912536</td>\n",
       "      <td>3629.811884</td>\n",
       "      <td>1067.746208</td>\n",
       "    </tr>\n",
       "    <tr>\n",
       "      <th>103</th>\n",
       "      <td>Management</td>\n",
       "      <td>Social and Community Service Managers</td>\n",
       "      <td>3323.754042</td>\n",
       "      <td>615.894632</td>\n",
       "      <td>-3304.857083</td>\n",
       "      <td>3586.405242</td>\n",
       "      <td>1055.299208</td>\n",
       "    </tr>\n",
       "    <tr>\n",
       "      <th>106</th>\n",
       "      <td>Counseling and Mental Health Services</td>\n",
       "      <td>Social and Community Service Managers</td>\n",
       "      <td>3323.754042</td>\n",
       "      <td>615.894632</td>\n",
       "      <td>-3304.857083</td>\n",
       "      <td>3586.405242</td>\n",
       "      <td>1055.299208</td>\n",
       "    </tr>\n",
       "    <tr>\n",
       "      <th>107</th>\n",
       "      <td>Family and Community Services</td>\n",
       "      <td>Social and Community Service Managers</td>\n",
       "      <td>3323.754042</td>\n",
       "      <td>615.894632</td>\n",
       "      <td>-3304.857083</td>\n",
       "      <td>3586.405242</td>\n",
       "      <td>1055.299208</td>\n",
       "    </tr>\n",
       "    <tr>\n",
       "      <th>104</th>\n",
       "      <td>Governance</td>\n",
       "      <td>Social and Community Service Managers</td>\n",
       "      <td>3323.754042</td>\n",
       "      <td>615.894632</td>\n",
       "      <td>-3304.857083</td>\n",
       "      <td>3586.405242</td>\n",
       "      <td>1055.299208</td>\n",
       "    </tr>\n",
       "    <tr>\n",
       "      <th>105</th>\n",
       "      <td>Public Management and Administration</td>\n",
       "      <td>Social and Community Service Managers</td>\n",
       "      <td>3323.754042</td>\n",
       "      <td>615.894632</td>\n",
       "      <td>-3304.857083</td>\n",
       "      <td>3586.405242</td>\n",
       "      <td>1055.299208</td>\n",
       "    </tr>\n",
       "    <tr>\n",
       "      <th>420</th>\n",
       "      <td>Therapeutic Services</td>\n",
       "      <td>Industrial-Organizational Psychologists</td>\n",
       "      <td>3351.324656</td>\n",
       "      <td>607.804222</td>\n",
       "      <td>-3326.328597</td>\n",
       "      <td>3521.767866</td>\n",
       "      <td>1038.642037</td>\n",
       "    </tr>\n",
       "    <tr>\n",
       "      <th>421</th>\n",
       "      <td>Counseling and Mental Health Services</td>\n",
       "      <td>Industrial-Organizational Psychologists</td>\n",
       "      <td>3351.324656</td>\n",
       "      <td>607.804222</td>\n",
       "      <td>-3326.328597</td>\n",
       "      <td>3521.767866</td>\n",
       "      <td>1038.642037</td>\n",
       "    </tr>\n",
       "    <tr>\n",
       "      <th>816</th>\n",
       "      <td>Therapeutic Services</td>\n",
       "      <td>Preventive Medicine Physicians</td>\n",
       "      <td>3296.235520</td>\n",
       "      <td>614.627549</td>\n",
       "      <td>-3312.218051</td>\n",
       "      <td>3541.158613</td>\n",
       "      <td>1034.950908</td>\n",
       "    </tr>\n",
       "    <tr>\n",
       "      <th>69</th>\n",
       "      <td>Administration and Administrative Support</td>\n",
       "      <td>Education Administrators, Postsecondary</td>\n",
       "      <td>3197.888866</td>\n",
       "      <td>600.547929</td>\n",
       "      <td>-3234.383199</td>\n",
       "      <td>3534.891702</td>\n",
       "      <td>1024.736325</td>\n",
       "    </tr>\n",
       "    <tr>\n",
       "      <th>85</th>\n",
       "      <td>Travel and Tourism</td>\n",
       "      <td>Lodging Managers</td>\n",
       "      <td>3165.085394</td>\n",
       "      <td>594.649386</td>\n",
       "      <td>-3072.039058</td>\n",
       "      <td>3406.554604</td>\n",
       "      <td>1023.562581</td>\n",
       "    </tr>\n",
       "    <tr>\n",
       "      <th>84</th>\n",
       "      <td>Recreation, Amusements and Attractions</td>\n",
       "      <td>Lodging Managers</td>\n",
       "      <td>3165.085394</td>\n",
       "      <td>594.649386</td>\n",
       "      <td>-3072.039058</td>\n",
       "      <td>3406.554604</td>\n",
       "      <td>1023.562581</td>\n",
       "    </tr>\n",
       "    <tr>\n",
       "      <th>83</th>\n",
       "      <td>Lodging</td>\n",
       "      <td>Lodging Managers</td>\n",
       "      <td>3165.085394</td>\n",
       "      <td>594.649386</td>\n",
       "      <td>-3072.039058</td>\n",
       "      <td>3406.554604</td>\n",
       "      <td>1023.562581</td>\n",
       "    </tr>\n",
       "    <tr>\n",
       "      <th>86</th>\n",
       "      <td>Professional Sales and Marketing</td>\n",
       "      <td>Lodging Managers</td>\n",
       "      <td>3165.085394</td>\n",
       "      <td>594.649386</td>\n",
       "      <td>-3072.039058</td>\n",
       "      <td>3406.554604</td>\n",
       "      <td>1023.562581</td>\n",
       "    </tr>\n",
       "    <tr>\n",
       "      <th>385</th>\n",
       "      <td>Counseling and Mental Health Services</td>\n",
       "      <td>Epidemiologists</td>\n",
       "      <td>3276.136000</td>\n",
       "      <td>602.714971</td>\n",
       "      <td>-3269.278979</td>\n",
       "      <td>3472.040025</td>\n",
       "      <td>1020.403004</td>\n",
       "    </tr>\n",
       "    <tr>\n",
       "      <th>384</th>\n",
       "      <td>Health Informatics</td>\n",
       "      <td>Epidemiologists</td>\n",
       "      <td>3276.136000</td>\n",
       "      <td>602.714971</td>\n",
       "      <td>-3269.278979</td>\n",
       "      <td>3472.040025</td>\n",
       "      <td>1020.403004</td>\n",
       "    </tr>\n",
       "    <tr>\n",
       "      <th>386</th>\n",
       "      <td>Science and Math</td>\n",
       "      <td>Epidemiologists</td>\n",
       "      <td>3276.136000</td>\n",
       "      <td>602.714971</td>\n",
       "      <td>-3269.278979</td>\n",
       "      <td>3472.040025</td>\n",
       "      <td>1020.403004</td>\n",
       "    </tr>\n",
       "    <tr>\n",
       "      <th>19</th>\n",
       "      <td>Management and Entrepreneurship</td>\n",
       "      <td>Sales Managers</td>\n",
       "      <td>3202.201197</td>\n",
       "      <td>593.425658</td>\n",
       "      <td>-3202.103660</td>\n",
       "      <td>3484.383532</td>\n",
       "      <td>1019.476682</td>\n",
       "    </tr>\n",
       "    <tr>\n",
       "      <th>17</th>\n",
       "      <td>Marketing</td>\n",
       "      <td>Sales Managers</td>\n",
       "      <td>3202.201197</td>\n",
       "      <td>593.425658</td>\n",
       "      <td>-3202.103660</td>\n",
       "      <td>3484.383532</td>\n",
       "      <td>1019.476682</td>\n",
       "    </tr>\n",
       "    <tr>\n",
       "      <th>...</th>\n",
       "      <td>...</td>\n",
       "      <td>...</td>\n",
       "      <td>...</td>\n",
       "      <td>...</td>\n",
       "      <td>...</td>\n",
       "      <td>...</td>\n",
       "      <td>...</td>\n",
       "    </tr>\n",
       "    <tr>\n",
       "      <th>1611</th>\n",
       "      <td>Production</td>\n",
       "      <td>Packers and Packagers, Hand</td>\n",
       "      <td>1413.211316</td>\n",
       "      <td>271.802562</td>\n",
       "      <td>-1408.294401</td>\n",
       "      <td>1571.290144</td>\n",
       "      <td>462.002405</td>\n",
       "    </tr>\n",
       "    <tr>\n",
       "      <th>1612</th>\n",
       "      <td>Warehousing and Distribution Center Operations</td>\n",
       "      <td>Packers and Packagers, Hand</td>\n",
       "      <td>1413.211316</td>\n",
       "      <td>271.802562</td>\n",
       "      <td>-1408.294401</td>\n",
       "      <td>1571.290144</td>\n",
       "      <td>462.002405</td>\n",
       "    </tr>\n",
       "    <tr>\n",
       "      <th>1381</th>\n",
       "      <td>Production</td>\n",
       "      <td>Coil Winders, Tapers, and Finishers</td>\n",
       "      <td>1409.980972</td>\n",
       "      <td>273.479649</td>\n",
       "      <td>-1343.123397</td>\n",
       "      <td>1505.098224</td>\n",
       "      <td>461.358862</td>\n",
       "    </tr>\n",
       "    <tr>\n",
       "      <th>1380</th>\n",
       "      <td>Maintenance, Installation and Repair</td>\n",
       "      <td>Coil Winders, Tapers, and Finishers</td>\n",
       "      <td>1409.980972</td>\n",
       "      <td>273.479649</td>\n",
       "      <td>-1343.123397</td>\n",
       "      <td>1505.098224</td>\n",
       "      <td>461.358862</td>\n",
       "    </tr>\n",
       "    <tr>\n",
       "      <th>1457</th>\n",
       "      <td>Maintenance, Installation and Repair</td>\n",
       "      <td>Textile Knitting and Weaving Machine Setters, ...</td>\n",
       "      <td>1389.237968</td>\n",
       "      <td>272.315449</td>\n",
       "      <td>-1258.531383</td>\n",
       "      <td>1438.505680</td>\n",
       "      <td>460.381929</td>\n",
       "    </tr>\n",
       "    <tr>\n",
       "      <th>1458</th>\n",
       "      <td>Production</td>\n",
       "      <td>Textile Knitting and Weaving Machine Setters, ...</td>\n",
       "      <td>1389.237968</td>\n",
       "      <td>272.315449</td>\n",
       "      <td>-1258.531383</td>\n",
       "      <td>1438.505680</td>\n",
       "      <td>460.381929</td>\n",
       "    </tr>\n",
       "    <tr>\n",
       "      <th>1615</th>\n",
       "      <td>Natural Resources Systems</td>\n",
       "      <td>Wellhead Pumpers</td>\n",
       "      <td>1388.175011</td>\n",
       "      <td>271.736825</td>\n",
       "      <td>-1213.264317</td>\n",
       "      <td>1387.411282</td>\n",
       "      <td>458.514700</td>\n",
       "    </tr>\n",
       "    <tr>\n",
       "      <th>1391</th>\n",
       "      <td>Construction</td>\n",
       "      <td>Structural Metal Fabricators and Fitters</td>\n",
       "      <td>1400.603944</td>\n",
       "      <td>271.818271</td>\n",
       "      <td>-1342.516797</td>\n",
       "      <td>1501.062300</td>\n",
       "      <td>457.741929</td>\n",
       "    </tr>\n",
       "    <tr>\n",
       "      <th>1392</th>\n",
       "      <td>Production</td>\n",
       "      <td>Structural Metal Fabricators and Fitters</td>\n",
       "      <td>1400.603944</td>\n",
       "      <td>271.818271</td>\n",
       "      <td>-1342.516797</td>\n",
       "      <td>1501.062300</td>\n",
       "      <td>457.741929</td>\n",
       "    </tr>\n",
       "    <tr>\n",
       "      <th>977</th>\n",
       "      <td>Restaurants and Food/Beverage Services</td>\n",
       "      <td>Dining Room and Cafeteria Attendants and Barte...</td>\n",
       "      <td>1378.528878</td>\n",
       "      <td>268.683352</td>\n",
       "      <td>-1389.563507</td>\n",
       "      <td>1572.119258</td>\n",
       "      <td>457.441995</td>\n",
       "    </tr>\n",
       "    <tr>\n",
       "      <th>978</th>\n",
       "      <td>Restaurants and Food/Beverage Services</td>\n",
       "      <td>Dishwashers</td>\n",
       "      <td>1365.451631</td>\n",
       "      <td>267.410754</td>\n",
       "      <td>-1261.747924</td>\n",
       "      <td>1458.505173</td>\n",
       "      <td>457.404908</td>\n",
       "    </tr>\n",
       "    <tr>\n",
       "      <th>986</th>\n",
       "      <td>Plant Systems</td>\n",
       "      <td>Landscaping and Groundskeeping Workers</td>\n",
       "      <td>1374.373742</td>\n",
       "      <td>269.469652</td>\n",
       "      <td>-1284.959719</td>\n",
       "      <td>1463.026866</td>\n",
       "      <td>455.477635</td>\n",
       "    </tr>\n",
       "    <tr>\n",
       "      <th>987</th>\n",
       "      <td>Maintenance/Operations</td>\n",
       "      <td>Landscaping and Groundskeeping Workers</td>\n",
       "      <td>1374.373742</td>\n",
       "      <td>269.469652</td>\n",
       "      <td>-1284.959719</td>\n",
       "      <td>1463.026866</td>\n",
       "      <td>455.477635</td>\n",
       "    </tr>\n",
       "    <tr>\n",
       "      <th>1448</th>\n",
       "      <td>Production</td>\n",
       "      <td>Shoe and Leather Workers and Repairers</td>\n",
       "      <td>1371.782955</td>\n",
       "      <td>269.985784</td>\n",
       "      <td>-1338.724324</td>\n",
       "      <td>1515.134395</td>\n",
       "      <td>454.544703</td>\n",
       "    </tr>\n",
       "    <tr>\n",
       "      <th>970</th>\n",
       "      <td>Restaurants and Food/Beverage Services</td>\n",
       "      <td>Food Preparation Workers</td>\n",
       "      <td>1362.909850</td>\n",
       "      <td>269.851499</td>\n",
       "      <td>-1375.209277</td>\n",
       "      <td>1555.255989</td>\n",
       "      <td>453.202015</td>\n",
       "    </tr>\n",
       "    <tr>\n",
       "      <th>1535</th>\n",
       "      <td>Production</td>\n",
       "      <td>Helpers--Production Workers</td>\n",
       "      <td>1376.840334</td>\n",
       "      <td>265.938486</td>\n",
       "      <td>-1273.660296</td>\n",
       "      <td>1442.970404</td>\n",
       "      <td>453.022232</td>\n",
       "    </tr>\n",
       "    <tr>\n",
       "      <th>1610</th>\n",
       "      <td>Production</td>\n",
       "      <td>Machine Feeders and Offbearers</td>\n",
       "      <td>1362.084378</td>\n",
       "      <td>265.935828</td>\n",
       "      <td>-1256.525294</td>\n",
       "      <td>1437.526344</td>\n",
       "      <td>452.255314</td>\n",
       "    </tr>\n",
       "    <tr>\n",
       "      <th>1519</th>\n",
       "      <td>Production</td>\n",
       "      <td>Painting, Coating, and Decorating Workers</td>\n",
       "      <td>1346.699583</td>\n",
       "      <td>266.433192</td>\n",
       "      <td>-1290.237725</td>\n",
       "      <td>1462.879109</td>\n",
       "      <td>446.443539</td>\n",
       "    </tr>\n",
       "    <tr>\n",
       "      <th>1518</th>\n",
       "      <td>Visual Arts</td>\n",
       "      <td>Painting, Coating, and Decorating Workers</td>\n",
       "      <td>1346.699583</td>\n",
       "      <td>266.433192</td>\n",
       "      <td>-1290.237725</td>\n",
       "      <td>1462.879109</td>\n",
       "      <td>446.443539</td>\n",
       "    </tr>\n",
       "    <tr>\n",
       "      <th>1601</th>\n",
       "      <td>Natural Resources Systems</td>\n",
       "      <td>Loading Machine Operators, Underground Mining</td>\n",
       "      <td>1280.205022</td>\n",
       "      <td>259.275617</td>\n",
       "      <td>-1151.979444</td>\n",
       "      <td>1346.720007</td>\n",
       "      <td>433.555300</td>\n",
       "    </tr>\n",
       "    <tr>\n",
       "      <th>982</th>\n",
       "      <td>Lodging</td>\n",
       "      <td>Janitors and Cleaners, Except Maids and Housek...</td>\n",
       "      <td>1270.502808</td>\n",
       "      <td>261.251277</td>\n",
       "      <td>-1251.445015</td>\n",
       "      <td>1431.453800</td>\n",
       "      <td>427.940718</td>\n",
       "    </tr>\n",
       "    <tr>\n",
       "      <th>1067</th>\n",
       "      <td>Professional Sales and Marketing</td>\n",
       "      <td>Models</td>\n",
       "      <td>1312.120181</td>\n",
       "      <td>253.824056</td>\n",
       "      <td>-1369.355028</td>\n",
       "      <td>1510.172829</td>\n",
       "      <td>426.690510</td>\n",
       "    </tr>\n",
       "    <tr>\n",
       "      <th>1431</th>\n",
       "      <td>Production</td>\n",
       "      <td>Solderers and Brazers</td>\n",
       "      <td>1283.614600</td>\n",
       "      <td>248.460348</td>\n",
       "      <td>-1191.388573</td>\n",
       "      <td>1344.239318</td>\n",
       "      <td>421.231423</td>\n",
       "    </tr>\n",
       "    <tr>\n",
       "      <th>1199</th>\n",
       "      <td>Power, Structural and Technical Systems</td>\n",
       "      <td>Agricultural Equipment Operators</td>\n",
       "      <td>1226.125076</td>\n",
       "      <td>249.744176</td>\n",
       "      <td>-1061.507731</td>\n",
       "      <td>1241.611858</td>\n",
       "      <td>413.993345</td>\n",
       "    </tr>\n",
       "    <tr>\n",
       "      <th>1618</th>\n",
       "      <td>Natural Resources Systems</td>\n",
       "      <td>Mine Shuttle Car Operators</td>\n",
       "      <td>1187.457912</td>\n",
       "      <td>235.147130</td>\n",
       "      <td>-1058.876089</td>\n",
       "      <td>1226.051026</td>\n",
       "      <td>397.444995</td>\n",
       "    </tr>\n",
       "    <tr>\n",
       "      <th>1403</th>\n",
       "      <td>Food Products and Processing Systems</td>\n",
       "      <td>Slaughterers and Meat Packers</td>\n",
       "      <td>1171.587364</td>\n",
       "      <td>229.732452</td>\n",
       "      <td>-1150.783282</td>\n",
       "      <td>1308.711728</td>\n",
       "      <td>389.812065</td>\n",
       "    </tr>\n",
       "    <tr>\n",
       "      <th>1404</th>\n",
       "      <td>Restaurants and Food/Beverage Services</td>\n",
       "      <td>Slaughterers and Meat Packers</td>\n",
       "      <td>1171.587364</td>\n",
       "      <td>229.732452</td>\n",
       "      <td>-1150.783282</td>\n",
       "      <td>1308.711728</td>\n",
       "      <td>389.812065</td>\n",
       "    </tr>\n",
       "    <tr>\n",
       "      <th>1606</th>\n",
       "      <td>Facility and Mobile Equipment Maintenance</td>\n",
       "      <td>Cleaners of Vehicles and Equipment</td>\n",
       "      <td>1029.670252</td>\n",
       "      <td>211.107501</td>\n",
       "      <td>-932.076872</td>\n",
       "      <td>1089.966583</td>\n",
       "      <td>349.666866</td>\n",
       "    </tr>\n",
       "    <tr>\n",
       "      <th>1445</th>\n",
       "      <td>Personal Care Services</td>\n",
       "      <td>Pressers, Textile, Garment, and Related Materials</td>\n",
       "      <td>1024.523492</td>\n",
       "      <td>201.338304</td>\n",
       "      <td>-948.108631</td>\n",
       "      <td>1079.004271</td>\n",
       "      <td>339.189359</td>\n",
       "    </tr>\n",
       "    <tr>\n",
       "      <th>1198</th>\n",
       "      <td>Food Products and Processing Systems</td>\n",
       "      <td>Graders and Sorters, Agricultural Products</td>\n",
       "      <td>976.856238</td>\n",
       "      <td>196.132165</td>\n",
       "      <td>-1034.045549</td>\n",
       "      <td>1157.806186</td>\n",
       "      <td>324.187260</td>\n",
       "    </tr>\n",
       "  </tbody>\n",
       "</table>\n",
       "<p>1621 rows × 7 columns</p>\n",
       "</div>"
      ],
      "text/plain": [
       "                                      Career Pathway  \\\n",
       "0       Business Financial Management and Accounting   \n",
       "3                      Family and Community Services   \n",
       "4         Logistics Planning and Management Services   \n",
       "1                                         Management   \n",
       "2                                         Governance   \n",
       "68         Administration and Administrative Support   \n",
       "90                              Therapeutic Services   \n",
       "87                                        Management   \n",
       "88                               Diagnostic Services   \n",
       "89                                Health Informatics   \n",
       "724                                Teaching/Training   \n",
       "723        Administration and Administrative Support   \n",
       "103                                       Management   \n",
       "106            Counseling and Mental Health Services   \n",
       "107                    Family and Community Services   \n",
       "104                                       Governance   \n",
       "105             Public Management and Administration   \n",
       "420                             Therapeutic Services   \n",
       "421            Counseling and Mental Health Services   \n",
       "816                             Therapeutic Services   \n",
       "69         Administration and Administrative Support   \n",
       "85                                Travel and Tourism   \n",
       "84            Recreation, Amusements and Attractions   \n",
       "83                                           Lodging   \n",
       "86                  Professional Sales and Marketing   \n",
       "385            Counseling and Mental Health Services   \n",
       "384                               Health Informatics   \n",
       "386                                 Science and Math   \n",
       "19                   Management and Entrepreneurship   \n",
       "17                                         Marketing   \n",
       "...                                              ...   \n",
       "1611                                      Production   \n",
       "1612  Warehousing and Distribution Center Operations   \n",
       "1381                                      Production   \n",
       "1380            Maintenance, Installation and Repair   \n",
       "1457            Maintenance, Installation and Repair   \n",
       "1458                                      Production   \n",
       "1615                       Natural Resources Systems   \n",
       "1391                                    Construction   \n",
       "1392                                      Production   \n",
       "977           Restaurants and Food/Beverage Services   \n",
       "978           Restaurants and Food/Beverage Services   \n",
       "986                                    Plant Systems   \n",
       "987                           Maintenance/Operations   \n",
       "1448                                      Production   \n",
       "970           Restaurants and Food/Beverage Services   \n",
       "1535                                      Production   \n",
       "1610                                      Production   \n",
       "1519                                      Production   \n",
       "1518                                     Visual Arts   \n",
       "1601                       Natural Resources Systems   \n",
       "982                                          Lodging   \n",
       "1067                Professional Sales and Marketing   \n",
       "1431                                      Production   \n",
       "1199         Power, Structural and Technical Systems   \n",
       "1618                       Natural Resources Systems   \n",
       "1403            Food Products and Processing Systems   \n",
       "1404          Restaurants and Food/Beverage Services   \n",
       "1606       Facility and Mobile Equipment Maintenance   \n",
       "1445                          Personal Care Services   \n",
       "1198            Food Products and Processing Systems   \n",
       "\n",
       "                                             Occupation       Income  \\\n",
       "0                                      Chief Executives  3667.956301   \n",
       "3                                      Chief Executives  3667.956301   \n",
       "4                                      Chief Executives  3667.956301   \n",
       "1                                      Chief Executives  3667.956301   \n",
       "2                                      Chief Executives  3667.956301   \n",
       "68    Education Administrators, Elementary and Secon...  3397.379746   \n",
       "90                 Medical and Health Services Managers  3378.202146   \n",
       "87                 Medical and Health Services Managers  3378.202146   \n",
       "88                 Medical and Health Services Managers  3378.202146   \n",
       "89                 Medical and Health Services Managers  3378.202146   \n",
       "724                                  Coaches and Scouts  3306.898735   \n",
       "723                                  Coaches and Scouts  3306.898735   \n",
       "103               Social and Community Service Managers  3323.754042   \n",
       "106               Social and Community Service Managers  3323.754042   \n",
       "107               Social and Community Service Managers  3323.754042   \n",
       "104               Social and Community Service Managers  3323.754042   \n",
       "105               Social and Community Service Managers  3323.754042   \n",
       "420             Industrial-Organizational Psychologists  3351.324656   \n",
       "421             Industrial-Organizational Psychologists  3351.324656   \n",
       "816                      Preventive Medicine Physicians  3296.235520   \n",
       "69              Education Administrators, Postsecondary  3197.888866   \n",
       "85                                     Lodging Managers  3165.085394   \n",
       "84                                     Lodging Managers  3165.085394   \n",
       "83                                     Lodging Managers  3165.085394   \n",
       "86                                     Lodging Managers  3165.085394   \n",
       "385                                     Epidemiologists  3276.136000   \n",
       "384                                     Epidemiologists  3276.136000   \n",
       "386                                     Epidemiologists  3276.136000   \n",
       "19                                       Sales Managers  3202.201197   \n",
       "17                                       Sales Managers  3202.201197   \n",
       "...                                                 ...          ...   \n",
       "1611                        Packers and Packagers, Hand  1413.211316   \n",
       "1612                        Packers and Packagers, Hand  1413.211316   \n",
       "1381                Coil Winders, Tapers, and Finishers  1409.980972   \n",
       "1380                Coil Winders, Tapers, and Finishers  1409.980972   \n",
       "1457  Textile Knitting and Weaving Machine Setters, ...  1389.237968   \n",
       "1458  Textile Knitting and Weaving Machine Setters, ...  1389.237968   \n",
       "1615                                   Wellhead Pumpers  1388.175011   \n",
       "1391           Structural Metal Fabricators and Fitters  1400.603944   \n",
       "1392           Structural Metal Fabricators and Fitters  1400.603944   \n",
       "977   Dining Room and Cafeteria Attendants and Barte...  1378.528878   \n",
       "978                                         Dishwashers  1365.451631   \n",
       "986              Landscaping and Groundskeeping Workers  1374.373742   \n",
       "987              Landscaping and Groundskeeping Workers  1374.373742   \n",
       "1448             Shoe and Leather Workers and Repairers  1371.782955   \n",
       "970                            Food Preparation Workers  1362.909850   \n",
       "1535                        Helpers--Production Workers  1376.840334   \n",
       "1610                     Machine Feeders and Offbearers  1362.084378   \n",
       "1519          Painting, Coating, and Decorating Workers  1346.699583   \n",
       "1518          Painting, Coating, and Decorating Workers  1346.699583   \n",
       "1601      Loading Machine Operators, Underground Mining  1280.205022   \n",
       "982   Janitors and Cleaners, Except Maids and Housek...  1270.502808   \n",
       "1067                                             Models  1312.120181   \n",
       "1431                              Solderers and Brazers  1283.614600   \n",
       "1199                   Agricultural Equipment Operators  1226.125076   \n",
       "1618                         Mine Shuttle Car Operators  1187.457912   \n",
       "1403                      Slaughterers and Meat Packers  1171.587364   \n",
       "1404                      Slaughterers and Meat Packers  1171.587364   \n",
       "1606                 Cleaners of Vehicles and Equipment  1029.670252   \n",
       "1445  Pressers, Textile, Garment, and Related Materials  1024.523492   \n",
       "1198         Graders and Sorters, Agricultural Products   976.856238   \n",
       "\n",
       "      Satisfaction  Learnability     Security        score  \n",
       "0       667.859927  -3602.493153  3909.715881  1160.759739  \n",
       "3       667.859927  -3602.493153  3909.715881  1160.759739  \n",
       "4       667.859927  -3602.493153  3909.715881  1160.759739  \n",
       "1       667.859927  -3602.493153  3909.715881  1160.759739  \n",
       "2       667.859927  -3602.493153  3909.715881  1160.759739  \n",
       "68      633.641521  -3386.187523  3672.699166  1079.383228  \n",
       "90      621.910153  -3359.095007  3630.101896  1067.779797  \n",
       "87      621.910153  -3359.095007  3630.101896  1067.779797  \n",
       "88      621.910153  -3359.095007  3630.101896  1067.779797  \n",
       "89      621.910153  -3359.095007  3630.101896  1067.779797  \n",
       "724     632.186748  -3297.912536  3629.811884  1067.746208  \n",
       "723     632.186748  -3297.912536  3629.811884  1067.746208  \n",
       "103     615.894632  -3304.857083  3586.405242  1055.299208  \n",
       "106     615.894632  -3304.857083  3586.405242  1055.299208  \n",
       "107     615.894632  -3304.857083  3586.405242  1055.299208  \n",
       "104     615.894632  -3304.857083  3586.405242  1055.299208  \n",
       "105     615.894632  -3304.857083  3586.405242  1055.299208  \n",
       "420     607.804222  -3326.328597  3521.767866  1038.642037  \n",
       "421     607.804222  -3326.328597  3521.767866  1038.642037  \n",
       "816     614.627549  -3312.218051  3541.158613  1034.950908  \n",
       "69      600.547929  -3234.383199  3534.891702  1024.736325  \n",
       "85      594.649386  -3072.039058  3406.554604  1023.562581  \n",
       "84      594.649386  -3072.039058  3406.554604  1023.562581  \n",
       "83      594.649386  -3072.039058  3406.554604  1023.562581  \n",
       "86      594.649386  -3072.039058  3406.554604  1023.562581  \n",
       "385     602.714971  -3269.278979  3472.040025  1020.403004  \n",
       "384     602.714971  -3269.278979  3472.040025  1020.403004  \n",
       "386     602.714971  -3269.278979  3472.040025  1020.403004  \n",
       "19      593.425658  -3202.103660  3484.383532  1019.476682  \n",
       "17      593.425658  -3202.103660  3484.383532  1019.476682  \n",
       "...            ...           ...          ...          ...  \n",
       "1611    271.802562  -1408.294401  1571.290144   462.002405  \n",
       "1612    271.802562  -1408.294401  1571.290144   462.002405  \n",
       "1381    273.479649  -1343.123397  1505.098224   461.358862  \n",
       "1380    273.479649  -1343.123397  1505.098224   461.358862  \n",
       "1457    272.315449  -1258.531383  1438.505680   460.381929  \n",
       "1458    272.315449  -1258.531383  1438.505680   460.381929  \n",
       "1615    271.736825  -1213.264317  1387.411282   458.514700  \n",
       "1391    271.818271  -1342.516797  1501.062300   457.741929  \n",
       "1392    271.818271  -1342.516797  1501.062300   457.741929  \n",
       "977     268.683352  -1389.563507  1572.119258   457.441995  \n",
       "978     267.410754  -1261.747924  1458.505173   457.404908  \n",
       "986     269.469652  -1284.959719  1463.026866   455.477635  \n",
       "987     269.469652  -1284.959719  1463.026866   455.477635  \n",
       "1448    269.985784  -1338.724324  1515.134395   454.544703  \n",
       "970     269.851499  -1375.209277  1555.255989   453.202015  \n",
       "1535    265.938486  -1273.660296  1442.970404   453.022232  \n",
       "1610    265.935828  -1256.525294  1437.526344   452.255314  \n",
       "1519    266.433192  -1290.237725  1462.879109   446.443539  \n",
       "1518    266.433192  -1290.237725  1462.879109   446.443539  \n",
       "1601    259.275617  -1151.979444  1346.720007   433.555300  \n",
       "982     261.251277  -1251.445015  1431.453800   427.940718  \n",
       "1067    253.824056  -1369.355028  1510.172829   426.690510  \n",
       "1431    248.460348  -1191.388573  1344.239318   421.231423  \n",
       "1199    249.744176  -1061.507731  1241.611858   413.993345  \n",
       "1618    235.147130  -1058.876089  1226.051026   397.444995  \n",
       "1403    229.732452  -1150.783282  1308.711728   389.812065  \n",
       "1404    229.732452  -1150.783282  1308.711728   389.812065  \n",
       "1606    211.107501   -932.076872  1089.966583   349.666866  \n",
       "1445    201.338304   -948.108631  1079.004271   339.189359  \n",
       "1198    196.132165  -1034.045549  1157.806186   324.187260  \n",
       "\n",
       "[1621 rows x 7 columns]"
      ]
     },
     "execution_count": 16,
     "metadata": {},
     "output_type": "execute_result"
    }
   ],
   "source": [
    "dOccupationScore[['Career Pathway','Occupation','Income','Satisfaction','Learnability','Security','score']]"
   ]
  },
  {
   "cell_type": "code",
   "execution_count": 17,
   "metadata": {
    "collapsed": true
   },
   "outputs": [],
   "source": [
    "#set color map\n",
    "cmap = matplotlib.cm.get_cmap('RdYlGn')"
   ]
  },
  {
   "cell_type": "code",
   "execution_count": 18,
   "metadata": {
    "collapsed": false
   },
   "outputs": [],
   "source": [
    "#best 20 and worst 20\n",
    "dSummary = pd.concat([dOccupationScore[:20], dOccupationScore[-20:]])\n",
    "Dir = DataDir + '04/Occupation/'"
   ]
  },
  {
   "cell_type": "code",
   "execution_count": 19,
   "metadata": {
    "collapsed": true
   },
   "outputs": [],
   "source": [
    "def radarplot(df, lower, upper, space):\n",
    "    df = df.sort_values(by='score')\n",
    "    for count in range(0,len(df)):\n",
    "\n",
    "        #Adapted from Copyright (C) 2011  Nicolas P. Rougier\n",
    "\n",
    "        # Data to be represented\n",
    "        # ----------\n",
    "        properties = ['Income','Satisfaction', 'Security','Learnability']\n",
    "        values = df.loc[df.index[count],:][['Income','Satisfaction', 'Security','Learnability']]\n",
    "        # ----------\n",
    "\n",
    "        # Choose some nice colors\n",
    "        matplotlib.rc('axes', facecolor = 'white')\n",
    "\n",
    "        # Make figure background the same colors as axes \n",
    "        fig = plt.figure(figsize=(8,6), facecolor='white')\n",
    "\n",
    "\n",
    "        # Use a polar axes\n",
    "        axes = plt.subplot(111, polar=True)\n",
    "\n",
    "        # Set ticks to the number of properties (in radians)\n",
    "        #t = np.arange(0,2*np.pi,2*np.pi/len(properties))\n",
    "        t = np.arange(np.pi/4,2*np.pi,2*np.pi/len(properties))\n",
    "        plt.xticks(t, [])\n",
    "\n",
    "        # Set yticks from 0 to 10\n",
    "        #plt.yticks(np.linspace(0,10,11))\n",
    "        #plt.yticks(np.linspace(0,4,9))\n",
    "        plt.yticks(np.linspace(lower,upper,(upper-lower)/space+1))\n",
    "\n",
    "        # Draw polygon representing values\n",
    "        points = [(x,y) for x,y in zip(t,values)]\n",
    "        points.append(points[0])\n",
    "        points = np.array(points)\n",
    "        codes = [path.Path.MOVETO,] + \\\n",
    "                [path.Path.LINETO,]*(len(values) -1) + \\\n",
    "                [ path.Path.CLOSEPOLY ]\n",
    "        _path = path.Path(points, codes)\n",
    "        _patch = patches.PathPatch(_path, fill=True, color=cmap(df.loc[df.index[count],'color']), linewidth=0, alpha=.7)\n",
    "        axes.add_patch(_patch)\n",
    "        _patch = patches.PathPatch(_path, fill=False, linewidth = 2)\n",
    "        axes.add_patch(_patch)\n",
    "\n",
    "        # Draw circles at value points\n",
    "        plt.scatter(points[:,0],points[:,1], linewidth=2,\n",
    "                    s=50, color='white', edgecolor='black', zorder=10)\n",
    "\n",
    "        # Set axes limits\n",
    "        #plt.ylim(0,10)\n",
    "        #plt.ylim(0,4)\n",
    "        plt.ylim(lower,upper)\n",
    "\n",
    "        #add tile\n",
    "        #plt.title(df.index[count])\n",
    "        #add tile\n",
    "        plt.title(df.loc[df.index[count],'Career Pathway']+'/ \\n ' + df.loc[df.index[count],'Occupation'])\n",
    "\n",
    "        # Draw ytick labels to make sure they fit properly\n",
    "        for i in range(len(properties)):\n",
    "            angle_rad = i/float(len(properties))*2*np.pi + np.pi/4\n",
    "            angle_deg = i/float(len(properties))*360 + 45\n",
    "            ha = \"right\"\n",
    "            if angle_rad < np.pi/2 or angle_rad > 3*np.pi/2: ha = \"left\"\n",
    "            #plt.text(angle_rad, 10.75, properties[i], size=14,\n",
    "            #plt.text(angle_rad, 4.75, properties[i], size=14,\n",
    "            plt.text(angle_rad, upper + 0.25, properties[i], size=14,\n",
    "                     horizontalalignment=ha, verticalalignment=\"center\")\n",
    "\n",
    "            # A variant on label orientation\n",
    "            #    plt.text(angle_rad, 11, properties[i], size=14,\n",
    "            #             rotation=angle_deg-90,\n",
    "            #             horizontalalignment='center', verticalalignment=\"center\")\n",
    "\n",
    "        # Done\n",
    "        plt.savefig(Dir + str(count+1).zfill(2) +'-radar-chart.png', facecolor='white');\n",
    "        #plt.show()\n",
    "        plt.clf();"
   ]
  },
  {
   "cell_type": "code",
   "execution_count": 21,
   "metadata": {
    "collapsed": false
   },
   "outputs": [
    {
     "name": "stderr",
     "output_type": "stream",
     "text": [
      "C:\\Users\\Admin\\Anaconda2\\lib\\site-packages\\matplotlib\\pyplot.py:524: RuntimeWarning: More than 20 figures have been opened. Figures created through the pyplot interface (`matplotlib.pyplot.figure`) are retained until explicitly closed and may consume too much memory. (To control this warning, see the rcParam `figure.max_open_warning`).\n",
      "  max_open_warning, RuntimeWarning)\n"
     ]
    },
    {
     "data": {
      "text/plain": [
       "<matplotlib.figure.Figure at 0xc1129b0>"
      ]
     },
     "metadata": {},
     "output_type": "display_data"
    },
    {
     "data": {
      "text/plain": [
       "<matplotlib.figure.Figure at 0xc112cc0>"
      ]
     },
     "metadata": {},
     "output_type": "display_data"
    },
    {
     "data": {
      "text/plain": [
       "<matplotlib.figure.Figure at 0xc4ca0f0>"
      ]
     },
     "metadata": {},
     "output_type": "display_data"
    },
    {
     "data": {
      "text/plain": [
       "<matplotlib.figure.Figure at 0xc71a940>"
      ]
     },
     "metadata": {},
     "output_type": "display_data"
    },
    {
     "data": {
      "text/plain": [
       "<matplotlib.figure.Figure at 0xc23c048>"
      ]
     },
     "metadata": {},
     "output_type": "display_data"
    },
    {
     "data": {
      "text/plain": [
       "<matplotlib.figure.Figure at 0xc68f048>"
      ]
     },
     "metadata": {},
     "output_type": "display_data"
    },
    {
     "data": {
      "text/plain": [
       "<matplotlib.figure.Figure at 0xcc01518>"
      ]
     },
     "metadata": {},
     "output_type": "display_data"
    },
    {
     "data": {
      "text/plain": [
       "<matplotlib.figure.Figure at 0xc2d3358>"
      ]
     },
     "metadata": {},
     "output_type": "display_data"
    },
    {
     "data": {
      "text/plain": [
       "<matplotlib.figure.Figure at 0xdadb390>"
      ]
     },
     "metadata": {},
     "output_type": "display_data"
    },
    {
     "data": {
      "text/plain": [
       "<matplotlib.figure.Figure at 0xcbd0c50>"
      ]
     },
     "metadata": {},
     "output_type": "display_data"
    },
    {
     "data": {
      "text/plain": [
       "<matplotlib.figure.Figure at 0xdea2978>"
      ]
     },
     "metadata": {},
     "output_type": "display_data"
    },
    {
     "data": {
      "text/plain": [
       "<matplotlib.figure.Figure at 0xe10fcf8>"
      ]
     },
     "metadata": {},
     "output_type": "display_data"
    },
    {
     "data": {
      "text/plain": [
       "<matplotlib.figure.Figure at 0xe10f128>"
      ]
     },
     "metadata": {},
     "output_type": "display_data"
    },
    {
     "data": {
      "text/plain": [
       "<matplotlib.figure.Figure at 0xde98208>"
      ]
     },
     "metadata": {},
     "output_type": "display_data"
    },
    {
     "data": {
      "text/plain": [
       "<matplotlib.figure.Figure at 0xe37cb00>"
      ]
     },
     "metadata": {},
     "output_type": "display_data"
    },
    {
     "data": {
      "text/plain": [
       "<matplotlib.figure.Figure at 0xe917400>"
      ]
     },
     "metadata": {},
     "output_type": "display_data"
    },
    {
     "data": {
      "text/plain": [
       "<matplotlib.figure.Figure at 0xdb647b8>"
      ]
     },
     "metadata": {},
     "output_type": "display_data"
    },
    {
     "data": {
      "text/plain": [
       "<matplotlib.figure.Figure at 0xed972b0>"
      ]
     },
     "metadata": {},
     "output_type": "display_data"
    },
    {
     "data": {
      "text/plain": [
       "<matplotlib.figure.Figure at 0xe8da320>"
      ]
     },
     "metadata": {},
     "output_type": "display_data"
    },
    {
     "data": {
      "text/plain": [
       "<matplotlib.figure.Figure at 0xf03ebe0>"
      ]
     },
     "metadata": {},
     "output_type": "display_data"
    },
    {
     "data": {
      "text/plain": [
       "<matplotlib.figure.Figure at 0xf2089e8>"
      ]
     },
     "metadata": {},
     "output_type": "display_data"
    },
    {
     "data": {
      "text/plain": [
       "<matplotlib.figure.Figure at 0xf454048>"
      ]
     },
     "metadata": {},
     "output_type": "display_data"
    },
    {
     "data": {
      "text/plain": [
       "<matplotlib.figure.Figure at 0xf678278>"
      ]
     },
     "metadata": {},
     "output_type": "display_data"
    },
    {
     "data": {
      "text/plain": [
       "<matplotlib.figure.Figure at 0xf454c50>"
      ]
     },
     "metadata": {},
     "output_type": "display_data"
    },
    {
     "data": {
      "text/plain": [
       "<matplotlib.figure.Figure at 0xed6ee80>"
      ]
     },
     "metadata": {},
     "output_type": "display_data"
    },
    {
     "data": {
      "text/plain": [
       "<matplotlib.figure.Figure at 0xed64ef0>"
      ]
     },
     "metadata": {},
     "output_type": "display_data"
    },
    {
     "data": {
      "text/plain": [
       "<matplotlib.figure.Figure at 0xe344470>"
      ]
     },
     "metadata": {},
     "output_type": "display_data"
    },
    {
     "data": {
      "text/plain": [
       "<matplotlib.figure.Figure at 0xe322cf8>"
      ]
     },
     "metadata": {},
     "output_type": "display_data"
    },
    {
     "data": {
      "text/plain": [
       "<matplotlib.figure.Figure at 0xe3229e8>"
      ]
     },
     "metadata": {},
     "output_type": "display_data"
    },
    {
     "data": {
      "text/plain": [
       "<matplotlib.figure.Figure at 0xdf08160>"
      ]
     },
     "metadata": {},
     "output_type": "display_data"
    },
    {
     "data": {
      "text/plain": [
       "<matplotlib.figure.Figure at 0xdf08ef0>"
      ]
     },
     "metadata": {},
     "output_type": "display_data"
    },
    {
     "data": {
      "text/plain": [
       "<matplotlib.figure.Figure at 0xcdbfdd8>"
      ]
     },
     "metadata": {},
     "output_type": "display_data"
    },
    {
     "data": {
      "text/plain": [
       "<matplotlib.figure.Figure at 0xcdbf630>"
      ]
     },
     "metadata": {},
     "output_type": "display_data"
    },
    {
     "data": {
      "text/plain": [
       "<matplotlib.figure.Figure at 0xc2a64e0>"
      ]
     },
     "metadata": {},
     "output_type": "display_data"
    },
    {
     "data": {
      "text/plain": [
       "<matplotlib.figure.Figure at 0xe6a4048>"
      ]
     },
     "metadata": {},
     "output_type": "display_data"
    },
    {
     "data": {
      "text/plain": [
       "<matplotlib.figure.Figure at 0xc120e10>"
      ]
     },
     "metadata": {},
     "output_type": "display_data"
    },
    {
     "data": {
      "text/plain": [
       "<matplotlib.figure.Figure at 0xcbd0320>"
      ]
     },
     "metadata": {},
     "output_type": "display_data"
    },
    {
     "data": {
      "text/plain": [
       "<matplotlib.figure.Figure at 0xf66bc50>"
      ]
     },
     "metadata": {},
     "output_type": "display_data"
    },
    {
     "data": {
      "text/plain": [
       "<matplotlib.figure.Figure at 0xf01c710>"
      ]
     },
     "metadata": {},
     "output_type": "display_data"
    },
    {
     "data": {
      "text/plain": [
       "<matplotlib.figure.Figure at 0xf01cb70>"
      ]
     },
     "metadata": {},
     "output_type": "display_data"
    }
   ],
   "source": [
    "radarplot(dSummary, -4000, 4000, 1000) #for skill\n",
    "#radarplot(dSummary, -1200, 1200, 600); # for knowledge"
   ]
  },
  {
   "cell_type": "code",
   "execution_count": 20,
   "metadata": {
    "collapsed": false
   },
   "outputs": [],
   "source": [
    "d = dOccupationScore\n",
    "d = d.reset_index()\n",
    "d.to_csv(DataDir + '04/score_Occupation.csv')"
   ]
  }
 ],
 "metadata": {
  "anaconda-cloud": {},
  "kernelspec": {
   "display_name": "Python [default]",
   "language": "python",
   "name": "python2"
  },
  "language_info": {
   "codemirror_mode": {
    "name": "ipython",
    "version": 2
   },
   "file_extension": ".py",
   "mimetype": "text/x-python",
   "name": "python",
   "nbconvert_exporter": "python",
   "pygments_lexer": "ipython2",
   "version": "2.7.12"
  }
 },
 "nbformat": 4,
 "nbformat_minor": 0
}
