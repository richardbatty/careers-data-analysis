{
 "cells": [
  {
   "cell_type": "markdown",
   "metadata": {},
   "source": [
    "# Insight Data Science Consulting Project: 80,000 hours - Chapter 4\n",
    "\n",
    "Note: this is a part of a consulting project with [80,000 hours](https://80000hours.org/).\n",
    "\n",
    "## Stage 1: Ask a question\n",
    "\n",
    "My objective is to rank skills (and possibly knowledge, tools & tech) based on how valuable they are. The skills are listed by US Department of Labor [here](https://www.onetonline.org/find/descriptor/browse/Skills/2.B.1/).\n",
    "\n",
    "There is no performance measure for this rank yet since it is subjective. Yet in the future, one can create a poll to rate pairwise. \n",
    "\n",
    "## Stage 2: Set the environment up and get data\n",
    "\n",
    "First, set up a directory for data and link it to this workplace. Download data into your choice of directory."
   ]
  },
  {
   "cell_type": "code",
   "execution_count": 1,
   "metadata": {
    "collapsed": false
   },
   "outputs": [],
   "source": [
    "#Set up the environment\n",
    "import pandas as pd                        #Pandas\n",
    "import numpy as np                         #Numpy\n",
    "import pycurl                              #For saving file from url\n",
    "import os                                  #For checking if a file exists\n",
    "from pandas.parser import CParserError     #For checking if a file contains a set of values\n",
    "import matplotlib.pyplot as plt            #For plotting\n",
    "import matplotlib\n",
    "%matplotlib inline\n",
    "\n",
    "#Some machine learning tools\n",
    "from sklearn.linear_model import LassoCV, LassoLarsCV, LinearRegression\n",
    "from sklearn.ensemble import RandomForestRegressor, GradientBoostingRegressor\n",
    "from sklearn.neural_network import MLPRegressor\n",
    "from sklearn.model_selection import StratifiedKFold\n",
    "from sklearn.feature_selection import RFECV\n",
    "\n",
    "#For radar graph plot\n",
    "import numpy as np\n",
    "import matplotlib\n",
    "import matplotlib.path as path\n",
    "import matplotlib.pyplot as plt\n",
    "import matplotlib.patches as patches\n",
    "\n",
    "# Set up data directory\n",
    "DataDir = \"C:/Users/Admin/Desktop/Insight/80000hrs/\"\n"
   ]
  },
  {
   "cell_type": "markdown",
   "metadata": {},
   "source": [
    "## Stage 3+4+5: Feature exploration, scores, and results"
   ]
  },
  {
   "cell_type": "markdown",
   "metadata": {},
   "source": [
    "See previous chapter."
   ]
  },
  {
   "cell_type": "markdown",
   "metadata": {},
   "source": [
    "## Stage 6: Compute score for occupations"
   ]
  },
  {
   "cell_type": "code",
   "execution_count": 2,
   "metadata": {
    "collapsed": true
   },
   "outputs": [],
   "source": [
    "interest = 'Skill'\n",
    "#interest = 'Knowledge'"
   ]
  },
  {
   "cell_type": "code",
   "execution_count": 3,
   "metadata": {
    "collapsed": true
   },
   "outputs": [],
   "source": [
    "#First read the list of occupation \n",
    "filename = \"00/All_Career_Clusters.csv\"\n",
    "d0 = pd.pandas.read_csv(DataDir+filename)"
   ]
  },
  {
   "cell_type": "code",
   "execution_count": 4,
   "metadata": {
    "collapsed": true
   },
   "outputs": [],
   "source": [
    "d0.rename(columns={'Code':'SOC code'}, inplace=True)"
   ]
  },
  {
   "cell_type": "code",
   "execution_count": 7,
   "metadata": {
    "collapsed": false
   },
   "outputs": [],
   "source": [
    "filename = \"01/d\"+ interest +\".csv\"\n",
    "d1 = pd.read_csv(DataDir + filename)\n",
    "d1 = d1.drop('Unnamed: 0', 1)\n",
    "d1 = d1.set_index('SOC code')"
   ]
  },
  {
   "cell_type": "code",
   "execution_count": 8,
   "metadata": {
    "collapsed": false
   },
   "outputs": [],
   "source": [
    "filename = \"03/score_\" + interest + \".csv\" \n",
    "d2 = pd.read_csv(DataDir+ filename)\n",
    "d2 = d2.drop('Unnamed: 0', 1)\n",
    "d2.rename(columns={'index':interest}, inplace=True)\n",
    "d2 = d2.set_index(interest)"
   ]
  },
  {
   "cell_type": "code",
   "execution_count": 9,
   "metadata": {
    "collapsed": false
   },
   "outputs": [],
   "source": [
    "dOccupationScore = pd.DataFrame(index=d1.index)\n",
    "dOccupationScore['Income'] = 0\n",
    "dOccupationScore['Satisfaction'] = 0\n",
    "dOccupationScore['Learnability'] = 0\n",
    "dOccupationScore['Security'] = 0\n",
    "dOccupationScore = dOccupationScore[['Income','Satisfaction','Learnability', 'Security']]"
   ]
  },
  {
   "cell_type": "code",
   "execution_count": 10,
   "metadata": {
    "collapsed": false
   },
   "outputs": [
    {
     "data": {
      "text/plain": [
       "((953, 35), (35, 8))"
      ]
     },
     "execution_count": 10,
     "metadata": {},
     "output_type": "execute_result"
    }
   ],
   "source": [
    "d1.shape, d2.shape"
   ]
  },
  {
   "cell_type": "code",
   "execution_count": 11,
   "metadata": {
    "collapsed": false
   },
   "outputs": [],
   "source": [
    "for i in ['Income','Satisfaction','Learnability', 'Security']:\n",
    "    for j in d1.index:\n",
    "        for k in d1.columns:\n",
    "            dOccupationScore.loc[j,i] = dOccupationScore.loc[j,i] + d1.loc[j,k]*d2.loc[k,i]"
   ]
  },
  {
   "cell_type": "code",
   "execution_count": 12,
   "metadata": {
    "collapsed": false
   },
   "outputs": [],
   "source": [
    "exec(\"dOccupationScore_\" + interest + \"= dOccupationScore\")"
   ]
  },
  {
   "cell_type": "code",
   "execution_count": 13,
   "metadata": {
    "collapsed": true
   },
   "outputs": [],
   "source": [
    "exec(\"dOccupationScore = dOccupationScore_\" + interest)"
   ]
  },
  {
   "cell_type": "code",
   "execution_count": 14,
   "metadata": {
    "collapsed": false
   },
   "outputs": [
    {
     "data": {
      "text/html": [
       "<div>\n",
       "<table border=\"1\" class=\"dataframe\">\n",
       "  <thead>\n",
       "    <tr style=\"text-align: right;\">\n",
       "      <th></th>\n",
       "      <th>Income</th>\n",
       "      <th>Satisfaction</th>\n",
       "      <th>Learnability</th>\n",
       "      <th>Security</th>\n",
       "    </tr>\n",
       "    <tr>\n",
       "      <th>SOC code</th>\n",
       "      <th></th>\n",
       "      <th></th>\n",
       "      <th></th>\n",
       "      <th></th>\n",
       "    </tr>\n",
       "  </thead>\n",
       "  <tbody>\n",
       "    <tr>\n",
       "      <th>11-1011.00</th>\n",
       "      <td>3997.545801</td>\n",
       "      <td>681.907307</td>\n",
       "      <td>-3257.938285</td>\n",
       "      <td>3160.033157</td>\n",
       "    </tr>\n",
       "    <tr>\n",
       "      <th>11-1011.03</th>\n",
       "      <td>3328.889581</td>\n",
       "      <td>573.755212</td>\n",
       "      <td>-2744.503501</td>\n",
       "      <td>2660.366948</td>\n",
       "    </tr>\n",
       "    <tr>\n",
       "      <th>11-1021.00</th>\n",
       "      <td>3274.591492</td>\n",
       "      <td>568.868551</td>\n",
       "      <td>-2665.072519</td>\n",
       "      <td>2628.753581</td>\n",
       "    </tr>\n",
       "    <tr>\n",
       "      <th>11-2011.00</th>\n",
       "      <td>3153.180203</td>\n",
       "      <td>542.763968</td>\n",
       "      <td>-2608.551079</td>\n",
       "      <td>2534.761642</td>\n",
       "    </tr>\n",
       "    <tr>\n",
       "      <th>11-2021.00</th>\n",
       "      <td>3355.438992</td>\n",
       "      <td>574.722918</td>\n",
       "      <td>-2766.801352</td>\n",
       "      <td>2681.088120</td>\n",
       "    </tr>\n",
       "  </tbody>\n",
       "</table>\n",
       "</div>"
      ],
      "text/plain": [
       "                 Income  Satisfaction  Learnability     Security\n",
       "SOC code                                                        \n",
       "11-1011.00  3997.545801    681.907307  -3257.938285  3160.033157\n",
       "11-1011.03  3328.889581    573.755212  -2744.503501  2660.366948\n",
       "11-1021.00  3274.591492    568.868551  -2665.072519  2628.753581\n",
       "11-2011.00  3153.180203    542.763968  -2608.551079  2534.761642\n",
       "11-2021.00  3355.438992    574.722918  -2766.801352  2681.088120"
      ]
     },
     "execution_count": 14,
     "metadata": {},
     "output_type": "execute_result"
    }
   ],
   "source": [
    " dOccupationScore[:5]"
   ]
  },
  {
   "cell_type": "code",
   "execution_count": 15,
   "metadata": {
    "collapsed": false
   },
   "outputs": [],
   "source": [
    "dOccupationScore['score'] = (dOccupationScore['Satisfaction'] + dOccupationScore['Income'] \\\n",
    "                              + dOccupationScore['Security'] + dOccupationScore['Learnability'])/4\n",
    "dOccupationScore['color'] = (dOccupationScore['score'] - np.min(dOccupationScore['score']))/ \\\n",
    "                        (np.max(dOccupationScore['score']) - np.min(dOccupationScore['score']))"
   ]
  },
  {
   "cell_type": "code",
   "execution_count": 16,
   "metadata": {
    "collapsed": false
   },
   "outputs": [
    {
     "data": {
      "text/plain": [
       "(-3257.9382846284439, 3997.5458008744663)"
      ]
     },
     "execution_count": 16,
     "metadata": {},
     "output_type": "execute_result"
    }
   ],
   "source": [
    "vmin = min(np.min(dOccupationScore['Income']),np.min(dOccupationScore['Satisfaction']), \\\n",
    "        np.min(dOccupationScore['Security']), np.min(dOccupationScore['Learnability']))\n",
    "\n",
    "vmax = max(np.max(dOccupationScore['Income']),np.max(dOccupationScore['Satisfaction']), \\\n",
    "        np.max(dOccupationScore['Security']), np.max(dOccupationScore['Learnability']))\n",
    "vmin, vmax"
   ]
  },
  {
   "cell_type": "code",
   "execution_count": 17,
   "metadata": {
    "collapsed": true
   },
   "outputs": [],
   "source": [
    "dOccupationScore = dOccupationScore.reset_index().merge(d0, left_on='SOC code',  right_on='SOC code', how ='left')\n",
    "dOccupationScore = dOccupationScore.sort_values(by='score',ascending=False)"
   ]
  },
  {
   "cell_type": "code",
   "execution_count": 18,
   "metadata": {
    "collapsed": false
   },
   "outputs": [
    {
     "data": {
      "text/html": [
       "<div>\n",
       "<table border=\"1\" class=\"dataframe\">\n",
       "  <thead>\n",
       "    <tr style=\"text-align: right;\">\n",
       "      <th></th>\n",
       "      <th>Career Pathway</th>\n",
       "      <th>Occupation</th>\n",
       "      <th>Income</th>\n",
       "      <th>Satisfaction</th>\n",
       "      <th>Learnability</th>\n",
       "      <th>Security</th>\n",
       "      <th>score</th>\n",
       "    </tr>\n",
       "  </thead>\n",
       "  <tbody>\n",
       "    <tr>\n",
       "      <th>0</th>\n",
       "      <td>Business Financial Management and Accounting</td>\n",
       "      <td>Chief Executives</td>\n",
       "      <td>3997.545801</td>\n",
       "      <td>681.907307</td>\n",
       "      <td>-3257.938285</td>\n",
       "      <td>3160.033157</td>\n",
       "      <td>1145.386995</td>\n",
       "    </tr>\n",
       "    <tr>\n",
       "      <th>1</th>\n",
       "      <td>Management</td>\n",
       "      <td>Chief Executives</td>\n",
       "      <td>3997.545801</td>\n",
       "      <td>681.907307</td>\n",
       "      <td>-3257.938285</td>\n",
       "      <td>3160.033157</td>\n",
       "      <td>1145.386995</td>\n",
       "    </tr>\n",
       "    <tr>\n",
       "      <th>2</th>\n",
       "      <td>Governance</td>\n",
       "      <td>Chief Executives</td>\n",
       "      <td>3997.545801</td>\n",
       "      <td>681.907307</td>\n",
       "      <td>-3257.938285</td>\n",
       "      <td>3160.033157</td>\n",
       "      <td>1145.386995</td>\n",
       "    </tr>\n",
       "    <tr>\n",
       "      <th>3</th>\n",
       "      <td>Family and Community Services</td>\n",
       "      <td>Chief Executives</td>\n",
       "      <td>3997.545801</td>\n",
       "      <td>681.907307</td>\n",
       "      <td>-3257.938285</td>\n",
       "      <td>3160.033157</td>\n",
       "      <td>1145.386995</td>\n",
       "    </tr>\n",
       "    <tr>\n",
       "      <th>4</th>\n",
       "      <td>Logistics Planning and Management Services</td>\n",
       "      <td>Chief Executives</td>\n",
       "      <td>3997.545801</td>\n",
       "      <td>681.907307</td>\n",
       "      <td>-3257.938285</td>\n",
       "      <td>3160.033157</td>\n",
       "      <td>1145.386995</td>\n",
       "    </tr>\n",
       "    <tr>\n",
       "      <th>68</th>\n",
       "      <td>Administration and Administrative Support</td>\n",
       "      <td>Education Administrators, Elementary and Secon...</td>\n",
       "      <td>3716.029174</td>\n",
       "      <td>644.437600</td>\n",
       "      <td>-3070.154627</td>\n",
       "      <td>2981.575684</td>\n",
       "      <td>1067.971958</td>\n",
       "    </tr>\n",
       "    <tr>\n",
       "      <th>723</th>\n",
       "      <td>Administration and Administrative Support</td>\n",
       "      <td>Coaches and Scouts</td>\n",
       "      <td>3632.201767</td>\n",
       "      <td>641.119760</td>\n",
       "      <td>-3001.332127</td>\n",
       "      <td>2966.742825</td>\n",
       "      <td>1059.683056</td>\n",
       "    </tr>\n",
       "    <tr>\n",
       "      <th>724</th>\n",
       "      <td>Teaching/Training</td>\n",
       "      <td>Coaches and Scouts</td>\n",
       "      <td>3632.201767</td>\n",
       "      <td>641.119760</td>\n",
       "      <td>-3001.332127</td>\n",
       "      <td>2966.742825</td>\n",
       "      <td>1059.683056</td>\n",
       "    </tr>\n",
       "    <tr>\n",
       "      <th>90</th>\n",
       "      <td>Therapeutic Services</td>\n",
       "      <td>Medical and Health Services Managers</td>\n",
       "      <td>3679.255981</td>\n",
       "      <td>632.875310</td>\n",
       "      <td>-3031.874700</td>\n",
       "      <td>2933.934677</td>\n",
       "      <td>1053.547817</td>\n",
       "    </tr>\n",
       "    <tr>\n",
       "      <th>89</th>\n",
       "      <td>Health Informatics</td>\n",
       "      <td>Medical and Health Services Managers</td>\n",
       "      <td>3679.255981</td>\n",
       "      <td>632.875310</td>\n",
       "      <td>-3031.874700</td>\n",
       "      <td>2933.934677</td>\n",
       "      <td>1053.547817</td>\n",
       "    </tr>\n",
       "    <tr>\n",
       "      <th>87</th>\n",
       "      <td>Management</td>\n",
       "      <td>Medical and Health Services Managers</td>\n",
       "      <td>3679.255981</td>\n",
       "      <td>632.875310</td>\n",
       "      <td>-3031.874700</td>\n",
       "      <td>2933.934677</td>\n",
       "      <td>1053.547817</td>\n",
       "    </tr>\n",
       "    <tr>\n",
       "      <th>88</th>\n",
       "      <td>Diagnostic Services</td>\n",
       "      <td>Medical and Health Services Managers</td>\n",
       "      <td>3679.255981</td>\n",
       "      <td>632.875310</td>\n",
       "      <td>-3031.874700</td>\n",
       "      <td>2933.934677</td>\n",
       "      <td>1053.547817</td>\n",
       "    </tr>\n",
       "    <tr>\n",
       "      <th>104</th>\n",
       "      <td>Governance</td>\n",
       "      <td>Social and Community Service Managers</td>\n",
       "      <td>3624.724246</td>\n",
       "      <td>625.697058</td>\n",
       "      <td>-2983.916864</td>\n",
       "      <td>2904.535112</td>\n",
       "      <td>1042.759888</td>\n",
       "    </tr>\n",
       "    <tr>\n",
       "      <th>107</th>\n",
       "      <td>Family and Community Services</td>\n",
       "      <td>Social and Community Service Managers</td>\n",
       "      <td>3624.724246</td>\n",
       "      <td>625.697058</td>\n",
       "      <td>-2983.916864</td>\n",
       "      <td>2904.535112</td>\n",
       "      <td>1042.759888</td>\n",
       "    </tr>\n",
       "    <tr>\n",
       "      <th>103</th>\n",
       "      <td>Management</td>\n",
       "      <td>Social and Community Service Managers</td>\n",
       "      <td>3624.724246</td>\n",
       "      <td>625.697058</td>\n",
       "      <td>-2983.916864</td>\n",
       "      <td>2904.535112</td>\n",
       "      <td>1042.759888</td>\n",
       "    </tr>\n",
       "    <tr>\n",
       "      <th>105</th>\n",
       "      <td>Public Management and Administration</td>\n",
       "      <td>Social and Community Service Managers</td>\n",
       "      <td>3624.724246</td>\n",
       "      <td>625.697058</td>\n",
       "      <td>-2983.916864</td>\n",
       "      <td>2904.535112</td>\n",
       "      <td>1042.759888</td>\n",
       "    </tr>\n",
       "    <tr>\n",
       "      <th>106</th>\n",
       "      <td>Counseling and Mental Health Services</td>\n",
       "      <td>Social and Community Service Managers</td>\n",
       "      <td>3624.724246</td>\n",
       "      <td>625.697058</td>\n",
       "      <td>-2983.916864</td>\n",
       "      <td>2904.535112</td>\n",
       "      <td>1042.759888</td>\n",
       "    </tr>\n",
       "    <tr>\n",
       "      <th>421</th>\n",
       "      <td>Counseling and Mental Health Services</td>\n",
       "      <td>Industrial-Organizational Psychologists</td>\n",
       "      <td>3645.470426</td>\n",
       "      <td>618.108699</td>\n",
       "      <td>-3001.514779</td>\n",
       "      <td>2846.434552</td>\n",
       "      <td>1027.124725</td>\n",
       "    </tr>\n",
       "    <tr>\n",
       "      <th>420</th>\n",
       "      <td>Therapeutic Services</td>\n",
       "      <td>Industrial-Organizational Psychologists</td>\n",
       "      <td>3645.470426</td>\n",
       "      <td>618.108699</td>\n",
       "      <td>-3001.514779</td>\n",
       "      <td>2846.434552</td>\n",
       "      <td>1027.124725</td>\n",
       "    </tr>\n",
       "    <tr>\n",
       "      <th>816</th>\n",
       "      <td>Therapeutic Services</td>\n",
       "      <td>Preventive Medicine Physicians</td>\n",
       "      <td>3601.054281</td>\n",
       "      <td>622.542814</td>\n",
       "      <td>-2995.331769</td>\n",
       "      <td>2877.112281</td>\n",
       "      <td>1026.344402</td>\n",
       "    </tr>\n",
       "    <tr>\n",
       "      <th>69</th>\n",
       "      <td>Administration and Administrative Support</td>\n",
       "      <td>Education Administrators, Postsecondary</td>\n",
       "      <td>3497.149064</td>\n",
       "      <td>609.654161</td>\n",
       "      <td>-2922.119857</td>\n",
       "      <td>2864.830549</td>\n",
       "      <td>1012.378479</td>\n",
       "    </tr>\n",
       "    <tr>\n",
       "      <th>83</th>\n",
       "      <td>Lodging</td>\n",
       "      <td>Lodging Managers</td>\n",
       "      <td>3473.533266</td>\n",
       "      <td>604.572618</td>\n",
       "      <td>-2813.198220</td>\n",
       "      <td>2772.070479</td>\n",
       "      <td>1009.244536</td>\n",
       "    </tr>\n",
       "    <tr>\n",
       "      <th>84</th>\n",
       "      <td>Recreation, Amusements and Attractions</td>\n",
       "      <td>Lodging Managers</td>\n",
       "      <td>3473.533266</td>\n",
       "      <td>604.572618</td>\n",
       "      <td>-2813.198220</td>\n",
       "      <td>2772.070479</td>\n",
       "      <td>1009.244536</td>\n",
       "    </tr>\n",
       "    <tr>\n",
       "      <th>85</th>\n",
       "      <td>Travel and Tourism</td>\n",
       "      <td>Lodging Managers</td>\n",
       "      <td>3473.533266</td>\n",
       "      <td>604.572618</td>\n",
       "      <td>-2813.198220</td>\n",
       "      <td>2772.070479</td>\n",
       "      <td>1009.244536</td>\n",
       "    </tr>\n",
       "    <tr>\n",
       "      <th>86</th>\n",
       "      <td>Professional Sales and Marketing</td>\n",
       "      <td>Lodging Managers</td>\n",
       "      <td>3473.533266</td>\n",
       "      <td>604.572618</td>\n",
       "      <td>-2813.198220</td>\n",
       "      <td>2772.070479</td>\n",
       "      <td>1009.244536</td>\n",
       "    </tr>\n",
       "    <tr>\n",
       "      <th>17</th>\n",
       "      <td>Marketing</td>\n",
       "      <td>Sales Managers</td>\n",
       "      <td>3493.989858</td>\n",
       "      <td>602.051399</td>\n",
       "      <td>-2892.394972</td>\n",
       "      <td>2826.407504</td>\n",
       "      <td>1007.513447</td>\n",
       "    </tr>\n",
       "    <tr>\n",
       "      <th>20</th>\n",
       "      <td>Marketing Communications and Promotion</td>\n",
       "      <td>Sales Managers</td>\n",
       "      <td>3493.989858</td>\n",
       "      <td>602.051399</td>\n",
       "      <td>-2892.394972</td>\n",
       "      <td>2826.407504</td>\n",
       "      <td>1007.513447</td>\n",
       "    </tr>\n",
       "    <tr>\n",
       "      <th>16</th>\n",
       "      <td>Management</td>\n",
       "      <td>Sales Managers</td>\n",
       "      <td>3493.989858</td>\n",
       "      <td>602.051399</td>\n",
       "      <td>-2892.394972</td>\n",
       "      <td>2826.407504</td>\n",
       "      <td>1007.513447</td>\n",
       "    </tr>\n",
       "    <tr>\n",
       "      <th>19</th>\n",
       "      <td>Management and Entrepreneurship</td>\n",
       "      <td>Sales Managers</td>\n",
       "      <td>3493.989858</td>\n",
       "      <td>602.051399</td>\n",
       "      <td>-2892.394972</td>\n",
       "      <td>2826.407504</td>\n",
       "      <td>1007.513447</td>\n",
       "    </tr>\n",
       "    <tr>\n",
       "      <th>18</th>\n",
       "      <td>Consumer Services</td>\n",
       "      <td>Sales Managers</td>\n",
       "      <td>3493.989858</td>\n",
       "      <td>602.051399</td>\n",
       "      <td>-2892.394972</td>\n",
       "      <td>2826.407504</td>\n",
       "      <td>1007.513447</td>\n",
       "    </tr>\n",
       "    <tr>\n",
       "      <th>...</th>\n",
       "      <td>...</td>\n",
       "      <td>...</td>\n",
       "      <td>...</td>\n",
       "      <td>...</td>\n",
       "      <td>...</td>\n",
       "      <td>...</td>\n",
       "      <td>...</td>\n",
       "    </tr>\n",
       "    <tr>\n",
       "      <th>1380</th>\n",
       "      <td>Maintenance, Installation and Repair</td>\n",
       "      <td>Coil Winders, Tapers, and Finishers</td>\n",
       "      <td>1565.178247</td>\n",
       "      <td>278.740883</td>\n",
       "      <td>-1249.722510</td>\n",
       "      <td>1239.547602</td>\n",
       "      <td>458.436056</td>\n",
       "    </tr>\n",
       "    <tr>\n",
       "      <th>1381</th>\n",
       "      <td>Production</td>\n",
       "      <td>Coil Winders, Tapers, and Finishers</td>\n",
       "      <td>1565.178247</td>\n",
       "      <td>278.740883</td>\n",
       "      <td>-1249.722510</td>\n",
       "      <td>1239.547602</td>\n",
       "      <td>458.436056</td>\n",
       "    </tr>\n",
       "    <tr>\n",
       "      <th>1232</th>\n",
       "      <td>Construction</td>\n",
       "      <td>Tapers</td>\n",
       "      <td>1557.254067</td>\n",
       "      <td>279.361188</td>\n",
       "      <td>-1258.668156</td>\n",
       "      <td>1253.984329</td>\n",
       "      <td>457.982857</td>\n",
       "    </tr>\n",
       "    <tr>\n",
       "      <th>1287</th>\n",
       "      <td>Natural Resources Systems</td>\n",
       "      <td>Rock Splitters, Quarry</td>\n",
       "      <td>1555.928499</td>\n",
       "      <td>277.541073</td>\n",
       "      <td>-1221.649915</td>\n",
       "      <td>1216.522620</td>\n",
       "      <td>457.085569</td>\n",
       "    </tr>\n",
       "    <tr>\n",
       "      <th>977</th>\n",
       "      <td>Restaurants and Food/Beverage Services</td>\n",
       "      <td>Dining Room and Cafeteria Attendants and Barte...</td>\n",
       "      <td>1520.738739</td>\n",
       "      <td>269.240176</td>\n",
       "      <td>-1254.984066</td>\n",
       "      <td>1281.762832</td>\n",
       "      <td>454.189420</td>\n",
       "    </tr>\n",
       "    <tr>\n",
       "      <th>1448</th>\n",
       "      <td>Production</td>\n",
       "      <td>Shoe and Leather Workers and Repairers</td>\n",
       "      <td>1529.214284</td>\n",
       "      <td>269.780578</td>\n",
       "      <td>-1232.460499</td>\n",
       "      <td>1244.073423</td>\n",
       "      <td>452.651946</td>\n",
       "    </tr>\n",
       "    <tr>\n",
       "      <th>1391</th>\n",
       "      <td>Construction</td>\n",
       "      <td>Structural Metal Fabricators and Fitters</td>\n",
       "      <td>1553.734648</td>\n",
       "      <td>274.058019</td>\n",
       "      <td>-1249.189995</td>\n",
       "      <td>1230.585816</td>\n",
       "      <td>452.297122</td>\n",
       "    </tr>\n",
       "    <tr>\n",
       "      <th>1392</th>\n",
       "      <td>Production</td>\n",
       "      <td>Structural Metal Fabricators and Fitters</td>\n",
       "      <td>1553.734648</td>\n",
       "      <td>274.058019</td>\n",
       "      <td>-1249.189995</td>\n",
       "      <td>1230.585816</td>\n",
       "      <td>452.297122</td>\n",
       "    </tr>\n",
       "    <tr>\n",
       "      <th>1457</th>\n",
       "      <td>Maintenance, Installation and Repair</td>\n",
       "      <td>Textile Knitting and Weaving Machine Setters, ...</td>\n",
       "      <td>1544.839843</td>\n",
       "      <td>275.008116</td>\n",
       "      <td>-1193.100834</td>\n",
       "      <td>1182.372814</td>\n",
       "      <td>452.279985</td>\n",
       "    </tr>\n",
       "    <tr>\n",
       "      <th>1458</th>\n",
       "      <td>Production</td>\n",
       "      <td>Textile Knitting and Weaving Machine Setters, ...</td>\n",
       "      <td>1544.839843</td>\n",
       "      <td>275.008116</td>\n",
       "      <td>-1193.100834</td>\n",
       "      <td>1182.372814</td>\n",
       "      <td>452.279985</td>\n",
       "    </tr>\n",
       "    <tr>\n",
       "      <th>970</th>\n",
       "      <td>Restaurants and Food/Beverage Services</td>\n",
       "      <td>Food Preparation Workers</td>\n",
       "      <td>1515.034791</td>\n",
       "      <td>269.955599</td>\n",
       "      <td>-1256.369253</td>\n",
       "      <td>1273.942211</td>\n",
       "      <td>450.640837</td>\n",
       "    </tr>\n",
       "    <tr>\n",
       "      <th>978</th>\n",
       "      <td>Restaurants and Food/Beverage Services</td>\n",
       "      <td>Dishwashers</td>\n",
       "      <td>1520.455926</td>\n",
       "      <td>270.878307</td>\n",
       "      <td>-1188.843930</td>\n",
       "      <td>1199.707397</td>\n",
       "      <td>450.549425</td>\n",
       "    </tr>\n",
       "    <tr>\n",
       "      <th>1615</th>\n",
       "      <td>Natural Resources Systems</td>\n",
       "      <td>Wellhead Pumpers</td>\n",
       "      <td>1554.419116</td>\n",
       "      <td>276.628279</td>\n",
       "      <td>-1175.711674</td>\n",
       "      <td>1146.835387</td>\n",
       "      <td>450.542777</td>\n",
       "    </tr>\n",
       "    <tr>\n",
       "      <th>986</th>\n",
       "      <td>Plant Systems</td>\n",
       "      <td>Landscaping and Groundskeeping Workers</td>\n",
       "      <td>1525.546859</td>\n",
       "      <td>272.957340</td>\n",
       "      <td>-1206.212386</td>\n",
       "      <td>1204.584689</td>\n",
       "      <td>449.219125</td>\n",
       "    </tr>\n",
       "    <tr>\n",
       "      <th>987</th>\n",
       "      <td>Maintenance/Operations</td>\n",
       "      <td>Landscaping and Groundskeeping Workers</td>\n",
       "      <td>1525.546859</td>\n",
       "      <td>272.957340</td>\n",
       "      <td>-1206.212386</td>\n",
       "      <td>1204.584689</td>\n",
       "      <td>449.219125</td>\n",
       "    </tr>\n",
       "    <tr>\n",
       "      <th>1535</th>\n",
       "      <td>Production</td>\n",
       "      <td>Helpers--Production Workers</td>\n",
       "      <td>1525.817395</td>\n",
       "      <td>269.138198</td>\n",
       "      <td>-1196.322890</td>\n",
       "      <td>1184.284138</td>\n",
       "      <td>445.729210</td>\n",
       "    </tr>\n",
       "    <tr>\n",
       "      <th>1610</th>\n",
       "      <td>Production</td>\n",
       "      <td>Machine Feeders and Offbearers</td>\n",
       "      <td>1517.815172</td>\n",
       "      <td>268.942706</td>\n",
       "      <td>-1185.225412</td>\n",
       "      <td>1180.701927</td>\n",
       "      <td>445.558598</td>\n",
       "    </tr>\n",
       "    <tr>\n",
       "      <th>1518</th>\n",
       "      <td>Visual Arts</td>\n",
       "      <td>Painting, Coating, and Decorating Workers</td>\n",
       "      <td>1495.954108</td>\n",
       "      <td>267.893178</td>\n",
       "      <td>-1204.725498</td>\n",
       "      <td>1202.257801</td>\n",
       "      <td>440.344897</td>\n",
       "    </tr>\n",
       "    <tr>\n",
       "      <th>1519</th>\n",
       "      <td>Production</td>\n",
       "      <td>Painting, Coating, and Decorating Workers</td>\n",
       "      <td>1495.954108</td>\n",
       "      <td>267.893178</td>\n",
       "      <td>-1204.725498</td>\n",
       "      <td>1202.257801</td>\n",
       "      <td>440.344897</td>\n",
       "    </tr>\n",
       "    <tr>\n",
       "      <th>1067</th>\n",
       "      <td>Professional Sales and Marketing</td>\n",
       "      <td>Models</td>\n",
       "      <td>1453.462018</td>\n",
       "      <td>255.715494</td>\n",
       "      <td>-1234.338428</td>\n",
       "      <td>1226.168338</td>\n",
       "      <td>425.251856</td>\n",
       "    </tr>\n",
       "    <tr>\n",
       "      <th>982</th>\n",
       "      <td>Lodging</td>\n",
       "      <td>Janitors and Cleaners, Except Maids and Housek...</td>\n",
       "      <td>1422.763170</td>\n",
       "      <td>260.957065</td>\n",
       "      <td>-1169.367265</td>\n",
       "      <td>1181.822141</td>\n",
       "      <td>424.043778</td>\n",
       "    </tr>\n",
       "    <tr>\n",
       "      <th>1601</th>\n",
       "      <td>Natural Resources Systems</td>\n",
       "      <td>Loading Machine Operators, Underground Mining</td>\n",
       "      <td>1430.290894</td>\n",
       "      <td>260.801477</td>\n",
       "      <td>-1111.898139</td>\n",
       "      <td>1113.897750</td>\n",
       "      <td>423.272995</td>\n",
       "    </tr>\n",
       "    <tr>\n",
       "      <th>1431</th>\n",
       "      <td>Production</td>\n",
       "      <td>Solderers and Brazers</td>\n",
       "      <td>1429.952343</td>\n",
       "      <td>252.254901</td>\n",
       "      <td>-1114.835081</td>\n",
       "      <td>1107.177273</td>\n",
       "      <td>418.637359</td>\n",
       "    </tr>\n",
       "    <tr>\n",
       "      <th>1199</th>\n",
       "      <td>Power, Structural and Technical Systems</td>\n",
       "      <td>Agricultural Equipment Operators</td>\n",
       "      <td>1385.402952</td>\n",
       "      <td>251.558929</td>\n",
       "      <td>-1039.356324</td>\n",
       "      <td>1039.273833</td>\n",
       "      <td>409.219847</td>\n",
       "    </tr>\n",
       "    <tr>\n",
       "      <th>1618</th>\n",
       "      <td>Natural Resources Systems</td>\n",
       "      <td>Mine Shuttle Car Operators</td>\n",
       "      <td>1327.665186</td>\n",
       "      <td>238.927298</td>\n",
       "      <td>-1017.038715</td>\n",
       "      <td>1016.736096</td>\n",
       "      <td>391.572466</td>\n",
       "    </tr>\n",
       "    <tr>\n",
       "      <th>1403</th>\n",
       "      <td>Food Products and Processing Systems</td>\n",
       "      <td>Slaughterers and Meat Packers</td>\n",
       "      <td>1304.853291</td>\n",
       "      <td>231.139283</td>\n",
       "      <td>-1058.534240</td>\n",
       "      <td>1074.141995</td>\n",
       "      <td>387.900082</td>\n",
       "    </tr>\n",
       "    <tr>\n",
       "      <th>1404</th>\n",
       "      <td>Restaurants and Food/Beverage Services</td>\n",
       "      <td>Slaughterers and Meat Packers</td>\n",
       "      <td>1304.853291</td>\n",
       "      <td>231.139283</td>\n",
       "      <td>-1058.534240</td>\n",
       "      <td>1074.141995</td>\n",
       "      <td>387.900082</td>\n",
       "    </tr>\n",
       "    <tr>\n",
       "      <th>1606</th>\n",
       "      <td>Facility and Mobile Equipment Maintenance</td>\n",
       "      <td>Cleaners of Vehicles and Equipment</td>\n",
       "      <td>1161.055818</td>\n",
       "      <td>212.569571</td>\n",
       "      <td>-885.276906</td>\n",
       "      <td>903.038320</td>\n",
       "      <td>347.846701</td>\n",
       "    </tr>\n",
       "    <tr>\n",
       "      <th>1445</th>\n",
       "      <td>Personal Care Services</td>\n",
       "      <td>Pressers, Textile, Garment, and Related Materials</td>\n",
       "      <td>1152.823500</td>\n",
       "      <td>202.218156</td>\n",
       "      <td>-890.469941</td>\n",
       "      <td>886.105164</td>\n",
       "      <td>337.669220</td>\n",
       "    </tr>\n",
       "    <tr>\n",
       "      <th>1198</th>\n",
       "      <td>Food Products and Processing Systems</td>\n",
       "      <td>Graders and Sorters, Agricultural Products</td>\n",
       "      <td>1087.507495</td>\n",
       "      <td>193.626587</td>\n",
       "      <td>-932.959658</td>\n",
       "      <td>941.593839</td>\n",
       "      <td>322.442066</td>\n",
       "    </tr>\n",
       "  </tbody>\n",
       "</table>\n",
       "<p>1621 rows × 7 columns</p>\n",
       "</div>"
      ],
      "text/plain": [
       "                                    Career Pathway  \\\n",
       "0     Business Financial Management and Accounting   \n",
       "1                                       Management   \n",
       "2                                       Governance   \n",
       "3                    Family and Community Services   \n",
       "4       Logistics Planning and Management Services   \n",
       "68       Administration and Administrative Support   \n",
       "723      Administration and Administrative Support   \n",
       "724                              Teaching/Training   \n",
       "90                            Therapeutic Services   \n",
       "89                              Health Informatics   \n",
       "87                                      Management   \n",
       "88                             Diagnostic Services   \n",
       "104                                     Governance   \n",
       "107                  Family and Community Services   \n",
       "103                                     Management   \n",
       "105           Public Management and Administration   \n",
       "106          Counseling and Mental Health Services   \n",
       "421          Counseling and Mental Health Services   \n",
       "420                           Therapeutic Services   \n",
       "816                           Therapeutic Services   \n",
       "69       Administration and Administrative Support   \n",
       "83                                         Lodging   \n",
       "84          Recreation, Amusements and Attractions   \n",
       "85                              Travel and Tourism   \n",
       "86                Professional Sales and Marketing   \n",
       "17                                       Marketing   \n",
       "20          Marketing Communications and Promotion   \n",
       "16                                      Management   \n",
       "19                 Management and Entrepreneurship   \n",
       "18                               Consumer Services   \n",
       "...                                            ...   \n",
       "1380          Maintenance, Installation and Repair   \n",
       "1381                                    Production   \n",
       "1232                                  Construction   \n",
       "1287                     Natural Resources Systems   \n",
       "977         Restaurants and Food/Beverage Services   \n",
       "1448                                    Production   \n",
       "1391                                  Construction   \n",
       "1392                                    Production   \n",
       "1457          Maintenance, Installation and Repair   \n",
       "1458                                    Production   \n",
       "970         Restaurants and Food/Beverage Services   \n",
       "978         Restaurants and Food/Beverage Services   \n",
       "1615                     Natural Resources Systems   \n",
       "986                                  Plant Systems   \n",
       "987                         Maintenance/Operations   \n",
       "1535                                    Production   \n",
       "1610                                    Production   \n",
       "1518                                   Visual Arts   \n",
       "1519                                    Production   \n",
       "1067              Professional Sales and Marketing   \n",
       "982                                        Lodging   \n",
       "1601                     Natural Resources Systems   \n",
       "1431                                    Production   \n",
       "1199       Power, Structural and Technical Systems   \n",
       "1618                     Natural Resources Systems   \n",
       "1403          Food Products and Processing Systems   \n",
       "1404        Restaurants and Food/Beverage Services   \n",
       "1606     Facility and Mobile Equipment Maintenance   \n",
       "1445                        Personal Care Services   \n",
       "1198          Food Products and Processing Systems   \n",
       "\n",
       "                                             Occupation       Income  \\\n",
       "0                                      Chief Executives  3997.545801   \n",
       "1                                      Chief Executives  3997.545801   \n",
       "2                                      Chief Executives  3997.545801   \n",
       "3                                      Chief Executives  3997.545801   \n",
       "4                                      Chief Executives  3997.545801   \n",
       "68    Education Administrators, Elementary and Secon...  3716.029174   \n",
       "723                                  Coaches and Scouts  3632.201767   \n",
       "724                                  Coaches and Scouts  3632.201767   \n",
       "90                 Medical and Health Services Managers  3679.255981   \n",
       "89                 Medical and Health Services Managers  3679.255981   \n",
       "87                 Medical and Health Services Managers  3679.255981   \n",
       "88                 Medical and Health Services Managers  3679.255981   \n",
       "104               Social and Community Service Managers  3624.724246   \n",
       "107               Social and Community Service Managers  3624.724246   \n",
       "103               Social and Community Service Managers  3624.724246   \n",
       "105               Social and Community Service Managers  3624.724246   \n",
       "106               Social and Community Service Managers  3624.724246   \n",
       "421             Industrial-Organizational Psychologists  3645.470426   \n",
       "420             Industrial-Organizational Psychologists  3645.470426   \n",
       "816                      Preventive Medicine Physicians  3601.054281   \n",
       "69              Education Administrators, Postsecondary  3497.149064   \n",
       "83                                     Lodging Managers  3473.533266   \n",
       "84                                     Lodging Managers  3473.533266   \n",
       "85                                     Lodging Managers  3473.533266   \n",
       "86                                     Lodging Managers  3473.533266   \n",
       "17                                       Sales Managers  3493.989858   \n",
       "20                                       Sales Managers  3493.989858   \n",
       "16                                       Sales Managers  3493.989858   \n",
       "19                                       Sales Managers  3493.989858   \n",
       "18                                       Sales Managers  3493.989858   \n",
       "...                                                 ...          ...   \n",
       "1380                Coil Winders, Tapers, and Finishers  1565.178247   \n",
       "1381                Coil Winders, Tapers, and Finishers  1565.178247   \n",
       "1232                                             Tapers  1557.254067   \n",
       "1287                             Rock Splitters, Quarry  1555.928499   \n",
       "977   Dining Room and Cafeteria Attendants and Barte...  1520.738739   \n",
       "1448             Shoe and Leather Workers and Repairers  1529.214284   \n",
       "1391           Structural Metal Fabricators and Fitters  1553.734648   \n",
       "1392           Structural Metal Fabricators and Fitters  1553.734648   \n",
       "1457  Textile Knitting and Weaving Machine Setters, ...  1544.839843   \n",
       "1458  Textile Knitting and Weaving Machine Setters, ...  1544.839843   \n",
       "970                            Food Preparation Workers  1515.034791   \n",
       "978                                         Dishwashers  1520.455926   \n",
       "1615                                   Wellhead Pumpers  1554.419116   \n",
       "986              Landscaping and Groundskeeping Workers  1525.546859   \n",
       "987              Landscaping and Groundskeeping Workers  1525.546859   \n",
       "1535                        Helpers--Production Workers  1525.817395   \n",
       "1610                     Machine Feeders and Offbearers  1517.815172   \n",
       "1518          Painting, Coating, and Decorating Workers  1495.954108   \n",
       "1519          Painting, Coating, and Decorating Workers  1495.954108   \n",
       "1067                                             Models  1453.462018   \n",
       "982   Janitors and Cleaners, Except Maids and Housek...  1422.763170   \n",
       "1601      Loading Machine Operators, Underground Mining  1430.290894   \n",
       "1431                              Solderers and Brazers  1429.952343   \n",
       "1199                   Agricultural Equipment Operators  1385.402952   \n",
       "1618                         Mine Shuttle Car Operators  1327.665186   \n",
       "1403                      Slaughterers and Meat Packers  1304.853291   \n",
       "1404                      Slaughterers and Meat Packers  1304.853291   \n",
       "1606                 Cleaners of Vehicles and Equipment  1161.055818   \n",
       "1445  Pressers, Textile, Garment, and Related Materials  1152.823500   \n",
       "1198         Graders and Sorters, Agricultural Products  1087.507495   \n",
       "\n",
       "      Satisfaction  Learnability     Security        score  \n",
       "0       681.907307  -3257.938285  3160.033157  1145.386995  \n",
       "1       681.907307  -3257.938285  3160.033157  1145.386995  \n",
       "2       681.907307  -3257.938285  3160.033157  1145.386995  \n",
       "3       681.907307  -3257.938285  3160.033157  1145.386995  \n",
       "4       681.907307  -3257.938285  3160.033157  1145.386995  \n",
       "68      644.437600  -3070.154627  2981.575684  1067.971958  \n",
       "723     641.119760  -3001.332127  2966.742825  1059.683056  \n",
       "724     641.119760  -3001.332127  2966.742825  1059.683056  \n",
       "90      632.875310  -3031.874700  2933.934677  1053.547817  \n",
       "89      632.875310  -3031.874700  2933.934677  1053.547817  \n",
       "87      632.875310  -3031.874700  2933.934677  1053.547817  \n",
       "88      632.875310  -3031.874700  2933.934677  1053.547817  \n",
       "104     625.697058  -2983.916864  2904.535112  1042.759888  \n",
       "107     625.697058  -2983.916864  2904.535112  1042.759888  \n",
       "103     625.697058  -2983.916864  2904.535112  1042.759888  \n",
       "105     625.697058  -2983.916864  2904.535112  1042.759888  \n",
       "106     625.697058  -2983.916864  2904.535112  1042.759888  \n",
       "421     618.108699  -3001.514779  2846.434552  1027.124725  \n",
       "420     618.108699  -3001.514779  2846.434552  1027.124725  \n",
       "816     622.542814  -2995.331769  2877.112281  1026.344402  \n",
       "69      609.654161  -2922.119857  2864.830549  1012.378479  \n",
       "83      604.572618  -2813.198220  2772.070479  1009.244536  \n",
       "84      604.572618  -2813.198220  2772.070479  1009.244536  \n",
       "85      604.572618  -2813.198220  2772.070479  1009.244536  \n",
       "86      604.572618  -2813.198220  2772.070479  1009.244536  \n",
       "17      602.051399  -2892.394972  2826.407504  1007.513447  \n",
       "20      602.051399  -2892.394972  2826.407504  1007.513447  \n",
       "16      602.051399  -2892.394972  2826.407504  1007.513447  \n",
       "19      602.051399  -2892.394972  2826.407504  1007.513447  \n",
       "18      602.051399  -2892.394972  2826.407504  1007.513447  \n",
       "...            ...           ...          ...          ...  \n",
       "1380    278.740883  -1249.722510  1239.547602   458.436056  \n",
       "1381    278.740883  -1249.722510  1239.547602   458.436056  \n",
       "1232    279.361188  -1258.668156  1253.984329   457.982857  \n",
       "1287    277.541073  -1221.649915  1216.522620   457.085569  \n",
       "977     269.240176  -1254.984066  1281.762832   454.189420  \n",
       "1448    269.780578  -1232.460499  1244.073423   452.651946  \n",
       "1391    274.058019  -1249.189995  1230.585816   452.297122  \n",
       "1392    274.058019  -1249.189995  1230.585816   452.297122  \n",
       "1457    275.008116  -1193.100834  1182.372814   452.279985  \n",
       "1458    275.008116  -1193.100834  1182.372814   452.279985  \n",
       "970     269.955599  -1256.369253  1273.942211   450.640837  \n",
       "978     270.878307  -1188.843930  1199.707397   450.549425  \n",
       "1615    276.628279  -1175.711674  1146.835387   450.542777  \n",
       "986     272.957340  -1206.212386  1204.584689   449.219125  \n",
       "987     272.957340  -1206.212386  1204.584689   449.219125  \n",
       "1535    269.138198  -1196.322890  1184.284138   445.729210  \n",
       "1610    268.942706  -1185.225412  1180.701927   445.558598  \n",
       "1518    267.893178  -1204.725498  1202.257801   440.344897  \n",
       "1519    267.893178  -1204.725498  1202.257801   440.344897  \n",
       "1067    255.715494  -1234.338428  1226.168338   425.251856  \n",
       "982     260.957065  -1169.367265  1181.822141   424.043778  \n",
       "1601    260.801477  -1111.898139  1113.897750   423.272995  \n",
       "1431    252.254901  -1114.835081  1107.177273   418.637359  \n",
       "1199    251.558929  -1039.356324  1039.273833   409.219847  \n",
       "1618    238.927298  -1017.038715  1016.736096   391.572466  \n",
       "1403    231.139283  -1058.534240  1074.141995   387.900082  \n",
       "1404    231.139283  -1058.534240  1074.141995   387.900082  \n",
       "1606    212.569571   -885.276906   903.038320   347.846701  \n",
       "1445    202.218156   -890.469941   886.105164   337.669220  \n",
       "1198    193.626587   -932.959658   941.593839   322.442066  \n",
       "\n",
       "[1621 rows x 7 columns]"
      ]
     },
     "execution_count": 18,
     "metadata": {},
     "output_type": "execute_result"
    }
   ],
   "source": [
    "dOccupationScore[['Career Pathway','Occupation','Income','Satisfaction','Learnability','Security','score']]"
   ]
  },
  {
   "cell_type": "code",
   "execution_count": 19,
   "metadata": {
    "collapsed": true
   },
   "outputs": [],
   "source": [
    "#set color map\n",
    "cmap = matplotlib.cm.get_cmap('RdYlGn')"
   ]
  },
  {
   "cell_type": "code",
   "execution_count": 21,
   "metadata": {
    "collapsed": false
   },
   "outputs": [],
   "source": [
    "#best 20 and worst 20\n",
    "dSummary = pd.concat([dOccupationScore[:20], dOccupationScore[-20:]])\n",
    "Dir = DataDir + '04/Occupation/'"
   ]
  },
  {
   "cell_type": "code",
   "execution_count": 22,
   "metadata": {
    "collapsed": true
   },
   "outputs": [],
   "source": [
    "def radarplot(df, lower, upper, space):\n",
    "    df = df.sort_values(by='score')\n",
    "    for count in range(0,len(df)):\n",
    "\n",
    "        #Adapted from Copyright (C) 2011  Nicolas P. Rougier\n",
    "\n",
    "        # Data to be represented\n",
    "        # ----------\n",
    "        properties = ['Income','Satisfaction', 'Security','Learnability']\n",
    "        values = df.loc[df.index[count],:][['Income','Satisfaction', 'Security','Learnability']]\n",
    "        # ----------\n",
    "\n",
    "        # Choose some nice colors\n",
    "        matplotlib.rc('axes', facecolor = 'white')\n",
    "\n",
    "        # Make figure background the same colors as axes \n",
    "        fig = plt.figure(figsize=(8,6), facecolor='white')\n",
    "\n",
    "\n",
    "        # Use a polar axes\n",
    "        axes = plt.subplot(111, polar=True)\n",
    "\n",
    "        # Set ticks to the number of properties (in radians)\n",
    "        #t = np.arange(0,2*np.pi,2*np.pi/len(properties))\n",
    "        t = np.arange(np.pi/4,2*np.pi,2*np.pi/len(properties))\n",
    "        plt.xticks(t, [])\n",
    "\n",
    "        # Set yticks from 0 to 10\n",
    "        #plt.yticks(np.linspace(0,10,11))\n",
    "        #plt.yticks(np.linspace(0,4,9))\n",
    "        plt.yticks(np.linspace(lower,upper,(upper-lower)/space+1))\n",
    "\n",
    "        # Draw polygon representing values\n",
    "        points = [(x,y) for x,y in zip(t,values)]\n",
    "        points.append(points[0])\n",
    "        points = np.array(points)\n",
    "        codes = [path.Path.MOVETO,] + \\\n",
    "                [path.Path.LINETO,]*(len(values) -1) + \\\n",
    "                [ path.Path.CLOSEPOLY ]\n",
    "        _path = path.Path(points, codes)\n",
    "        _patch = patches.PathPatch(_path, fill=True, color=cmap(df.loc[df.index[count],'color']), linewidth=0, alpha=.7)\n",
    "        axes.add_patch(_patch)\n",
    "        _patch = patches.PathPatch(_path, fill=False, linewidth = 2)\n",
    "        axes.add_patch(_patch)\n",
    "\n",
    "        # Draw circles at value points\n",
    "        plt.scatter(points[:,0],points[:,1], linewidth=2,\n",
    "                    s=50, color='white', edgecolor='black', zorder=10)\n",
    "\n",
    "        # Set axes limits\n",
    "        #plt.ylim(0,10)\n",
    "        #plt.ylim(0,4)\n",
    "        plt.ylim(lower,upper)\n",
    "\n",
    "        #add tile\n",
    "        #plt.title(df.index[count])\n",
    "        #add tile\n",
    "        plt.title(df.loc[df.index[count],'Career Pathway']+'/ \\n ' + df.loc[df.index[count],'Occupation'])\n",
    "\n",
    "        # Draw ytick labels to make sure they fit properly\n",
    "        for i in range(len(properties)):\n",
    "            angle_rad = i/float(len(properties))*2*np.pi + np.pi/4\n",
    "            angle_deg = i/float(len(properties))*360 + 45\n",
    "            ha = \"right\"\n",
    "            if angle_rad < np.pi/2 or angle_rad > 3*np.pi/2: ha = \"left\"\n",
    "            #plt.text(angle_rad, 10.75, properties[i], size=14,\n",
    "            #plt.text(angle_rad, 4.75, properties[i], size=14,\n",
    "            plt.text(angle_rad, upper + 0.25, properties[i], size=14,\n",
    "                     horizontalalignment=ha, verticalalignment=\"center\")\n",
    "\n",
    "            # A variant on label orientation\n",
    "            #    plt.text(angle_rad, 11, properties[i], size=14,\n",
    "            #             rotation=angle_deg-90,\n",
    "            #             horizontalalignment='center', verticalalignment=\"center\")\n",
    "\n",
    "        # Done\n",
    "        plt.savefig(Dir + str(count+1).zfill(2) +'-radar-chart.png', facecolor='white');\n",
    "        #plt.show()\n",
    "        plt.clf();"
   ]
  },
  {
   "cell_type": "code",
   "execution_count": 23,
   "metadata": {
    "collapsed": false
   },
   "outputs": [
    {
     "name": "stderr",
     "output_type": "stream",
     "text": [
      "C:\\Users\\Admin\\Anaconda2\\lib\\site-packages\\matplotlib\\pyplot.py:524: RuntimeWarning: More than 20 figures have been opened. Figures created through the pyplot interface (`matplotlib.pyplot.figure`) are retained until explicitly closed and may consume too much memory. (To control this warning, see the rcParam `figure.max_open_warning`).\n",
      "  max_open_warning, RuntimeWarning)\n"
     ]
    },
    {
     "data": {
      "text/plain": [
       "<matplotlib.figure.Figure at 0xc0a9400>"
      ]
     },
     "metadata": {},
     "output_type": "display_data"
    },
    {
     "data": {
      "text/plain": [
       "<matplotlib.figure.Figure at 0xc0fb780>"
      ]
     },
     "metadata": {},
     "output_type": "display_data"
    },
    {
     "data": {
      "text/plain": [
       "<matplotlib.figure.Figure at 0xc365cf8>"
      ]
     },
     "metadata": {},
     "output_type": "display_data"
    },
    {
     "data": {
      "text/plain": [
       "<matplotlib.figure.Figure at 0xc365c50>"
      ]
     },
     "metadata": {},
     "output_type": "display_data"
    },
    {
     "data": {
      "text/plain": [
       "<matplotlib.figure.Figure at 0xc347dd8>"
      ]
     },
     "metadata": {},
     "output_type": "display_data"
    },
    {
     "data": {
      "text/plain": [
       "<matplotlib.figure.Figure at 0xc347be0>"
      ]
     },
     "metadata": {},
     "output_type": "display_data"
    },
    {
     "data": {
      "text/plain": [
       "<matplotlib.figure.Figure at 0xdc51198>"
      ]
     },
     "metadata": {},
     "output_type": "display_data"
    },
    {
     "data": {
      "text/plain": [
       "<matplotlib.figure.Figure at 0xc794cc0>"
      ]
     },
     "metadata": {},
     "output_type": "display_data"
    },
    {
     "data": {
      "text/plain": [
       "<matplotlib.figure.Figure at 0xe075fd0>"
      ]
     },
     "metadata": {},
     "output_type": "display_data"
    },
    {
     "data": {
      "text/plain": [
       "<matplotlib.figure.Figure at 0xe44fc18>"
      ]
     },
     "metadata": {},
     "output_type": "display_data"
    },
    {
     "data": {
      "text/plain": [
       "<matplotlib.figure.Figure at 0xe44fa20>"
      ]
     },
     "metadata": {},
     "output_type": "display_data"
    },
    {
     "data": {
      "text/plain": [
       "<matplotlib.figure.Figure at 0xe6ba2b0>"
      ]
     },
     "metadata": {},
     "output_type": "display_data"
    },
    {
     "data": {
      "text/plain": [
       "<matplotlib.figure.Figure at 0xe6ba320>"
      ]
     },
     "metadata": {},
     "output_type": "display_data"
    },
    {
     "data": {
      "text/plain": [
       "<matplotlib.figure.Figure at 0xec43128>"
      ]
     },
     "metadata": {},
     "output_type": "display_data"
    },
    {
     "data": {
      "text/plain": [
       "<matplotlib.figure.Figure at 0xec432e8>"
      ]
     },
     "metadata": {},
     "output_type": "display_data"
    },
    {
     "data": {
      "text/plain": [
       "<matplotlib.figure.Figure at 0xee86080>"
      ]
     },
     "metadata": {},
     "output_type": "display_data"
    },
    {
     "data": {
      "text/plain": [
       "<matplotlib.figure.Figure at 0xe05c128>"
      ]
     },
     "metadata": {},
     "output_type": "display_data"
    },
    {
     "data": {
      "text/plain": [
       "<matplotlib.figure.Figure at 0xf33cef0>"
      ]
     },
     "metadata": {},
     "output_type": "display_data"
    },
    {
     "data": {
      "text/plain": [
       "<matplotlib.figure.Figure at 0xf568828>"
      ]
     },
     "metadata": {},
     "output_type": "display_data"
    },
    {
     "data": {
      "text/plain": [
       "<matplotlib.figure.Figure at 0xf568908>"
      ]
     },
     "metadata": {},
     "output_type": "display_data"
    },
    {
     "data": {
      "text/plain": [
       "<matplotlib.figure.Figure at 0xf765d68>"
      ]
     },
     "metadata": {},
     "output_type": "display_data"
    },
    {
     "data": {
      "text/plain": [
       "<matplotlib.figure.Figure at 0x1054a198>"
      ]
     },
     "metadata": {},
     "output_type": "display_data"
    },
    {
     "data": {
      "text/plain": [
       "<matplotlib.figure.Figure at 0x103fd9e8>"
      ]
     },
     "metadata": {},
     "output_type": "display_data"
    },
    {
     "data": {
      "text/plain": [
       "<matplotlib.figure.Figure at 0x103fdf28>"
      ]
     },
     "metadata": {},
     "output_type": "display_data"
    },
    {
     "data": {
      "text/plain": [
       "<matplotlib.figure.Figure at 0xf314048>"
      ]
     },
     "metadata": {},
     "output_type": "display_data"
    },
    {
     "data": {
      "text/plain": [
       "<matplotlib.figure.Figure at 0xf0e4710>"
      ]
     },
     "metadata": {},
     "output_type": "display_data"
    },
    {
     "data": {
      "text/plain": [
       "<matplotlib.figure.Figure at 0xec50ba8>"
      ]
     },
     "metadata": {},
     "output_type": "display_data"
    },
    {
     "data": {
      "text/plain": [
       "<matplotlib.figure.Figure at 0xee93be0>"
      ]
     },
     "metadata": {},
     "output_type": "display_data"
    },
    {
     "data": {
      "text/plain": [
       "<matplotlib.figure.Figure at 0xe41b7b8>"
      ]
     },
     "metadata": {},
     "output_type": "display_data"
    },
    {
     "data": {
      "text/plain": [
       "<matplotlib.figure.Figure at 0xde989b0>"
      ]
     },
     "metadata": {},
     "output_type": "display_data"
    },
    {
     "data": {
      "text/plain": [
       "<matplotlib.figure.Figure at 0xde98438>"
      ]
     },
     "metadata": {},
     "output_type": "display_data"
    },
    {
     "data": {
      "text/plain": [
       "<matplotlib.figure.Figure at 0xe1a8828>"
      ]
     },
     "metadata": {},
     "output_type": "display_data"
    },
    {
     "data": {
      "text/plain": [
       "<matplotlib.figure.Figure at 0xe047588>"
      ]
     },
     "metadata": {},
     "output_type": "display_data"
    },
    {
     "data": {
      "text/plain": [
       "<matplotlib.figure.Figure at 0xc7abc88>"
      ]
     },
     "metadata": {},
     "output_type": "display_data"
    },
    {
     "data": {
      "text/plain": [
       "<matplotlib.figure.Figure at 0xe6ba630>"
      ]
     },
     "metadata": {},
     "output_type": "display_data"
    },
    {
     "data": {
      "text/plain": [
       "<matplotlib.figure.Figure at 0xc37f940>"
      ]
     },
     "metadata": {},
     "output_type": "display_data"
    },
    {
     "data": {
      "text/plain": [
       "<matplotlib.figure.Figure at 0x10413470>"
      ]
     },
     "metadata": {},
     "output_type": "display_data"
    },
    {
     "data": {
      "text/plain": [
       "<matplotlib.figure.Figure at 0x10413e80>"
      ]
     },
     "metadata": {},
     "output_type": "display_data"
    },
    {
     "data": {
      "text/plain": [
       "<matplotlib.figure.Figure at 0xf0ee278>"
      ]
     },
     "metadata": {},
     "output_type": "display_data"
    },
    {
     "data": {
      "text/plain": [
       "<matplotlib.figure.Figure at 0xf0eed30>"
      ]
     },
     "metadata": {},
     "output_type": "display_data"
    }
   ],
   "source": [
    "radarplot(dSummary, -4000, 4000, 1000) #for skill\n",
    "#radarplot(dSummary, -1200, 1200, 600); # for knowledge"
   ]
  },
  {
   "cell_type": "code",
   "execution_count": 24,
   "metadata": {
    "collapsed": false
   },
   "outputs": [],
   "source": [
    "d = dOccupationScore\n",
    "d = d.reset_index()\n",
    "d.to_csv(DataDir + '04/score_Occupation.csv')"
   ]
  }
 ],
 "metadata": {
  "anaconda-cloud": {},
  "kernelspec": {
   "display_name": "Python [default]",
   "language": "python",
   "name": "python2"
  },
  "language_info": {
   "codemirror_mode": {
    "name": "ipython",
    "version": 2
   },
   "file_extension": ".py",
   "mimetype": "text/x-python",
   "name": "python",
   "nbconvert_exporter": "python",
   "pygments_lexer": "ipython2",
   "version": "2.7.12"
  }
 },
 "nbformat": 4,
 "nbformat_minor": 0
}
