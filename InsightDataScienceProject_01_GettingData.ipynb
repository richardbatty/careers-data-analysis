{
 "cells": [
  {
   "cell_type": "markdown",
   "metadata": {},
   "source": [
    "# Insight Data Science Consulting Project: 80,000 hours - Chapter 1"
   ]
  },
  {
   "cell_type": "markdown",
   "metadata": {},
   "source": [
    "Note: this is a part of a consulting project with [80,000 hours](https://80000hours.org/)."
   ]
  },
  {
   "cell_type": "markdown",
   "metadata": {},
   "source": [
    "## Stage 1: Ask a question\n",
    "\n",
    "My objective is to rank skills (and possibly knowledge, tools & tech) based on how valuable they are. The skills are listed by US Department of Labor [here](https://www.onetonline.org/find/descriptor/browse/Skills/2.B.1/).\n",
    "\n",
    "There is no performance measure for this rank yet since it is subjective. Yet in the future, one can create a poll to rate pairwise. "
   ]
  },
  {
   "cell_type": "markdown",
   "metadata": {},
   "source": [
    "## Stage 2: Set the environment up and get data"
   ]
  },
  {
   "cell_type": "markdown",
   "metadata": {},
   "source": [
    "First, set up a directory for data and link it to this workplace. Download data into your choice of directory. All data information is in the excel file ```DataDescription.xlsx```"
   ]
  },
  {
   "cell_type": "code",
   "execution_count": 1,
   "metadata": {
    "collapsed": false
   },
   "outputs": [],
   "source": [
    "#Set up the environment\n",
    "import pandas as pd                        #Pandas\n",
    "import numpy as np                         #Numpy\n",
    "import pycurl                              #For saving file from url\n",
    "import os                                  #For checking if a file exists\n",
    "from pandas.parser import CParserError     #For checking if a file contains a set of values\n",
    "import numbers\n",
    "import decimal\n",
    "\n",
    "# Set up data directory\n",
    "DataDir = \"C:/Users/Admin/Desktop/Insight/data/\""
   ]
  },
  {
   "cell_type": "markdown",
   "metadata": {},
   "source": [
    "### Stage 2.1: List of occupations according to O*NET database"
   ]
  },
  {
   "cell_type": "code",
   "execution_count": 3,
   "metadata": {
    "collapsed": false
   },
   "outputs": [],
   "source": [
    "#First read the list of occupation \n",
    "filename = \"All_Career_Clusters.csv\"\n",
    "df = pd.pandas.read_csv(DataDir+filename)"
   ]
  },
  {
   "cell_type": "code",
   "execution_count": 5,
   "metadata": {
    "collapsed": false
   },
   "outputs": [
    {
     "data": {
      "text/html": [
       "<div>\n",
       "<table border=\"1\" class=\"dataframe\">\n",
       "  <thead>\n",
       "    <tr style=\"text-align: right;\">\n",
       "      <th></th>\n",
       "      <th>Career Cluster</th>\n",
       "      <th>Career Pathway</th>\n",
       "      <th>Code</th>\n",
       "      <th>Occupation</th>\n",
       "    </tr>\n",
       "  </thead>\n",
       "  <tbody>\n",
       "    <tr>\n",
       "      <th>0</th>\n",
       "      <td>Agriculture, Food and Natural Resources</td>\n",
       "      <td>Agribusiness Systems</td>\n",
       "      <td>25-1041.00</td>\n",
       "      <td>Agricultural Sciences Teachers, Postsecondary</td>\n",
       "    </tr>\n",
       "    <tr>\n",
       "      <th>1</th>\n",
       "      <td>Agriculture, Food and Natural Resources</td>\n",
       "      <td>Agribusiness Systems</td>\n",
       "      <td>27-4011.00</td>\n",
       "      <td>Audio and Video Equipment Technicians</td>\n",
       "    </tr>\n",
       "    <tr>\n",
       "      <th>2</th>\n",
       "      <td>Agriculture, Food and Natural Resources</td>\n",
       "      <td>Agribusiness Systems</td>\n",
       "      <td>13-1021.00</td>\n",
       "      <td>Buyers and Purchasing Agents, Farm Products</td>\n",
       "    </tr>\n",
       "    <tr>\n",
       "      <th>3</th>\n",
       "      <td>Agriculture, Food and Natural Resources</td>\n",
       "      <td>Agribusiness Systems</td>\n",
       "      <td>25-9021.00</td>\n",
       "      <td>Farm and Home Management Advisors</td>\n",
       "    </tr>\n",
       "    <tr>\n",
       "      <th>4</th>\n",
       "      <td>Agriculture, Food and Natural Resources</td>\n",
       "      <td>Agribusiness Systems</td>\n",
       "      <td>13-1074.00</td>\n",
       "      <td>Farm Labor Contractors</td>\n",
       "    </tr>\n",
       "  </tbody>\n",
       "</table>\n",
       "</div>"
      ],
      "text/plain": [
       "                            Career Cluster        Career Pathway        Code  \\\n",
       "0  Agriculture, Food and Natural Resources  Agribusiness Systems  25-1041.00   \n",
       "1  Agriculture, Food and Natural Resources  Agribusiness Systems  27-4011.00   \n",
       "2  Agriculture, Food and Natural Resources  Agribusiness Systems  13-1021.00   \n",
       "3  Agriculture, Food and Natural Resources  Agribusiness Systems  25-9021.00   \n",
       "4  Agriculture, Food and Natural Resources  Agribusiness Systems  13-1074.00   \n",
       "\n",
       "                                      Occupation  \n",
       "0  Agricultural Sciences Teachers, Postsecondary  \n",
       "1          Audio and Video Equipment Technicians  \n",
       "2    Buyers and Purchasing Agents, Farm Products  \n",
       "3              Farm and Home Management Advisors  \n",
       "4                         Farm Labor Contractors  "
      ]
     },
     "execution_count": 5,
     "metadata": {},
     "output_type": "execute_result"
    }
   ],
   "source": [
    "df.head()"
   ]
  },
  {
   "cell_type": "code",
   "execution_count": 6,
   "metadata": {
    "collapsed": false
   },
   "outputs": [
    {
     "data": {
      "text/plain": [
       "1847"
      ]
     },
     "execution_count": 6,
     "metadata": {},
     "output_type": "execute_result"
    }
   ],
   "source": [
    "len(df)"
   ]
  },
  {
   "cell_type": "markdown",
   "metadata": {},
   "source": [
    "We will use the column \"Code\" as a way to extract information about skills and Job zone (and knowledges, tools and technology) for each occupation. Note that this code is a decimal system. We will see later than there is one without decimals."
   ]
  },
  {
   "cell_type": "code",
   "execution_count": 7,
   "metadata": {
    "collapsed": false
   },
   "outputs": [],
   "source": [
    "CodeList = list(df.Code)"
   ]
  },
  {
   "cell_type": "markdown",
   "metadata": {},
   "source": [
    "### Stage 2.2: Extract individual files from O*NET website"
   ]
  },
  {
   "cell_type": "code",
   "execution_count": 33,
   "metadata": {
    "collapsed": false
   },
   "outputs": [],
   "source": [
    "#Tools and technology\n",
    "head = \"https://www.onetonline.org/link/table/details/tt/\"\n",
    "body = \"/Tools_Technology_\"\n",
    "tail = \".csv?fmt=csv&s=s\"\n",
    "\n",
    "for i in range(0,len(CodeList)):\n",
    "    name = CodeList[i][0:7] + \"-\" + CodeList[i][8:10]\n",
    "    url = head + CodeList[i] + body + name + tail\n",
    "    # As long as the file is opened in binary mode, both Python 2 and Python 3\n",
    "    # can write response body to it without decoding.\n",
    "    with open(DataDir + '/Tools_Technology/Tools_Technology_' + name +'.csv', 'wb') as f:\n",
    "        c = pycurl.Curl()\n",
    "        c.setopt(c.URL, url)\n",
    "        c.setopt(c.WRITEDATA, f)\n",
    "        c.perform()\n",
    "        c.close()"
   ]
  },
  {
   "cell_type": "code",
   "execution_count": 37,
   "metadata": {
    "collapsed": false
   },
   "outputs": [],
   "source": [
    "# Knowledge\n",
    "head = \"https://www.onetonline.org/link/table/details/kn/\"\n",
    "body = \"/Knowledge_\"\n",
    "tail = \".csv?fmt=csv&s=IM&t=-10\"\n",
    "\n",
    "for i in range(0,len(CodeList)):\n",
    "    name = CodeList[i][0:7] + \"-\" + CodeList[i][8:10]\n",
    "    url = head + CodeList[i] + body + name + tail\n",
    "    # As long as the file is opened in binary mode, both Python 2 and Python 3\n",
    "    # can write response body to it without decoding.\n",
    "    with open(DataDir + '/Knowledge/Knowledge_' + name +'.csv', 'wb') as f:\n",
    "        c = pycurl.Curl()\n",
    "        c.setopt(c.URL, url)\n",
    "        c.setopt(c.WRITEDATA, f)\n",
    "        c.perform()\n",
    "        c.close()"
   ]
  },
  {
   "cell_type": "code",
   "execution_count": 38,
   "metadata": {
    "collapsed": true
   },
   "outputs": [],
   "source": [
    "# Skills\n",
    "head = \"https://www.onetonline.org/link/table/details/sk/\"\n",
    "body = \"/Skills_\"\n",
    "tail = \".csv?fmt=csv&s=IM&t=-10\"\n",
    "\n",
    "for i in range(0,len(CodeList)):\n",
    "    name = CodeList[i][0:7] + \"-\" + CodeList[i][8:10]\n",
    "    url = head + CodeList[i] + body + name + tail\n",
    "    # As long as the file is opened in binary mode, both Python 2 and Python 3\n",
    "    # can write response body to it without decoding.\n",
    "    with open(DataDir + '/Skills/Skills_' + name +'.csv', 'wb') as f:\n",
    "        c = pycurl.Curl()\n",
    "        c.setopt(c.URL, url)\n",
    "        c.setopt(c.WRITEDATA, f)\n",
    "        c.perform()\n",
    "        c.close()"
   ]
  },
  {
   "cell_type": "code",
   "execution_count": 39,
   "metadata": {
    "collapsed": true
   },
   "outputs": [],
   "source": [
    "# Job zone\n",
    "head = \"https://www.onetonline.org/link/table/details/jz/\"\n",
    "body = \"/Job_Zone_\"\n",
    "tail = \".csv?fmt=csv\"\n",
    "\n",
    "for i in range(0,len(CodeList)):\n",
    "    name = CodeList[i][0:7] + \"-\" + CodeList[i][8:10]\n",
    "    url = head + CodeList[i] + body + name + tail\n",
    "    # As long as the file is opened in binary mode, both Python 2 and Python 3\n",
    "    # can write response body to it without decoding.\n",
    "    with open(DataDir + '/Job_Zone/Job_Zone_' + name +'.csv', 'wb') as f:\n",
    "        c = pycurl.Curl()\n",
    "        c.setopt(c.URL, url)\n",
    "        c.setopt(c.WRITEDATA, f)\n",
    "        c.perform()\n",
    "        c.close()"
   ]
  },
  {
   "cell_type": "markdown",
   "metadata": {},
   "source": [
    "We found that there are only 1,085 files in each folder. This is because some occupations has no values yet. Let's get a new CodeList. We can check just one folder."
   ]
  },
  {
   "cell_type": "code",
   "execution_count": 63,
   "metadata": {
    "collapsed": true
   },
   "outputs": [],
   "source": [
    "TrueCodeList = []\n",
    "for i in range(0,len(CodeList)):\n",
    "    name = CodeList[i][0:7] + \"-\" + CodeList[i][8:10]\n",
    "    fname = DataDir + '/Skills/Skills_' + name +'.csv'\n",
    "    if os.path.isfile(fname):\n",
    "        TrueCodeList = TrueCodeList + [CodeList[i]]"
   ]
  },
  {
   "cell_type": "code",
   "execution_count": 66,
   "metadata": {
    "collapsed": false
   },
   "outputs": [
    {
     "data": {
      "text/plain": [
       "(1847, 1847)"
      ]
     },
     "execution_count": 66,
     "metadata": {},
     "output_type": "execute_result"
    }
   ],
   "source": [
    "len(CodeList), len(TrueCodeList)"
   ]
  },
  {
   "cell_type": "code",
   "execution_count": 70,
   "metadata": {
    "collapsed": false
   },
   "outputs": [],
   "source": [
    "CodeList = TrueCodeList"
   ]
  },
  {
   "cell_type": "markdown",
   "metadata": {},
   "source": [
    "Not sure why the code list still has a same length. It is fine as long as it has no error messages later."
   ]
  },
  {
   "cell_type": "markdown",
   "metadata": {},
   "source": [
    "### Stage 2.3: Construct tables of features (Skills)"
   ]
  },
  {
   "cell_type": "markdown",
   "metadata": {},
   "source": [
    "First, let's look at **Skills**. It turns out the list is always fixed. We can turn it into a data table easily."
   ]
  },
  {
   "cell_type": "code",
   "execution_count": 30,
   "metadata": {
    "collapsed": true
   },
   "outputs": [],
   "source": [
    "#Get the list of skills from the first file\n",
    "i=0\n",
    "name = CodeList[i][0:7] + \"-\" + CodeList[i][8:10]\n",
    "dsmall = pd.read_csv(DataDir + '/Skills/Skills_' + name +'.csv')\n",
    "dsmall = dsmall.sort_values(by=['Skill'])"
   ]
  },
  {
   "cell_type": "code",
   "execution_count": 31,
   "metadata": {
    "collapsed": true
   },
   "outputs": [],
   "source": [
    "dSkill = pd.DataFrame(columns = ['SOC code']+list(dsmall['Skill']))"
   ]
  },
  {
   "cell_type": "markdown",
   "metadata": {},
   "source": [
    "Let's make a loop"
   ]
  },
  {
   "cell_type": "code",
   "execution_count": 32,
   "metadata": {
    "collapsed": false
   },
   "outputs": [],
   "source": [
    "count = 0\n",
    "for i in range(0,len(CodeList)):\n",
    "    name = CodeList[i][0:7] + \"-\" + CodeList[i][8:10]\n",
    "    try:\n",
    "        dsmall = pd.read_csv(DataDir + '/Skills/Skills_' + name +'.csv')\n",
    "    except CParserError as exception: \n",
    "        count = count + 1\n",
    "    else:\n",
    "        dsmall = dsmall.sort_values(by=['Skill'])\n",
    "        dSkill.loc[i,:] = [CodeList[i]] + list(dsmall['Importance'])"
   ]
  },
  {
   "cell_type": "code",
   "execution_count": 33,
   "metadata": {
    "collapsed": false
   },
   "outputs": [
    {
     "data": {
      "text/plain": [
       "(1621, 226)"
      ]
     },
     "execution_count": 33,
     "metadata": {},
     "output_type": "execute_result"
    }
   ],
   "source": [
    "len(dSkill),count"
   ]
  },
  {
   "cell_type": "markdown",
   "metadata": {},
   "source": [
    "This occurred because some occupation do not have such data. So it gives a weird HTML file instead."
   ]
  },
  {
   "cell_type": "code",
   "execution_count": 34,
   "metadata": {
    "collapsed": false
   },
   "outputs": [
    {
     "data": {
      "text/html": [
       "<div>\n",
       "<table border=\"1\" class=\"dataframe\">\n",
       "  <thead>\n",
       "    <tr style=\"text-align: right;\">\n",
       "      <th></th>\n",
       "      <th>SOC code</th>\n",
       "      <th>Active Learning</th>\n",
       "      <th>Active Listening</th>\n",
       "      <th>Complex Problem Solving</th>\n",
       "      <th>Coordination</th>\n",
       "      <th>Critical Thinking</th>\n",
       "      <th>Equipment Maintenance</th>\n",
       "      <th>Equipment Selection</th>\n",
       "      <th>Installation</th>\n",
       "      <th>Instructing</th>\n",
       "      <th>...</th>\n",
       "      <th>Science</th>\n",
       "      <th>Service Orientation</th>\n",
       "      <th>Social Perceptiveness</th>\n",
       "      <th>Speaking</th>\n",
       "      <th>Systems Analysis</th>\n",
       "      <th>Systems Evaluation</th>\n",
       "      <th>Technology Design</th>\n",
       "      <th>Time Management</th>\n",
       "      <th>Troubleshooting</th>\n",
       "      <th>Writing</th>\n",
       "    </tr>\n",
       "  </thead>\n",
       "  <tbody>\n",
       "    <tr>\n",
       "      <th>0</th>\n",
       "      <td>25-1041.00</td>\n",
       "      <td>75</td>\n",
       "      <td>78</td>\n",
       "      <td>66</td>\n",
       "      <td>66</td>\n",
       "      <td>72</td>\n",
       "      <td>0</td>\n",
       "      <td>3</td>\n",
       "      <td>0</td>\n",
       "      <td>88</td>\n",
       "      <td>...</td>\n",
       "      <td>56</td>\n",
       "      <td>50</td>\n",
       "      <td>56</td>\n",
       "      <td>85</td>\n",
       "      <td>47</td>\n",
       "      <td>53</td>\n",
       "      <td>13</td>\n",
       "      <td>66</td>\n",
       "      <td>19</td>\n",
       "      <td>75</td>\n",
       "    </tr>\n",
       "    <tr>\n",
       "      <th>1</th>\n",
       "      <td>27-4011.00</td>\n",
       "      <td>47</td>\n",
       "      <td>60</td>\n",
       "      <td>53</td>\n",
       "      <td>53</td>\n",
       "      <td>63</td>\n",
       "      <td>31</td>\n",
       "      <td>41</td>\n",
       "      <td>38</td>\n",
       "      <td>50</td>\n",
       "      <td>...</td>\n",
       "      <td>3</td>\n",
       "      <td>50</td>\n",
       "      <td>50</td>\n",
       "      <td>56</td>\n",
       "      <td>44</td>\n",
       "      <td>47</td>\n",
       "      <td>28</td>\n",
       "      <td>50</td>\n",
       "      <td>47</td>\n",
       "      <td>60</td>\n",
       "    </tr>\n",
       "    <tr>\n",
       "      <th>2</th>\n",
       "      <td>13-1021.00</td>\n",
       "      <td>53</td>\n",
       "      <td>69</td>\n",
       "      <td>56</td>\n",
       "      <td>53</td>\n",
       "      <td>72</td>\n",
       "      <td>0</td>\n",
       "      <td>0</td>\n",
       "      <td>0</td>\n",
       "      <td>38</td>\n",
       "      <td>...</td>\n",
       "      <td>16</td>\n",
       "      <td>50</td>\n",
       "      <td>53</td>\n",
       "      <td>72</td>\n",
       "      <td>50</td>\n",
       "      <td>41</td>\n",
       "      <td>19</td>\n",
       "      <td>53</td>\n",
       "      <td>16</td>\n",
       "      <td>53</td>\n",
       "    </tr>\n",
       "    <tr>\n",
       "      <th>3</th>\n",
       "      <td>25-9021.00</td>\n",
       "      <td>72</td>\n",
       "      <td>88</td>\n",
       "      <td>72</td>\n",
       "      <td>72</td>\n",
       "      <td>69</td>\n",
       "      <td>0</td>\n",
       "      <td>3</td>\n",
       "      <td>0</td>\n",
       "      <td>72</td>\n",
       "      <td>...</td>\n",
       "      <td>44</td>\n",
       "      <td>72</td>\n",
       "      <td>69</td>\n",
       "      <td>78</td>\n",
       "      <td>66</td>\n",
       "      <td>66</td>\n",
       "      <td>25</td>\n",
       "      <td>66</td>\n",
       "      <td>3</td>\n",
       "      <td>72</td>\n",
       "    </tr>\n",
       "    <tr>\n",
       "      <th>4</th>\n",
       "      <td>13-1074.00</td>\n",
       "      <td>35</td>\n",
       "      <td>60</td>\n",
       "      <td>44</td>\n",
       "      <td>50</td>\n",
       "      <td>50</td>\n",
       "      <td>0</td>\n",
       "      <td>3</td>\n",
       "      <td>0</td>\n",
       "      <td>41</td>\n",
       "      <td>...</td>\n",
       "      <td>6</td>\n",
       "      <td>41</td>\n",
       "      <td>50</td>\n",
       "      <td>63</td>\n",
       "      <td>28</td>\n",
       "      <td>22</td>\n",
       "      <td>0</td>\n",
       "      <td>53</td>\n",
       "      <td>19</td>\n",
       "      <td>44</td>\n",
       "    </tr>\n",
       "  </tbody>\n",
       "</table>\n",
       "<p>5 rows × 36 columns</p>\n",
       "</div>"
      ],
      "text/plain": [
       "     SOC code Active Learning Active Listening Complex Problem Solving  \\\n",
       "0  25-1041.00              75               78                      66   \n",
       "1  27-4011.00              47               60                      53   \n",
       "2  13-1021.00              53               69                      56   \n",
       "3  25-9021.00              72               88                      72   \n",
       "4  13-1074.00              35               60                      44   \n",
       "\n",
       "  Coordination Critical Thinking Equipment Maintenance Equipment Selection  \\\n",
       "0           66                72                     0                   3   \n",
       "1           53                63                    31                  41   \n",
       "2           53                72                     0                   0   \n",
       "3           72                69                     0                   3   \n",
       "4           50                50                     0                   3   \n",
       "\n",
       "  Installation Instructing   ...   Science Service Orientation  \\\n",
       "0            0          88   ...        56                  50   \n",
       "1           38          50   ...         3                  50   \n",
       "2            0          38   ...        16                  50   \n",
       "3            0          72   ...        44                  72   \n",
       "4            0          41   ...         6                  41   \n",
       "\n",
       "  Social Perceptiveness Speaking Systems Analysis Systems Evaluation  \\\n",
       "0                    56       85               47                 53   \n",
       "1                    50       56               44                 47   \n",
       "2                    53       72               50                 41   \n",
       "3                    69       78               66                 66   \n",
       "4                    50       63               28                 22   \n",
       "\n",
       "  Technology Design Time Management Troubleshooting Writing  \n",
       "0                13              66              19      75  \n",
       "1                28              50              47      60  \n",
       "2                19              53              16      53  \n",
       "3                25              66               3      72  \n",
       "4                 0              53              19      44  \n",
       "\n",
       "[5 rows x 36 columns]"
      ]
     },
     "execution_count": 34,
     "metadata": {},
     "output_type": "execute_result"
    }
   ],
   "source": [
    "dSkill.head()"
   ]
  },
  {
   "cell_type": "code",
   "execution_count": 35,
   "metadata": {
    "collapsed": false
   },
   "outputs": [],
   "source": [
    "#Sort and remove redundant rows\n",
    "dSkill = dSkill.sort_values(by=['SOC code'])\n",
    "dSkill = dSkill.drop_duplicates()"
   ]
  },
  {
   "cell_type": "code",
   "execution_count": 36,
   "metadata": {
    "collapsed": true
   },
   "outputs": [],
   "source": [
    "dSkill.to_csv(DataDir + 'dSkill.csv')"
   ]
  },
  {
   "cell_type": "markdown",
   "metadata": {},
   "source": [
    "### Stage 2.4: Construct tables of outcomes (Job Zone)"
   ]
  },
  {
   "cell_type": "markdown",
   "metadata": {},
   "source": [
    "Next, let's look at **Job Zone**."
   ]
  },
  {
   "cell_type": "code",
   "execution_count": 9,
   "metadata": {
    "collapsed": true
   },
   "outputs": [],
   "source": [
    "dJobZone = pd.DataFrame(columns = ['SOC code','JobZoneTitle','JobZoneSVPRange'])"
   ]
  },
  {
   "cell_type": "code",
   "execution_count": 10,
   "metadata": {
    "collapsed": true
   },
   "outputs": [],
   "source": [
    "count = 0\n",
    "for i in range(0,len(CodeList)):\n",
    "    name = CodeList[i][0:7] + \"-\" + CodeList[i][8:10]\n",
    "    try:\n",
    "        dsmall = pd.read_csv(DataDir + '/Job_Zone/Job_Zone_' + name +'.csv')\n",
    "    except CParserError as exception: \n",
    "        count = count + 1\n",
    "    else:\n",
    "        dJobZone.loc[i,'SOC code'] = CodeList[i]\n",
    "        dJobZone.loc[i,'JobZoneTitle'] = dsmall.loc[0, 'Description']\n",
    "        dJobZone.loc[i,'JobZoneSVPRange'] = dsmall.loc[5, 'Description']\n",
    "        "
   ]
  },
  {
   "cell_type": "code",
   "execution_count": 11,
   "metadata": {
    "collapsed": false
   },
   "outputs": [
    {
     "data": {
      "text/plain": [
       "(1623, 224)"
      ]
     },
     "execution_count": 11,
     "metadata": {},
     "output_type": "execute_result"
    }
   ],
   "source": [
    "len(dJobZone), count"
   ]
  },
  {
   "cell_type": "code",
   "execution_count": 12,
   "metadata": {
    "collapsed": false
   },
   "outputs": [
    {
     "data": {
      "text/html": [
       "<div>\n",
       "<table border=\"1\" class=\"dataframe\">\n",
       "  <thead>\n",
       "    <tr style=\"text-align: right;\">\n",
       "      <th></th>\n",
       "      <th>SOC code</th>\n",
       "      <th>JobZoneTitle</th>\n",
       "      <th>JobZoneSVPRange</th>\n",
       "    </tr>\n",
       "  </thead>\n",
       "  <tbody>\n",
       "    <tr>\n",
       "      <th>0</th>\n",
       "      <td>25-1041.00</td>\n",
       "      <td>Job Zone Five: Extensive Preparation Needed</td>\n",
       "      <td>(8.0 and above)</td>\n",
       "    </tr>\n",
       "    <tr>\n",
       "      <th>1</th>\n",
       "      <td>27-4011.00</td>\n",
       "      <td>Job Zone Three: Medium Preparation Needed</td>\n",
       "      <td>(6.0 to &lt; 7.0)</td>\n",
       "    </tr>\n",
       "    <tr>\n",
       "      <th>2</th>\n",
       "      <td>13-1021.00</td>\n",
       "      <td>Job Zone Four: Considerable Preparation Needed</td>\n",
       "      <td>(7.0 to &lt; 8.0)</td>\n",
       "    </tr>\n",
       "    <tr>\n",
       "      <th>3</th>\n",
       "      <td>25-9021.00</td>\n",
       "      <td>Job Zone Five: Extensive Preparation Needed</td>\n",
       "      <td>(8.0 and above)</td>\n",
       "    </tr>\n",
       "    <tr>\n",
       "      <th>4</th>\n",
       "      <td>13-1074.00</td>\n",
       "      <td>Job Zone Two: Some Preparation Needed</td>\n",
       "      <td>(4.0 to &lt; 6.0)</td>\n",
       "    </tr>\n",
       "  </tbody>\n",
       "</table>\n",
       "</div>"
      ],
      "text/plain": [
       "     SOC code                                    JobZoneTitle  JobZoneSVPRange\n",
       "0  25-1041.00     Job Zone Five: Extensive Preparation Needed  (8.0 and above)\n",
       "1  27-4011.00       Job Zone Three: Medium Preparation Needed   (6.0 to < 7.0)\n",
       "2  13-1021.00  Job Zone Four: Considerable Preparation Needed   (7.0 to < 8.0)\n",
       "3  25-9021.00     Job Zone Five: Extensive Preparation Needed  (8.0 and above)\n",
       "4  13-1074.00           Job Zone Two: Some Preparation Needed   (4.0 to < 6.0)"
      ]
     },
     "execution_count": 12,
     "metadata": {},
     "output_type": "execute_result"
    }
   ],
   "source": [
    "dJobZone[:5]"
   ]
  },
  {
   "cell_type": "code",
   "execution_count": 13,
   "metadata": {
    "collapsed": false
   },
   "outputs": [
    {
     "data": {
      "text/plain": [
       "{'(4.0 to < 6.0)',\n",
       " '(6.0 to < 7.0)',\n",
       " '(7.0 to < 8.0)',\n",
       " '(8.0 and above)',\n",
       " '(Below 4.0)'}"
      ]
     },
     "execution_count": 13,
     "metadata": {},
     "output_type": "execute_result"
    }
   ],
   "source": [
    "set(dJobZone.JobZoneSVPRange)"
   ]
  },
  {
   "cell_type": "markdown",
   "metadata": {},
   "source": [
    "Let's encode this into number."
   ]
  },
  {
   "cell_type": "code",
   "execution_count": 14,
   "metadata": {
    "collapsed": false
   },
   "outputs": [],
   "source": [
    "dJobZone['JobZone'] = 0\n",
    "for i in dJobZone.index:\n",
    "    if dJobZone.loc[i,'JobZoneSVPRange'] == '(Below 4.0)':\n",
    "        dJobZone.loc[i,'JobZone'] = 1\n",
    "    elif dJobZone.loc[i,'JobZoneSVPRange'] == '(4.0 to < 6.0)':\n",
    "        dJobZone.loc[i,'JobZone'] = 2\n",
    "    elif dJobZone.loc[i,'JobZoneSVPRange'] == '(6.0 to < 7.0)':\n",
    "        dJobZone.loc[i,'JobZone'] = 3\n",
    "    elif dJobZone.loc[i,'JobZoneSVPRange'] == '(7.0 to < 8.0)':\n",
    "        dJobZone.loc[i,'JobZone'] = 4\n",
    "    else:\n",
    "        dJobZone.loc[i,'JobZone'] = 5"
   ]
  },
  {
   "cell_type": "code",
   "execution_count": 15,
   "metadata": {
    "collapsed": false
   },
   "outputs": [],
   "source": [
    "dJobZone = dJobZone[['SOC code','JobZone']]\n",
    "dJobZone = dJobZone.drop_duplicates()"
   ]
  },
  {
   "cell_type": "code",
   "execution_count": 16,
   "metadata": {
    "collapsed": false
   },
   "outputs": [],
   "source": [
    "dJobZone = dJobZone.sort_values(by=['SOC code'])\n",
    "dJobZone.to_csv(DataDir + 'dJobZone.csv')"
   ]
  },
  {
   "cell_type": "markdown",
   "metadata": {},
   "source": [
    "### Stage 2.5: Construct tables of features (Knowledge)"
   ]
  },
  {
   "cell_type": "markdown",
   "metadata": {},
   "source": [
    "Next, let's look at **Knowledge**. The length is somewhat fixed (33). There are some exceptions (32). There are two such cases. Replace the missing values with zero."
   ]
  },
  {
   "cell_type": "code",
   "execution_count": 42,
   "metadata": {
    "collapsed": true
   },
   "outputs": [],
   "source": [
    "#Get the list of skills from the first file\n",
    "i=0\n",
    "name = CodeList[i][0:7] + \"-\" + CodeList[i][8:10]\n",
    "dsmall = pd.read_csv(DataDir + '/Knowledge/Knowledge_' + name +'.csv')\n",
    "dsmall = dsmall.sort_values(by=['Knowledge'])"
   ]
  },
  {
   "cell_type": "code",
   "execution_count": 45,
   "metadata": {
    "collapsed": false
   },
   "outputs": [],
   "source": [
    "dKnowledge = pd.DataFrame(columns = ['SOC code']+list(dsmall['Knowledge']))"
   ]
  },
  {
   "cell_type": "code",
   "execution_count": 46,
   "metadata": {
    "collapsed": false
   },
   "outputs": [],
   "source": [
    "count = 0\n",
    "l = [item for item in range(0,len(CodeList)) if item not in [311,1298]]\n",
    "for i in l:\n",
    "    name = CodeList[i][0:7] + \"-\" + CodeList[i][8:10]\n",
    "    try:\n",
    "        dsmall = pd.read_csv(DataDir + '/Knowledge/Knowledge_' + name +'.csv')\n",
    "    except CParserError as exception: \n",
    "        count = count + 1\n",
    "    else:\n",
    "        dsmall = dsmall.sort_values(by=['Knowledge'])\n",
    "        dKnowledge.loc[i,:] = [CodeList[i]] + list(dsmall['Importance'])\n",
    "for i in [311,1298]:\n",
    "    name = CodeList[i][0:7] + \"-\" + CodeList[i][8:10]\n",
    "    dsmall = pd.read_csv(DataDir + '/Knowledge/Knowledge_' + name +'.csv')\n",
    "    dKnowledge.loc[i,:] = 0\n",
    "    dKnowledge.loc[i,'SOC code'] = CodeList[i]\n",
    "    for j in range(0,len(dsmall)):\n",
    "        dKnowledge.loc[i,dsmall.loc[j,'Knowledge']] = dsmall.loc[j,'Importance']"
   ]
  },
  {
   "cell_type": "code",
   "execution_count": 47,
   "metadata": {
    "collapsed": false
   },
   "outputs": [
    {
     "data": {
      "text/plain": [
       "(1621, 226)"
      ]
     },
     "execution_count": 47,
     "metadata": {},
     "output_type": "execute_result"
    }
   ],
   "source": [
    "len(dKnowledge), count"
   ]
  },
  {
   "cell_type": "code",
   "execution_count": 48,
   "metadata": {
    "collapsed": false
   },
   "outputs": [
    {
     "data": {
      "text/html": [
       "<div>\n",
       "<table border=\"1\" class=\"dataframe\">\n",
       "  <thead>\n",
       "    <tr style=\"text-align: right;\">\n",
       "      <th></th>\n",
       "      <th>SOC code</th>\n",
       "      <th>Administration and Management</th>\n",
       "      <th>Biology</th>\n",
       "      <th>Building and Construction</th>\n",
       "      <th>Chemistry</th>\n",
       "      <th>Clerical</th>\n",
       "      <th>Communications and Media</th>\n",
       "      <th>Computers and Electronics</th>\n",
       "      <th>Customer and Personal Service</th>\n",
       "      <th>Design</th>\n",
       "      <th>...</th>\n",
       "      <th>Philosophy and Theology</th>\n",
       "      <th>Physics</th>\n",
       "      <th>Production and Processing</th>\n",
       "      <th>Psychology</th>\n",
       "      <th>Public Safety and Security</th>\n",
       "      <th>Sales and Marketing</th>\n",
       "      <th>Sociology and Anthropology</th>\n",
       "      <th>Telecommunications</th>\n",
       "      <th>Therapy and Counseling</th>\n",
       "      <th>Transportation</th>\n",
       "    </tr>\n",
       "  </thead>\n",
       "  <tbody>\n",
       "    <tr>\n",
       "      <th>0</th>\n",
       "      <td>25-1041.00</td>\n",
       "      <td>52</td>\n",
       "      <td>82</td>\n",
       "      <td>17</td>\n",
       "      <td>41</td>\n",
       "      <td>32</td>\n",
       "      <td>48</td>\n",
       "      <td>66</td>\n",
       "      <td>55</td>\n",
       "      <td>26</td>\n",
       "      <td>...</td>\n",
       "      <td>16</td>\n",
       "      <td>21</td>\n",
       "      <td>15</td>\n",
       "      <td>44</td>\n",
       "      <td>39</td>\n",
       "      <td>37</td>\n",
       "      <td>26</td>\n",
       "      <td>24</td>\n",
       "      <td>21</td>\n",
       "      <td>33</td>\n",
       "    </tr>\n",
       "    <tr>\n",
       "      <th>1</th>\n",
       "      <td>27-4011.00</td>\n",
       "      <td>32</td>\n",
       "      <td>2</td>\n",
       "      <td>12</td>\n",
       "      <td>10</td>\n",
       "      <td>29</td>\n",
       "      <td>77</td>\n",
       "      <td>78</td>\n",
       "      <td>61</td>\n",
       "      <td>37</td>\n",
       "      <td>...</td>\n",
       "      <td>15</td>\n",
       "      <td>12</td>\n",
       "      <td>48</td>\n",
       "      <td>28</td>\n",
       "      <td>31</td>\n",
       "      <td>18</td>\n",
       "      <td>17</td>\n",
       "      <td>73</td>\n",
       "      <td>6</td>\n",
       "      <td>17</td>\n",
       "    </tr>\n",
       "    <tr>\n",
       "      <th>2</th>\n",
       "      <td>13-1021.00</td>\n",
       "      <td>64</td>\n",
       "      <td>25</td>\n",
       "      <td>24</td>\n",
       "      <td>14</td>\n",
       "      <td>42</td>\n",
       "      <td>34</td>\n",
       "      <td>65</td>\n",
       "      <td>73</td>\n",
       "      <td>28</td>\n",
       "      <td>...</td>\n",
       "      <td>5</td>\n",
       "      <td>14</td>\n",
       "      <td>56</td>\n",
       "      <td>30</td>\n",
       "      <td>52</td>\n",
       "      <td>67</td>\n",
       "      <td>18</td>\n",
       "      <td>40</td>\n",
       "      <td>11</td>\n",
       "      <td>73</td>\n",
       "    </tr>\n",
       "    <tr>\n",
       "      <th>3</th>\n",
       "      <td>25-9021.00</td>\n",
       "      <td>63</td>\n",
       "      <td>72</td>\n",
       "      <td>15</td>\n",
       "      <td>55</td>\n",
       "      <td>52</td>\n",
       "      <td>69</td>\n",
       "      <td>57</td>\n",
       "      <td>76</td>\n",
       "      <td>24</td>\n",
       "      <td>...</td>\n",
       "      <td>24</td>\n",
       "      <td>21</td>\n",
       "      <td>23</td>\n",
       "      <td>51</td>\n",
       "      <td>42</td>\n",
       "      <td>39</td>\n",
       "      <td>46</td>\n",
       "      <td>30</td>\n",
       "      <td>29</td>\n",
       "      <td>25</td>\n",
       "    </tr>\n",
       "    <tr>\n",
       "      <th>4</th>\n",
       "      <td>13-1074.00</td>\n",
       "      <td>46</td>\n",
       "      <td>16</td>\n",
       "      <td>6</td>\n",
       "      <td>12</td>\n",
       "      <td>37</td>\n",
       "      <td>33</td>\n",
       "      <td>38</td>\n",
       "      <td>50</td>\n",
       "      <td>6</td>\n",
       "      <td>...</td>\n",
       "      <td>5</td>\n",
       "      <td>5</td>\n",
       "      <td>56</td>\n",
       "      <td>22</td>\n",
       "      <td>44</td>\n",
       "      <td>10</td>\n",
       "      <td>15</td>\n",
       "      <td>37</td>\n",
       "      <td>22</td>\n",
       "      <td>34</td>\n",
       "    </tr>\n",
       "  </tbody>\n",
       "</table>\n",
       "<p>5 rows × 34 columns</p>\n",
       "</div>"
      ],
      "text/plain": [
       "     SOC code Administration and Management Biology Building and Construction  \\\n",
       "0  25-1041.00                            52      82                        17   \n",
       "1  27-4011.00                            32       2                        12   \n",
       "2  13-1021.00                            64      25                        24   \n",
       "3  25-9021.00                            63      72                        15   \n",
       "4  13-1074.00                            46      16                         6   \n",
       "\n",
       "  Chemistry Clerical Communications and Media Computers and Electronics  \\\n",
       "0        41       32                       48                        66   \n",
       "1        10       29                       77                        78   \n",
       "2        14       42                       34                        65   \n",
       "3        55       52                       69                        57   \n",
       "4        12       37                       33                        38   \n",
       "\n",
       "  Customer and Personal Service Design      ...       Philosophy and Theology  \\\n",
       "0                            55     26      ...                            16   \n",
       "1                            61     37      ...                            15   \n",
       "2                            73     28      ...                             5   \n",
       "3                            76     24      ...                            24   \n",
       "4                            50      6      ...                             5   \n",
       "\n",
       "  Physics Production and Processing Psychology Public Safety and Security  \\\n",
       "0      21                        15         44                         39   \n",
       "1      12                        48         28                         31   \n",
       "2      14                        56         30                         52   \n",
       "3      21                        23         51                         42   \n",
       "4       5                        56         22                         44   \n",
       "\n",
       "  Sales and Marketing Sociology and Anthropology Telecommunications  \\\n",
       "0                  37                         26                 24   \n",
       "1                  18                         17                 73   \n",
       "2                  67                         18                 40   \n",
       "3                  39                         46                 30   \n",
       "4                  10                         15                 37   \n",
       "\n",
       "  Therapy and Counseling Transportation  \n",
       "0                     21             33  \n",
       "1                      6             17  \n",
       "2                     11             73  \n",
       "3                     29             25  \n",
       "4                     22             34  \n",
       "\n",
       "[5 rows x 34 columns]"
      ]
     },
     "execution_count": 48,
     "metadata": {},
     "output_type": "execute_result"
    }
   ],
   "source": [
    "dKnowledge.head()"
   ]
  },
  {
   "cell_type": "code",
   "execution_count": 49,
   "metadata": {
    "collapsed": true
   },
   "outputs": [],
   "source": [
    "#Sort and remove redundant rows\n",
    "dKnowledge = dKnowledge.sort_values(by=['SOC code'])\n",
    "dKnowledge = dKnowledge.drop_duplicates()"
   ]
  },
  {
   "cell_type": "code",
   "execution_count": 50,
   "metadata": {
    "collapsed": false
   },
   "outputs": [],
   "source": [
    "dKnowledge.to_csv(DataDir + 'dKnowledge.csv')"
   ]
  },
  {
   "cell_type": "markdown",
   "metadata": {},
   "source": [
    "### Stage 2.6: Found that Tools and technology is too large to take into account."
   ]
  },
  {
   "cell_type": "markdown",
   "metadata": {},
   "source": [
    "Finally, let's look at **tools and technology**."
   ]
  },
  {
   "cell_type": "code",
   "execution_count": 228,
   "metadata": {
    "collapsed": false
   },
   "outputs": [
    {
     "data": {
      "text/plain": [
       "4279"
      ]
     },
     "execution_count": 228,
     "metadata": {},
     "output_type": "execute_result"
    }
   ],
   "source": [
    "TechnologyList = []\n",
    "count = 0\n",
    "for i in range(0,len(CodeList)):\n",
    "    name = CodeList[i][0:7] + \"-\" + CodeList[i][8:10]\n",
    "    try:\n",
    "        dsmall = pd.read_csv(DataDir + '/Tools_Technology/Tools_Technology_'+ name +'.csv')\n",
    "    except CParserError as exception: \n",
    "        count = count + 1\n",
    "    else:\n",
    "        TechnologyList = list(set(TechnologyList + list(dsmall.Category)))\n",
    "len(TechnologyList)"
   ]
  },
  {
   "cell_type": "markdown",
   "metadata": {},
   "source": [
    "There are too many technologies. Not quite useful in this case. Just focus on skill and knowledge."
   ]
  },
  {
   "cell_type": "markdown",
   "metadata": {},
   "source": [
    "### Stage 2.7: Check out wage and projected job openings from U.S. Bureau of Labor Statistics (BLS)."
   ]
  },
  {
   "cell_type": "code",
   "execution_count": 229,
   "metadata": {
    "collapsed": false
   },
   "outputs": [],
   "source": [
    "filename = \"EmploymentProjections.csv\"\n",
    "dWageAndOpenings = pd.pandas.read_csv(DataDir+filename)"
   ]
  },
  {
   "cell_type": "code",
   "execution_count": 230,
   "metadata": {
    "collapsed": false
   },
   "outputs": [
    {
     "data": {
      "text/plain": [
       "819"
      ]
     },
     "execution_count": 230,
     "metadata": {},
     "output_type": "execute_result"
    }
   ],
   "source": [
    "len(dWageAndOpenings)"
   ]
  },
  {
   "cell_type": "markdown",
   "metadata": {},
   "source": [
    "It has a relatively small number of rows. Let's try another sources."
   ]
  },
  {
   "cell_type": "code",
   "execution_count": 51,
   "metadata": {
    "collapsed": false
   },
   "outputs": [],
   "source": [
    "filename = \"occupation.xlsx\"\n",
    "dOpenings = pd.pandas.read_excel(DataDir+filename,sheetname=\"Table 1.2\")"
   ]
  },
  {
   "cell_type": "code",
   "execution_count": 52,
   "metadata": {
    "collapsed": false
   },
   "outputs": [
    {
     "data": {
      "text/plain": [
       "1095"
      ]
     },
     "execution_count": 52,
     "metadata": {},
     "output_type": "execute_result"
    }
   ],
   "source": [
    "len(dOpenings)"
   ]
  },
  {
   "cell_type": "code",
   "execution_count": 53,
   "metadata": {
    "collapsed": false
   },
   "outputs": [],
   "source": [
    "#Want only code name and job openings due to growth and replacemets 2014-2024\n",
    "dOpenings = dOpenings[[dOpenings.columns[1],dOpenings.columns[2],dOpenings.columns[9]]]"
   ]
  },
  {
   "cell_type": "code",
   "execution_count": 54,
   "metadata": {
    "collapsed": false
   },
   "outputs": [
    {
     "data": {
      "text/html": [
       "<div>\n",
       "<table border=\"1\" class=\"dataframe\">\n",
       "  <thead>\n",
       "    <tr style=\"text-align: right;\">\n",
       "      <th></th>\n",
       "      <th>Unnamed: 1</th>\n",
       "      <th>Unnamed: 2</th>\n",
       "      <th>Unnamed: 9</th>\n",
       "    </tr>\n",
       "  </thead>\n",
       "  <tbody>\n",
       "    <tr>\n",
       "      <th>0</th>\n",
       "      <td>NaN</td>\n",
       "      <td>Occupation Type</td>\n",
       "      <td>Job openings due to growth and replacements, 2...</td>\n",
       "    </tr>\n",
       "    <tr>\n",
       "      <th>1</th>\n",
       "      <td>NaN</td>\n",
       "      <td>NaN</td>\n",
       "      <td>NaN</td>\n",
       "    </tr>\n",
       "    <tr>\n",
       "      <th>2</th>\n",
       "      <td>NaN</td>\n",
       "      <td>NaN</td>\n",
       "      <td>NaN</td>\n",
       "    </tr>\n",
       "    <tr>\n",
       "      <th>3</th>\n",
       "      <td>00-0000</td>\n",
       "      <td>Summary</td>\n",
       "      <td>46506.9</td>\n",
       "    </tr>\n",
       "    <tr>\n",
       "      <th>4</th>\n",
       "      <td>11-0000</td>\n",
       "      <td>Summary</td>\n",
       "      <td>2586.8</td>\n",
       "    </tr>\n",
       "    <tr>\n",
       "      <th>5</th>\n",
       "      <td>11-1000</td>\n",
       "      <td>Summary</td>\n",
       "      <td>760</td>\n",
       "    </tr>\n",
       "    <tr>\n",
       "      <th>6</th>\n",
       "      <td>11-1011</td>\n",
       "      <td>Line item</td>\n",
       "      <td>58.4</td>\n",
       "    </tr>\n",
       "    <tr>\n",
       "      <th>7</th>\n",
       "      <td>11-1021</td>\n",
       "      <td>Line item</td>\n",
       "      <td>688.8</td>\n",
       "    </tr>\n",
       "    <tr>\n",
       "      <th>8</th>\n",
       "      <td>11-1031</td>\n",
       "      <td>Line item</td>\n",
       "      <td>12.9</td>\n",
       "    </tr>\n",
       "    <tr>\n",
       "      <th>9</th>\n",
       "      <td>11-2000</td>\n",
       "      <td>Summary</td>\n",
       "      <td>210.7</td>\n",
       "    </tr>\n",
       "  </tbody>\n",
       "</table>\n",
       "</div>"
      ],
      "text/plain": [
       "  Unnamed: 1       Unnamed: 2  \\\n",
       "0        NaN  Occupation Type   \n",
       "1        NaN              NaN   \n",
       "2        NaN              NaN   \n",
       "3    00-0000          Summary   \n",
       "4    11-0000          Summary   \n",
       "5    11-1000          Summary   \n",
       "6    11-1011        Line item   \n",
       "7    11-1021        Line item   \n",
       "8    11-1031        Line item   \n",
       "9    11-2000          Summary   \n",
       "\n",
       "                                          Unnamed: 9  \n",
       "0  Job openings due to growth and replacements, 2...  \n",
       "1                                                NaN  \n",
       "2                                                NaN  \n",
       "3                                            46506.9  \n",
       "4                                             2586.8  \n",
       "5                                                760  \n",
       "6                                               58.4  \n",
       "7                                              688.8  \n",
       "8                                               12.9  \n",
       "9                                              210.7  "
      ]
     },
     "execution_count": 54,
     "metadata": {},
     "output_type": "execute_result"
    }
   ],
   "source": [
    "dOpenings[:10]"
   ]
  },
  {
   "cell_type": "code",
   "execution_count": 55,
   "metadata": {
    "collapsed": false
   },
   "outputs": [],
   "source": [
    "#Take only line item\n",
    "dOpenings = dOpenings[dOpenings['Unnamed: 2']==\"Line item\"]\n",
    "dOpenings = dOpenings[[dOpenings.columns[0],dOpenings.columns[2]]]"
   ]
  },
  {
   "cell_type": "code",
   "execution_count": 56,
   "metadata": {
    "collapsed": false
   },
   "outputs": [],
   "source": [
    "dOpenings.columns = ['SOC code', 'JobOpenings']"
   ]
  },
  {
   "cell_type": "code",
   "execution_count": 57,
   "metadata": {
    "collapsed": false
   },
   "outputs": [
    {
     "data": {
      "text/plain": [
       "819"
      ]
     },
     "execution_count": 57,
     "metadata": {},
     "output_type": "execute_result"
    }
   ],
   "source": [
    "len(dOpenings)"
   ]
  },
  {
   "cell_type": "markdown",
   "metadata": {},
   "source": [
    "Essentially the same number after removing summary rows."
   ]
  },
  {
   "cell_type": "code",
   "execution_count": 58,
   "metadata": {
    "collapsed": false
   },
   "outputs": [],
   "source": [
    "#Screen out non-numeric data, sort and remove redundant\n",
    "dOpenings = dOpenings[dOpenings['JobOpenings'].map(lambda x : isinstance(x, numbers.Number))]\n",
    "dOpenings = dOpenings.sort_values(by=['SOC code'])\n",
    "dOpenings = dOpenings.drop_duplicates()"
   ]
  },
  {
   "cell_type": "code",
   "execution_count": 59,
   "metadata": {
    "collapsed": true
   },
   "outputs": [],
   "source": [
    "dOpenings.to_csv(DataDir + 'dJobOpenings.csv')"
   ]
  },
  {
   "cell_type": "markdown",
   "metadata": {},
   "source": [
    "Let's do the wage from BLS."
   ]
  },
  {
   "cell_type": "code",
   "execution_count": 18,
   "metadata": {
    "collapsed": false
   },
   "outputs": [],
   "source": [
    "filename = \"national_M2015_dl.xlsx\"\n",
    "dWage_BLS = pd.pandas.read_excel(DataDir+filename,sheetname=\"national_dl\")"
   ]
  },
  {
   "cell_type": "code",
   "execution_count": 19,
   "metadata": {
    "collapsed": false
   },
   "outputs": [],
   "source": [
    "#Want only code name and median annual wage \n",
    "dWage_BLS = dWage_BLS[['OCC_CODE','A_MEDIAN']]\n",
    "dWage_BLS.columns = ['SOC code', 'Wage_BLS']"
   ]
  },
  {
   "cell_type": "code",
   "execution_count": 20,
   "metadata": {
    "collapsed": false
   },
   "outputs": [
    {
     "data": {
      "text/html": [
       "<div>\n",
       "<table border=\"1\" class=\"dataframe\">\n",
       "  <thead>\n",
       "    <tr style=\"text-align: right;\">\n",
       "      <th></th>\n",
       "      <th>SOC code</th>\n",
       "      <th>Wage_BLS</th>\n",
       "    </tr>\n",
       "  </thead>\n",
       "  <tbody>\n",
       "    <tr>\n",
       "      <th>0</th>\n",
       "      <td>00-0000</td>\n",
       "      <td>36200</td>\n",
       "    </tr>\n",
       "    <tr>\n",
       "      <th>1</th>\n",
       "      <td>11-0000</td>\n",
       "      <td>98560</td>\n",
       "    </tr>\n",
       "    <tr>\n",
       "      <th>2</th>\n",
       "      <td>11-1000</td>\n",
       "      <td>100940</td>\n",
       "    </tr>\n",
       "    <tr>\n",
       "      <th>3</th>\n",
       "      <td>11-1010</td>\n",
       "      <td>175110</td>\n",
       "    </tr>\n",
       "    <tr>\n",
       "      <th>4</th>\n",
       "      <td>11-1011</td>\n",
       "      <td>175110</td>\n",
       "    </tr>\n",
       "  </tbody>\n",
       "</table>\n",
       "</div>"
      ],
      "text/plain": [
       "  SOC code Wage_BLS\n",
       "0  00-0000    36200\n",
       "1  11-0000    98560\n",
       "2  11-1000   100940\n",
       "3  11-1010   175110\n",
       "4  11-1011   175110"
      ]
     },
     "execution_count": 20,
     "metadata": {},
     "output_type": "execute_result"
    }
   ],
   "source": [
    "dWage_BLS[:5]"
   ]
  },
  {
   "cell_type": "code",
   "execution_count": 21,
   "metadata": {
    "collapsed": true
   },
   "outputs": [],
   "source": [
    "#Screen out non-numeric data, sort and remove redundant\n",
    "dWage_BLS = dWage_BLS[dWage_BLS['Wage_BLS'].map(lambda x : type(x) == int)]\n",
    "dWage_BLS = dWage_BLS.sort_values(by=['SOC code'])\n",
    "dWage_BLS = dWage_BLS.drop_duplicates()"
   ]
  },
  {
   "cell_type": "code",
   "execution_count": 22,
   "metadata": {
    "collapsed": false
   },
   "outputs": [
    {
     "data": {
      "text/plain": [
       "1379"
      ]
     },
     "execution_count": 22,
     "metadata": {},
     "output_type": "execute_result"
    }
   ],
   "source": [
    "len(dWage_BLS)"
   ]
  },
  {
   "cell_type": "code",
   "execution_count": 23,
   "metadata": {
    "collapsed": true
   },
   "outputs": [],
   "source": [
    "dWage_BLS.to_csv(DataDir + 'dWage_BLS.csv')"
   ]
  },
  {
   "cell_type": "markdown",
   "metadata": {},
   "source": [
    "### Stage 2.8: Check out risk of automation (Frey & Osbourne) and level of competition (O*NET)"
   ]
  },
  {
   "cell_type": "code",
   "execution_count": 3,
   "metadata": {
    "collapsed": true
   },
   "outputs": [],
   "source": [
    "filename = \"Level_of_Competition.xls\"\n",
    "dLevelOfCompetition = pd.pandas.read_excel(DataDir+filename,sheetname=\"Browse by O-NET Data\")"
   ]
  },
  {
   "cell_type": "code",
   "execution_count": 4,
   "metadata": {
    "collapsed": false
   },
   "outputs": [
    {
     "data": {
      "text/plain": [
       "963"
      ]
     },
     "execution_count": 4,
     "metadata": {},
     "output_type": "execute_result"
    }
   ],
   "source": [
    "len(dLevelOfCompetition)"
   ]
  },
  {
   "cell_type": "markdown",
   "metadata": {},
   "source": [
    "We want only \"Context\" and \"Code\". Rename them as 'SOC code' and 'LevelOfCompetition' "
   ]
  },
  {
   "cell_type": "code",
   "execution_count": 5,
   "metadata": {
    "collapsed": true
   },
   "outputs": [],
   "source": [
    "dLevelOfCompetition = dLevelOfCompetition[['Code','Context']]\n",
    "dLevelOfCompetition.columns = ['SOC code', 'LevelOfCompetition']"
   ]
  },
  {
   "cell_type": "code",
   "execution_count": 6,
   "metadata": {
    "collapsed": false
   },
   "outputs": [
    {
     "data": {
      "text/html": [
       "<div>\n",
       "<table border=\"1\" class=\"dataframe\">\n",
       "  <thead>\n",
       "    <tr style=\"text-align: right;\">\n",
       "      <th></th>\n",
       "      <th>SOC code</th>\n",
       "      <th>LevelOfCompetition</th>\n",
       "    </tr>\n",
       "  </thead>\n",
       "  <tbody>\n",
       "    <tr>\n",
       "      <th>0</th>\n",
       "      <td>27-2032.00</td>\n",
       "      <td>96</td>\n",
       "    </tr>\n",
       "    <tr>\n",
       "      <th>1</th>\n",
       "      <td>27-3043.05</td>\n",
       "      <td>95</td>\n",
       "    </tr>\n",
       "    <tr>\n",
       "      <th>2</th>\n",
       "      <td>27-2042.02</td>\n",
       "      <td>93</td>\n",
       "    </tr>\n",
       "    <tr>\n",
       "      <th>3</th>\n",
       "      <td>27-4021.00</td>\n",
       "      <td>91</td>\n",
       "    </tr>\n",
       "    <tr>\n",
       "      <th>4</th>\n",
       "      <td>41-9021.00</td>\n",
       "      <td>90</td>\n",
       "    </tr>\n",
       "  </tbody>\n",
       "</table>\n",
       "</div>"
      ],
      "text/plain": [
       "     SOC code  LevelOfCompetition\n",
       "0  27-2032.00                  96\n",
       "1  27-3043.05                  95\n",
       "2  27-2042.02                  93\n",
       "3  27-4021.00                  91\n",
       "4  41-9021.00                  90"
      ]
     },
     "execution_count": 6,
     "metadata": {},
     "output_type": "execute_result"
    }
   ],
   "source": [
    "dLevelOfCompetition[:5]"
   ]
  },
  {
   "cell_type": "code",
   "execution_count": 7,
   "metadata": {
    "collapsed": true
   },
   "outputs": [],
   "source": [
    "dLevelOfCompetition = dLevelOfCompetition.sort_values(by=['SOC code'])\n",
    "dLevelOfCompetition = dLevelOfCompetition.drop_duplicates()\n",
    "dLevelOfCompetition.to_csv(DataDir + 'dLevelOfCompetition.csv')"
   ]
  },
  {
   "cell_type": "markdown",
   "metadata": {},
   "source": [
    "Next, let's look at risk of automation."
   ]
  },
  {
   "cell_type": "code",
   "execution_count": 8,
   "metadata": {
    "collapsed": true
   },
   "outputs": [],
   "source": [
    "filename = \"RiskOfAutomation.xlsx\"\n",
    "dRisk = pd.read_excel(DataDir+filename)"
   ]
  },
  {
   "cell_type": "code",
   "execution_count": 9,
   "metadata": {
    "collapsed": false
   },
   "outputs": [
    {
     "data": {
      "text/plain": [
       "702"
      ]
     },
     "execution_count": 9,
     "metadata": {},
     "output_type": "execute_result"
    }
   ],
   "source": [
    "len(dRisk)"
   ]
  },
  {
   "cell_type": "markdown",
   "metadata": {},
   "source": [
    "We want only \"Probability\" and \"SOC code\""
   ]
  },
  {
   "cell_type": "code",
   "execution_count": 10,
   "metadata": {
    "collapsed": true
   },
   "outputs": [],
   "source": [
    "dRiskOfAutomation = dRisk[['SOC code','Probability']]\n",
    "dRiskOfAutomation.columns = ['SOC code', 'RiskOfAutomation']"
   ]
  },
  {
   "cell_type": "code",
   "execution_count": 11,
   "metadata": {
    "collapsed": false
   },
   "outputs": [
    {
     "data": {
      "text/html": [
       "<div>\n",
       "<table border=\"1\" class=\"dataframe\">\n",
       "  <thead>\n",
       "    <tr style=\"text-align: right;\">\n",
       "      <th></th>\n",
       "      <th>SOC code</th>\n",
       "      <th>RiskOfAutomation</th>\n",
       "    </tr>\n",
       "  </thead>\n",
       "  <tbody>\n",
       "    <tr>\n",
       "      <th>0</th>\n",
       "      <td>29-1125</td>\n",
       "      <td>0.0028</td>\n",
       "    </tr>\n",
       "    <tr>\n",
       "      <th>1</th>\n",
       "      <td>49-1011</td>\n",
       "      <td>0.0030</td>\n",
       "    </tr>\n",
       "    <tr>\n",
       "      <th>2</th>\n",
       "      <td>11-9161</td>\n",
       "      <td>0.0030</td>\n",
       "    </tr>\n",
       "    <tr>\n",
       "      <th>3</th>\n",
       "      <td>21-1023</td>\n",
       "      <td>0.0031</td>\n",
       "    </tr>\n",
       "    <tr>\n",
       "      <th>4</th>\n",
       "      <td>29-1181</td>\n",
       "      <td>0.0033</td>\n",
       "    </tr>\n",
       "  </tbody>\n",
       "</table>\n",
       "</div>"
      ],
      "text/plain": [
       "  SOC code  RiskOfAutomation\n",
       "0  29-1125            0.0028\n",
       "1  49-1011            0.0030\n",
       "2  11-9161            0.0030\n",
       "3  21-1023            0.0031\n",
       "4  29-1181            0.0033"
      ]
     },
     "execution_count": 11,
     "metadata": {},
     "output_type": "execute_result"
    }
   ],
   "source": [
    "dRiskOfAutomation[:5]"
   ]
  },
  {
   "cell_type": "code",
   "execution_count": 12,
   "metadata": {
    "collapsed": true
   },
   "outputs": [],
   "source": [
    "dRiskOfAutomation = dRiskOfAutomation.sort_values(by=['SOC code'])\n",
    "dRiskOfAutomation = dRiskOfAutomation.drop_duplicates()\n",
    "dRiskOfAutomation.to_csv(DataDir + 'dRiskOfAutomation.csv')"
   ]
  },
  {
   "cell_type": "markdown",
   "metadata": {},
   "source": [
    "### Stage 2.9: Check Job satisfaction from GSS"
   ]
  },
  {
   "cell_type": "code",
   "execution_count": 24,
   "metadata": {
    "collapsed": true
   },
   "outputs": [],
   "source": [
    "filename = \"JobSatisfactionGSS.xls\"\n",
    "dJobSatisfaction_GSS = pd.read_excel(DataDir+filename,sheetname = 'Data')"
   ]
  },
  {
   "cell_type": "code",
   "execution_count": 25,
   "metadata": {
    "collapsed": false
   },
   "outputs": [
    {
     "data": {
      "text/html": [
       "<div>\n",
       "<table border=\"1\" class=\"dataframe\">\n",
       "  <thead>\n",
       "    <tr style=\"text-align: right;\">\n",
       "      <th></th>\n",
       "      <th>Gss year for this respondent</th>\n",
       "      <th>Respondent id number</th>\n",
       "      <th>Rs census occupation code (2010)</th>\n",
       "      <th>Job or housework</th>\n",
       "      <th>Job satisfaction in general</th>\n",
       "      <th>Job satisfaction in general.1</th>\n",
       "      <th>Occupation code based on o*net</th>\n",
       "    </tr>\n",
       "  </thead>\n",
       "  <tbody>\n",
       "    <tr>\n",
       "      <th>0</th>\n",
       "      <td>2000</td>\n",
       "      <td>1</td>\n",
       "      <td>Broadcast and sound engineering technicians an...</td>\n",
       "      <td>Very satisfied</td>\n",
       "      <td>Not applicable</td>\n",
       "      <td>Not applicable</td>\n",
       "      <td>0</td>\n",
       "    </tr>\n",
       "    <tr>\n",
       "      <th>1</th>\n",
       "      <td>2000</td>\n",
       "      <td>2</td>\n",
       "      <td>Secretaries and administrative assistants</td>\n",
       "      <td>Mod. satisfied</td>\n",
       "      <td>Not applicable</td>\n",
       "      <td>Not applicable</td>\n",
       "      <td>0</td>\n",
       "    </tr>\n",
       "    <tr>\n",
       "      <th>2</th>\n",
       "      <td>2000</td>\n",
       "      <td>3</td>\n",
       "      <td>Not applicable</td>\n",
       "      <td>No answer</td>\n",
       "      <td>Not applicable</td>\n",
       "      <td>Not applicable</td>\n",
       "      <td>0</td>\n",
       "    </tr>\n",
       "    <tr>\n",
       "      <th>3</th>\n",
       "      <td>2000</td>\n",
       "      <td>4</td>\n",
       "      <td>Veterinarians</td>\n",
       "      <td>Very satisfied</td>\n",
       "      <td>Not applicable</td>\n",
       "      <td>Not applicable</td>\n",
       "      <td>0</td>\n",
       "    </tr>\n",
       "    <tr>\n",
       "      <th>4</th>\n",
       "      <td>2000</td>\n",
       "      <td>5</td>\n",
       "      <td>Air traffic controllers and airfield operation...</td>\n",
       "      <td>A little dissat</td>\n",
       "      <td>Not applicable</td>\n",
       "      <td>Not applicable</td>\n",
       "      <td>0</td>\n",
       "    </tr>\n",
       "  </tbody>\n",
       "</table>\n",
       "</div>"
      ],
      "text/plain": [
       "  Gss year for this respondent                        Respondent id number  \\\n",
       "0                                               2000                     1   \n",
       "1                                               2000                     2   \n",
       "2                                               2000                     3   \n",
       "3                                               2000                     4   \n",
       "4                                               2000                     5   \n",
       "\n",
       "                    Rs census occupation code (2010) Job or housework  \\\n",
       "0  Broadcast and sound engineering technicians an...   Very satisfied   \n",
       "1          Secretaries and administrative assistants   Mod. satisfied   \n",
       "2                                     Not applicable        No answer   \n",
       "3                                      Veterinarians   Very satisfied   \n",
       "4  Air traffic controllers and airfield operation...  A little dissat   \n",
       "\n",
       "  Job satisfaction in general Job satisfaction in general.1  \\\n",
       "0              Not applicable                Not applicable   \n",
       "1              Not applicable                Not applicable   \n",
       "2              Not applicable                Not applicable   \n",
       "3              Not applicable                Not applicable   \n",
       "4              Not applicable                Not applicable   \n",
       "\n",
       "  Occupation code based on o*net  \n",
       "0                              0  \n",
       "1                              0  \n",
       "2                              0  \n",
       "3                              0  \n",
       "4                              0  "
      ]
     },
     "execution_count": 25,
     "metadata": {},
     "output_type": "execute_result"
    }
   ],
   "source": [
    "dJobSatisfaction_GSS[:5]"
   ]
  },
  {
   "cell_type": "code",
   "execution_count": 26,
   "metadata": {
    "collapsed": false
   },
   "outputs": [
    {
     "data": {
      "text/plain": [
       "(21485, 509, 8, 8, 11, 431)"
      ]
     },
     "execution_count": 26,
     "metadata": {},
     "output_type": "execute_result"
    }
   ],
   "source": [
    "len(dJobSatisfaction_GSS), len(set(dJobSatisfaction_GSS['Rs census occupation code (2010)'])),\\\n",
    " len(set(dJobSatisfaction_GSS['Job or housework'])),len(set(dJobSatisfaction_GSS['Job satisfaction in general'])),\\\n",
    "len(set(dJobSatisfaction_GSS['Job satisfaction in general.1'])), \\\n",
    "len(set(dJobSatisfaction_GSS['Occupation code based on o*net']))"
   ]
  },
  {
   "cell_type": "code",
   "execution_count": 27,
   "metadata": {
    "collapsed": true
   },
   "outputs": [],
   "source": [
    "#Encode this into numbers\n",
    "dJobSatisfaction_GSS['value1'] = None\n",
    "for i in dJobSatisfaction_GSS.index:\n",
    "    if dJobSatisfaction_GSS.loc[i,'Job or housework'] == 'Very satisfied':\n",
    "        dJobSatisfaction_GSS.loc[i,'value1'] = 1.0\n",
    "    elif dJobSatisfaction_GSS.loc[i,'Job or housework'] == 'Mod. satisfied':\n",
    "        dJobSatisfaction_GSS.loc[i,'value1'] = 2.0/3\n",
    "    elif dJobSatisfaction_GSS.loc[i,'Job or housework'] == 'A little dissat':\n",
    "        dJobSatisfaction_GSS.loc[i,'value1'] = 1.0/3\n",
    "    elif dJobSatisfaction_GSS.loc[i,'Job or housework'] == 'Very dissatisfied':\n",
    "        dJobSatisfaction_GSS.loc[i,'value1'] = 0.0\n",
    "    else:\n",
    "        dJobSatisfaction_GSS.loc[i,'value1'] = None"
   ]
  },
  {
   "cell_type": "code",
   "execution_count": 28,
   "metadata": {
    "collapsed": true
   },
   "outputs": [],
   "source": [
    "#Encode this into numbers\n",
    "dJobSatisfaction_GSS['value2'] = None\n",
    "for i in dJobSatisfaction_GSS.index:\n",
    "    if dJobSatisfaction_GSS.loc[i,'Job satisfaction in general'] == 'Very satisfied':\n",
    "        dJobSatisfaction_GSS.loc[i,'value2'] = 1.0\n",
    "    elif dJobSatisfaction_GSS.loc[i,'Job satisfaction in general'] == 'Somewhat satisfied':\n",
    "        dJobSatisfaction_GSS.loc[i,'value2'] = 2.0/3\n",
    "    elif dJobSatisfaction_GSS.loc[i,'Job satisfaction in general'] == 'Not too satisfied':\n",
    "        dJobSatisfaction_GSS.loc[i,'value2'] = 1.0/3\n",
    "    elif dJobSatisfaction_GSS.loc[i,'Job satisfaction in general'] == 'Not at all satisfied':\n",
    "        dJobSatisfaction_GSS.loc[i,'value2'] = 0.0\n",
    "    else:\n",
    "        dJobSatisfaction_GSS.loc[i,'value2'] = None"
   ]
  },
  {
   "cell_type": "code",
   "execution_count": 29,
   "metadata": {
    "collapsed": true
   },
   "outputs": [],
   "source": [
    "#Encode this into numbers\n",
    "dJobSatisfaction_GSS['value3'] = None\n",
    "for i in dJobSatisfaction_GSS.index:\n",
    "    if dJobSatisfaction_GSS.loc[i,'Job satisfaction in general.1'] == 'Completely satisfied':\n",
    "        dJobSatisfaction_GSS.loc[i,'value3'] = 1.0\n",
    "    elif dJobSatisfaction_GSS.loc[i,'Job satisfaction in general.1'] == 'Very satisfied':\n",
    "        dJobSatisfaction_GSS.loc[i,'value3'] = 5.0/6\n",
    "    elif dJobSatisfaction_GSS.loc[i,'Job satisfaction in general.1'] == 'Fairly satisfied':\n",
    "        dJobSatisfaction_GSS.loc[i,'value3'] = 4.0/6\n",
    "    elif dJobSatisfaction_GSS.loc[i,'Job satisfaction in general.1'] == 'Neither satisfied nor dissatisfied':\n",
    "        dJobSatisfaction_GSS.loc[i,'value3'] = 3.0/6\n",
    "    elif dJobSatisfaction_GSS.loc[i,'Job satisfaction in general.1'] == 'Fairly dissatisfied':\n",
    "        dJobSatisfaction_GSS.loc[i,'value3'] = 2.0/6\n",
    "    elif dJobSatisfaction_GSS.loc[i,'Job satisfaction in general.1'] == 'Very dissatisfied':\n",
    "        dJobSatisfaction_GSS.loc[i,'value3'] = 1.0/6\n",
    "    elif dJobSatisfaction_GSS.loc[i,'Job satisfaction in general.1'] == 'Completely dissatisfied':\n",
    "        dJobSatisfaction_GSS.loc[i,'value3'] = 0.0\n",
    "    else:\n",
    "        dJobSatisfaction_GSS.loc[i,'value3'] = None"
   ]
  },
  {
   "cell_type": "code",
   "execution_count": 30,
   "metadata": {
    "collapsed": true
   },
   "outputs": [],
   "source": [
    "dJobSatisfaction_GSS['value'] = None\n",
    "for i in dJobSatisfaction_GSS.index:\n",
    "    dJobSatisfaction_GSS.loc[i,'value'] = 1.0*np.sum(dJobSatisfaction_GSS[['value1','value2','value3']].loc[i,:]) \\\n",
    "             /(3-np.sum(dJobSatisfaction_GSS[['value1','value2','value3']].loc[i,:].isnull()))"
   ]
  },
  {
   "cell_type": "code",
   "execution_count": 31,
   "metadata": {
    "collapsed": false
   },
   "outputs": [
    {
     "data": {
      "text/html": [
       "<div>\n",
       "<table border=\"1\" class=\"dataframe\">\n",
       "  <thead>\n",
       "    <tr style=\"text-align: right;\">\n",
       "      <th></th>\n",
       "      <th>value1</th>\n",
       "      <th>value2</th>\n",
       "      <th>value3</th>\n",
       "      <th>value</th>\n",
       "    </tr>\n",
       "  </thead>\n",
       "  <tbody>\n",
       "    <tr>\n",
       "      <th>0</th>\n",
       "      <td>1</td>\n",
       "      <td>None</td>\n",
       "      <td>None</td>\n",
       "      <td>1</td>\n",
       "    </tr>\n",
       "    <tr>\n",
       "      <th>1</th>\n",
       "      <td>0.666667</td>\n",
       "      <td>None</td>\n",
       "      <td>None</td>\n",
       "      <td>0.666667</td>\n",
       "    </tr>\n",
       "    <tr>\n",
       "      <th>2</th>\n",
       "      <td>None</td>\n",
       "      <td>None</td>\n",
       "      <td>None</td>\n",
       "      <td>NaN</td>\n",
       "    </tr>\n",
       "    <tr>\n",
       "      <th>3</th>\n",
       "      <td>1</td>\n",
       "      <td>None</td>\n",
       "      <td>None</td>\n",
       "      <td>1</td>\n",
       "    </tr>\n",
       "    <tr>\n",
       "      <th>4</th>\n",
       "      <td>0.333333</td>\n",
       "      <td>None</td>\n",
       "      <td>None</td>\n",
       "      <td>0.333333</td>\n",
       "    </tr>\n",
       "    <tr>\n",
       "      <th>5</th>\n",
       "      <td>0.666667</td>\n",
       "      <td>None</td>\n",
       "      <td>None</td>\n",
       "      <td>0.666667</td>\n",
       "    </tr>\n",
       "    <tr>\n",
       "      <th>6</th>\n",
       "      <td>1</td>\n",
       "      <td>None</td>\n",
       "      <td>None</td>\n",
       "      <td>1</td>\n",
       "    </tr>\n",
       "  </tbody>\n",
       "</table>\n",
       "</div>"
      ],
      "text/plain": [
       "     value1 value2 value3     value\n",
       "0         1   None   None         1\n",
       "1  0.666667   None   None  0.666667\n",
       "2      None   None   None       NaN\n",
       "3         1   None   None         1\n",
       "4  0.333333   None   None  0.333333\n",
       "5  0.666667   None   None  0.666667\n",
       "6         1   None   None         1"
      ]
     },
     "execution_count": 31,
     "metadata": {},
     "output_type": "execute_result"
    }
   ],
   "source": [
    "dJobSatisfaction_GSS[['value1','value2','value3','value']][:7]"
   ]
  },
  {
   "cell_type": "code",
   "execution_count": 32,
   "metadata": {
    "collapsed": true
   },
   "outputs": [],
   "source": [
    "#select only relevant columns\n",
    "dJobSatisfaction_GSS = dJobSatisfaction_GSS[['Rs census occupation code (2010)','Occupation code based on o*net','value']]\n",
    "dJobSatisfaction_GSS = dJobSatisfaction_GSS[dJobSatisfaction_GSS['value'].notnull()]"
   ]
  },
  {
   "cell_type": "code",
   "execution_count": 33,
   "metadata": {
    "collapsed": false
   },
   "outputs": [
    {
     "data": {
      "text/plain": [
       "14177"
      ]
     },
     "execution_count": 33,
     "metadata": {},
     "output_type": "execute_result"
    }
   ],
   "source": [
    "len(dJobSatisfaction_GSS)"
   ]
  },
  {
   "cell_type": "markdown",
   "metadata": {},
   "source": [
    "First, let's do matching between census occupation code and O*NET code. Fortunately, there is a table for conversion."
   ]
  },
  {
   "cell_type": "code",
   "execution_count": 34,
   "metadata": {
    "collapsed": true
   },
   "outputs": [],
   "source": [
    "filename = \"2010_OccCodeswithCrosswalkfrom2002-2011nov04.xls\"\n",
    "dCodeConversion = pd.read_excel(DataDir+filename,sheetname = '2010OccCodeList')"
   ]
  },
  {
   "cell_type": "code",
   "execution_count": 35,
   "metadata": {
    "collapsed": false
   },
   "outputs": [],
   "source": [
    "dCodeConversion = dCodeConversion.reset_index()\n",
    "dCodeConversion = dCodeConversion[['US Census Bureau','Unnamed: 2']]\n",
    "dCodeConversion.columns = ['Rs census occupation code (2010)','SOC code']\n",
    "dCodeConversion = dCodeConversion.dropna()"
   ]
  },
  {
   "cell_type": "code",
   "execution_count": 36,
   "metadata": {
    "collapsed": false
   },
   "outputs": [
    {
     "data": {
      "text/html": [
       "<div>\n",
       "<table border=\"1\" class=\"dataframe\">\n",
       "  <thead>\n",
       "    <tr style=\"text-align: right;\">\n",
       "      <th></th>\n",
       "      <th>Rs census occupation code (2010)</th>\n",
       "      <th>SOC code</th>\n",
       "    </tr>\n",
       "  </thead>\n",
       "  <tbody>\n",
       "    <tr>\n",
       "      <th>3</th>\n",
       "      <td>Occupation 2010 Description</td>\n",
       "      <td>2010 SOC Code</td>\n",
       "    </tr>\n",
       "    <tr>\n",
       "      <th>9</th>\n",
       "      <td>Management, Business, and Financial Occupations:</td>\n",
       "      <td>11-0000 - 13-0000</td>\n",
       "    </tr>\n",
       "    <tr>\n",
       "      <th>11</th>\n",
       "      <td>Management Occupations:</td>\n",
       "      <td>11-0000</td>\n",
       "    </tr>\n",
       "    <tr>\n",
       "      <th>13</th>\n",
       "      <td>Chief executives</td>\n",
       "      <td>11-1011</td>\n",
       "    </tr>\n",
       "    <tr>\n",
       "      <th>14</th>\n",
       "      <td>General and operations managers</td>\n",
       "      <td>11-1021</td>\n",
       "    </tr>\n",
       "  </tbody>\n",
       "</table>\n",
       "</div>"
      ],
      "text/plain": [
       "                    Rs census occupation code (2010)           SOC code\n",
       "3                        Occupation 2010 Description      2010 SOC Code\n",
       "9   Management, Business, and Financial Occupations:  11-0000 - 13-0000\n",
       "11                           Management Occupations:            11-0000\n",
       "13                                  Chief executives            11-1011\n",
       "14                   General and operations managers            11-1021"
      ]
     },
     "execution_count": 36,
     "metadata": {},
     "output_type": "execute_result"
    }
   ],
   "source": [
    "dCodeConversion[:5]"
   ]
  },
  {
   "cell_type": "code",
   "execution_count": 37,
   "metadata": {
    "collapsed": false
   },
   "outputs": [
    {
     "data": {
      "text/plain": [
       "568"
      ]
     },
     "execution_count": 37,
     "metadata": {},
     "output_type": "execute_result"
    }
   ],
   "source": [
    "len(dCodeConversion)"
   ]
  },
  {
   "cell_type": "code",
   "execution_count": 38,
   "metadata": {
    "collapsed": true
   },
   "outputs": [],
   "source": [
    "dJobSatisfaction_GSS = dJobSatisfaction_GSS.merge(dCodeConversion, how ='left')"
   ]
  },
  {
   "cell_type": "code",
   "execution_count": 39,
   "metadata": {
    "collapsed": false
   },
   "outputs": [
    {
     "data": {
      "text/html": [
       "<div>\n",
       "<table border=\"1\" class=\"dataframe\">\n",
       "  <thead>\n",
       "    <tr style=\"text-align: right;\">\n",
       "      <th></th>\n",
       "      <th>Rs census occupation code (2010)</th>\n",
       "      <th>Occupation code based on o*net</th>\n",
       "      <th>value</th>\n",
       "      <th>SOC code</th>\n",
       "    </tr>\n",
       "  </thead>\n",
       "  <tbody>\n",
       "    <tr>\n",
       "      <th>0</th>\n",
       "      <td>Broadcast and sound engineering technicians an...</td>\n",
       "      <td>0</td>\n",
       "      <td>1</td>\n",
       "      <td>NaN</td>\n",
       "    </tr>\n",
       "    <tr>\n",
       "      <th>1</th>\n",
       "      <td>Secretaries and administrative assistants</td>\n",
       "      <td>0</td>\n",
       "      <td>0.666667</td>\n",
       "      <td>43-6010</td>\n",
       "    </tr>\n",
       "    <tr>\n",
       "      <th>2</th>\n",
       "      <td>Veterinarians</td>\n",
       "      <td>0</td>\n",
       "      <td>1</td>\n",
       "      <td>29-1131</td>\n",
       "    </tr>\n",
       "    <tr>\n",
       "      <th>3</th>\n",
       "      <td>Air traffic controllers and airfield operation...</td>\n",
       "      <td>0</td>\n",
       "      <td>0.333333</td>\n",
       "      <td>53-2020</td>\n",
       "    </tr>\n",
       "    <tr>\n",
       "      <th>4</th>\n",
       "      <td>Receptionists and information clerks</td>\n",
       "      <td>0</td>\n",
       "      <td>0.666667</td>\n",
       "      <td>43-4171</td>\n",
       "    </tr>\n",
       "  </tbody>\n",
       "</table>\n",
       "</div>"
      ],
      "text/plain": [
       "                    Rs census occupation code (2010)  \\\n",
       "0  Broadcast and sound engineering technicians an...   \n",
       "1          Secretaries and administrative assistants   \n",
       "2                                      Veterinarians   \n",
       "3  Air traffic controllers and airfield operation...   \n",
       "4               Receptionists and information clerks   \n",
       "\n",
       "  Occupation code based on o*net     value  SOC code  \n",
       "0                              0         1       NaN  \n",
       "1                              0  0.666667  43-6010   \n",
       "2                              0         1   29-1131  \n",
       "3                              0  0.333333  53-2020   \n",
       "4                              0  0.666667   43-4171  "
      ]
     },
     "execution_count": 39,
     "metadata": {},
     "output_type": "execute_result"
    }
   ],
   "source": [
    "dJobSatisfaction_GSS[:5]"
   ]
  },
  {
   "cell_type": "markdown",
   "metadata": {},
   "source": [
    "It seems that the occupation code from GSS is outdated. Use the new one. "
   ]
  },
  {
   "cell_type": "code",
   "execution_count": 40,
   "metadata": {
    "collapsed": true
   },
   "outputs": [],
   "source": [
    "dJobSatisfaction_GSS = dJobSatisfaction_GSS[['SOC code','value']]\n",
    "dJobSatisfaction_GSS = dJobSatisfaction_GSS.dropna()"
   ]
  },
  {
   "cell_type": "code",
   "execution_count": 41,
   "metadata": {
    "collapsed": false
   },
   "outputs": [
    {
     "data": {
      "text/plain": [
       "13323"
      ]
     },
     "execution_count": 41,
     "metadata": {},
     "output_type": "execute_result"
    }
   ],
   "source": [
    "len(dJobSatisfaction_GSS)"
   ]
  },
  {
   "cell_type": "code",
   "execution_count": 42,
   "metadata": {
    "collapsed": true
   },
   "outputs": [],
   "source": [
    "dJobSatisfaction_GSS.columns = ['SOC code','JobSatisfaction_GSS']\n",
    "dJobSatisfaction_GSS = dJobSatisfaction_GSS.sort_values(by=['SOC code'])\n",
    "#YOu don't drop duplicates here since each row represents an individual\n",
    "dJobSatisfaction_GSS.to_csv(DataDir + 'dJobSatisfaction_GSS.csv')"
   ]
  },
  {
   "cell_type": "markdown",
   "metadata": {},
   "source": [
    "### Stage 2.10: Get data from PayScale - Job Satisfaction, Job meaning and wage"
   ]
  },
  {
   "cell_type": "code",
   "execution_count": 5,
   "metadata": {
    "collapsed": true
   },
   "outputs": [],
   "source": [
    "filename = \"PayScale.csv\"\n",
    "dPayScale = pd.read_csv(DataDir+filename)"
   ]
  },
  {
   "cell_type": "code",
   "execution_count": 6,
   "metadata": {
    "collapsed": false
   },
   "outputs": [
    {
     "data": {
      "text/html": [
       "<div>\n",
       "<table border=\"1\" class=\"dataframe\">\n",
       "  <thead>\n",
       "    <tr style=\"text-align: right;\">\n",
       "      <th></th>\n",
       "      <th>Job Title</th>\n",
       "      <th>Median Pay</th>\n",
       "      <th>High Meaning</th>\n",
       "      <th>High Satisfaction</th>\n",
       "    </tr>\n",
       "  </thead>\n",
       "  <tbody>\n",
       "    <tr>\n",
       "      <th>0</th>\n",
       "      <td>Clergy</td>\n",
       "      <td>$46,600</td>\n",
       "      <td>98%</td>\n",
       "      <td>90%</td>\n",
       "    </tr>\n",
       "    <tr>\n",
       "      <th>1</th>\n",
       "      <td>English Language and Literature Teachers, Post...</td>\n",
       "      <td>$43,600</td>\n",
       "      <td>96%</td>\n",
       "      <td>74%</td>\n",
       "    </tr>\n",
       "    <tr>\n",
       "      <th>2</th>\n",
       "      <td>Surgeons</td>\n",
       "      <td>$304,000</td>\n",
       "      <td>96%</td>\n",
       "      <td>83%</td>\n",
       "    </tr>\n",
       "    <tr>\n",
       "      <th>3</th>\n",
       "      <td>Directors, Religious Activities and Education</td>\n",
       "      <td>$37,600</td>\n",
       "      <td>96%</td>\n",
       "      <td>84%</td>\n",
       "    </tr>\n",
       "    <tr>\n",
       "      <th>4</th>\n",
       "      <td>Education Administrators, Elementary and Secon...</td>\n",
       "      <td>$76,700</td>\n",
       "      <td>95%</td>\n",
       "      <td>88%</td>\n",
       "    </tr>\n",
       "  </tbody>\n",
       "</table>\n",
       "</div>"
      ],
      "text/plain": [
       "                                           Job Title Median Pay High Meaning  \\\n",
       "0                                             Clergy   $46,600           98%   \n",
       "1  English Language and Literature Teachers, Post...   $43,600           96%   \n",
       "2                                           Surgeons  $304,000           96%   \n",
       "3      Directors, Religious Activities and Education   $37,600           96%   \n",
       "4  Education Administrators, Elementary and Secon...   $76,700           95%   \n",
       "\n",
       "  High Satisfaction  \n",
       "0               90%  \n",
       "1               74%  \n",
       "2               83%  \n",
       "3               84%  \n",
       "4               88%  "
      ]
     },
     "execution_count": 6,
     "metadata": {},
     "output_type": "execute_result"
    }
   ],
   "source": [
    "dPayScale[:5]"
   ]
  },
  {
   "cell_type": "code",
   "execution_count": 7,
   "metadata": {
    "collapsed": true
   },
   "outputs": [],
   "source": [
    "dPayScale['Median Pay'] = dPayScale['Median Pay'].map(lambda x: float(x[1:].replace(',', '')))\n",
    "dPayScale['High Meaning'] = dPayScale['High Meaning'].map(lambda x: float(x.strip('%'))/100)"
   ]
  },
  {
   "cell_type": "markdown",
   "metadata": {},
   "source": [
    "It turned out that there is something called 'Low Data' in our data. Remove it."
   ]
  },
  {
   "cell_type": "code",
   "execution_count": 8,
   "metadata": {
    "collapsed": true
   },
   "outputs": [],
   "source": [
    "dPayScale = dPayScale[dPayScale['High Satisfaction']!='Low Data']"
   ]
  },
  {
   "cell_type": "code",
   "execution_count": 9,
   "metadata": {
    "collapsed": true
   },
   "outputs": [],
   "source": [
    "dPayScale['High Satisfaction'] = dPayScale['High Satisfaction']\\\n",
    "                                        .map(lambda x: float(x.strip('%'))/100)"
   ]
  },
  {
   "cell_type": "markdown",
   "metadata": {},
   "source": [
    "It turned out that the job titles in PayScale match ones in O*NET database."
   ]
  },
  {
   "cell_type": "code",
   "execution_count": 10,
   "metadata": {
    "collapsed": true
   },
   "outputs": [],
   "source": [
    "#First read the list of occupation \n",
    "filename = \"All_Career_Clusters.csv\"\n",
    "df = pd.pandas.read_csv(DataDir+filename)"
   ]
  },
  {
   "cell_type": "code",
   "execution_count": 11,
   "metadata": {
    "collapsed": true
   },
   "outputs": [],
   "source": [
    "dPayScale = dPayScale.merge(df, right_on='Occupation',  left_on='Job Title', how ='left')"
   ]
  },
  {
   "cell_type": "code",
   "execution_count": 12,
   "metadata": {
    "collapsed": true
   },
   "outputs": [],
   "source": [
    "dPayScale = dPayScale[['Code', 'Median Pay', 'High Meaning', 'High Satisfaction']]\n",
    "dPayScale = dPayScale.dropna()\n",
    "dPayScale = dPayScale.drop_duplicates()"
   ]
  },
  {
   "cell_type": "code",
   "execution_count": 13,
   "metadata": {
    "collapsed": false
   },
   "outputs": [
    {
     "data": {
      "text/plain": [
       "435"
      ]
     },
     "execution_count": 13,
     "metadata": {},
     "output_type": "execute_result"
    }
   ],
   "source": [
    "len(dPayScale)"
   ]
  },
  {
   "cell_type": "code",
   "execution_count": 14,
   "metadata": {
    "collapsed": true
   },
   "outputs": [],
   "source": [
    "dPayScale.columns = ['SOC code','Median Pay', 'High Meaning', 'High Satisfaction']\n",
    "dPayScale = dPayScale.sort_values(by=['SOC code'])\n",
    "dPayScale = dPayScale.drop_duplicates()\n",
    "dPayScale.to_csv(DataDir + 'dPayScale.csv')"
   ]
  },
  {
   "cell_type": "markdown",
   "metadata": {},
   "source": [
    "This concludes the data acquisation."
   ]
  }
 ],
 "metadata": {
  "anaconda-cloud": {},
  "kernelspec": {
   "display_name": "Python [default]",
   "language": "python",
   "name": "python2"
  },
  "language_info": {
   "codemirror_mode": {
    "name": "ipython",
    "version": 2
   },
   "file_extension": ".py",
   "mimetype": "text/x-python",
   "name": "python",
   "nbconvert_exporter": "python",
   "pygments_lexer": "ipython2",
   "version": "2.7.12"
  }
 },
 "nbformat": 4,
 "nbformat_minor": 0
}
